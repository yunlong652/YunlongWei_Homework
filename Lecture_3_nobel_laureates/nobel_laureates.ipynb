{
 "cells": [
  {
   "cell_type": "code",
   "execution_count": null,
   "metadata": {
    "vscode": {
     "languageId": "plaintext"
    }
   },
   "outputs": [],
   "source": [
    "import pandas as pd \n",
    "\n",
    "read_file = pd.read_excel (\"/Users/apple/Documents/GitHub/YunlongWei_Homework/Lecture_3_nobel_laureates/nobel.xlsx\") \n",
    "\n",
    "read_file.to_csv (\"nobel.csv\", \n",
    "\t\t\t\tindex = None, \n",
    "\t\t\t\theader=True) \n",
    "\t\n",
    "#read nobel.csv\n",
    "df = pd.DataFrame(pd.read_csv(\"nobel.csv\")) \n",
    "print(df)"
   ]
  },
  {
   "cell_type": "code",
   "execution_count": null,
   "metadata": {
    "vscode": {
     "languageId": "plaintext"
    }
   },
   "outputs": [],
   "source": [
    "infor = df.info()\n",
    "print(infor)"
   ]
  },
  {
   "cell_type": "code",
   "execution_count": null,
   "metadata": {
    "vscode": {
     "languageId": "plaintext"
    }
   },
   "outputs": [],
   "source": [
    "nobel_living = df[\n",
    "    df['country'].notna() &\n",
    "    (df['gender'] != 'org') &\n",
    "    df['died_date'].isna()        \n",
    "]\n",
    "print(nobel_living)"
   ]
  },
  {
   "cell_type": "code",
   "execution_count": null,
   "metadata": {
    "vscode": {
     "languageId": "plaintext"
    }
   },
   "outputs": [],
   "source": [
    "print(nobel_living.shape[0])"
   ]
  },
  {
   "cell_type": "code",
   "execution_count": null,
   "metadata": {
    "vscode": {
     "languageId": "plaintext"
    }
   },
   "outputs": [],
   "source": [
    "x,y = df['country'].value_counts().idxmax(), df['country'].value_counts().max()\n",
    "print(x,y)"
   ]
  }
 ],
 "metadata": {
  "language_info": {
   "name": "python"
  }
 },
 "nbformat": 4,
 "nbformat_minor": 2
}
