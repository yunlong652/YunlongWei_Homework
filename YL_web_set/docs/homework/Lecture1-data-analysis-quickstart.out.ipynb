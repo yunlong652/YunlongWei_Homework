{
  "cells": [
    {
      "cell_type": "markdown",
      "metadata": {},
      "source": [
        "# \n",
        "\n",
        "(data-quickstart)= \\# Data Analysis Quickstart\n",
        "\n",
        "## Introduction\n",
        "\n",
        "Here we’ll do a whistlestop tour of data analysis in Python using a\n",
        "structure called a *dataframe*. Dataframes do everything a spreadsheet\n",
        "does, and a *whole lot more*. At their simplest, dataframes are a\n",
        "tabular representation of data with rows and columns. The data in each\n",
        "column can be anything; text, numbers, Python objects such as lists or\n",
        "dictionaries, or even other dataframes!\n",
        "\n",
        "The ability to extract, clean, and analyse data is one of the core\n",
        "skills any economist needs. Fortunately, the (open source) tools that\n",
        "are available for data analysis have improved enormously in recent\n",
        "years, and working with them can be a delight——even the most badly\n",
        "formatted data can be beaten into shape. You may be sceptical that these\n",
        "open source tools can be as powerful as the costly, closed source tools\n",
        "you may already know: but, over time, you’ll come to see how they do\n",
        "far, far more, and do it faster too.\n",
        "\n",
        "In this chapter, we’ll see analysis on a *single* dataframe using the\n",
        "Star Wars’ characters dataset as an example. For a more thorough\n",
        "grounding in using data, see the next chapter\n",
        "({ref}`working-with-data`).\n",
        "\n",
        "This chapter uses the [**pandas**](https://pandas.pydata.org/) and\n",
        "[**numpy**](https://numpy.org/) packages. If you’re running this code,\n",
        "you may need to install these packages. The Anaconda distribution of\n",
        "Python comes with **pandas** and **numpy** installed. If you don’t have\n",
        "these installed, you can install them by running either\n",
        "`conda install packagename` or `pip install packagename` on your\n",
        "computer’s command line. You can find a brief guide to installing\n",
        "packages in {ref}`code-preliminaries`.\n",
        "\n",
        "This chapter is hugely indebted to the fantastic [Python Data Science\n",
        "Handbook](https://jakevdp.github.io/PythonDataScienceHandbook/), and\n",
        "both the **pandas**\n",
        "[documentation](https://pandas.pydata.org/docs/user_guide/index.html)\n",
        "and amazing [introductory\n",
        "tutorials](https://pandas.pydata.org/pandas-docs/stable/getting_started/intro_tutorials/index.html).\n",
        "\n",
        "## Loading data and checking datatypes\n",
        "\n",
        "First we must import the packages we’ll be using in the rest of this\n",
        "chapter."
      ],
      "id": "c3a5e381-7c00-4b63-ba06-6373fa1cca52"
    },
    {
      "cell_type": "code",
      "execution_count": 1,
      "metadata": {},
      "outputs": [
        {
          "output_type": "stream",
          "name": "stdout",
          "text": [
            "Requirement already satisfied: pandas in e:\\anaconda\\lib\\site-packages (2.2.2)\n",
            "Requirement already satisfied: numpy in e:\\anaconda\\lib\\site-packages (1.26.4)\n",
            "Requirement already satisfied: matplotlib in e:\\anaconda\\lib\\site-packages (3.8.4)\n",
            "Requirement already satisfied: python-dateutil>=2.8.2 in e:\\anaconda\\lib\\site-packages (from pandas) (2.9.0.post0)\n",
            "Requirement already satisfied: pytz>=2020.1 in e:\\anaconda\\lib\\site-packages (from pandas) (2024.1)\n",
            "Requirement already satisfied: tzdata>=2022.7 in e:\\anaconda\\lib\\site-packages (from pandas) (2023.3)\n",
            "Requirement already satisfied: contourpy>=1.0.1 in e:\\anaconda\\lib\\site-packages (from matplotlib) (1.2.0)\n",
            "Requirement already satisfied: cycler>=0.10 in e:\\anaconda\\lib\\site-packages (from matplotlib) (0.11.0)\n",
            "Requirement already satisfied: fonttools>=4.22.0 in e:\\anaconda\\lib\\site-packages (from matplotlib) (4.51.0)\n",
            "Requirement already satisfied: kiwisolver>=1.3.1 in e:\\anaconda\\lib\\site-packages (from matplotlib) (1.4.4)\n",
            "Requirement already satisfied: packaging>=20.0 in e:\\anaconda\\lib\\site-packages (from matplotlib) (23.2)\n",
            "Requirement already satisfied: pillow>=8 in e:\\anaconda\\lib\\site-packages (from matplotlib) (10.3.0)\n",
            "Requirement already satisfied: pyparsing>=2.3.1 in e:\\anaconda\\lib\\site-packages (from matplotlib) (3.0.9)\n",
            "Requirement already satisfied: six>=1.5 in e:\\anaconda\\lib\\site-packages (from python-dateutil>=2.8.2->pandas) (1.16.0)\n",
            "Note: you may need to restart the kernel to use updated packages."
          ]
        }
      ],
      "source": [
        "%pip install pandas numpy matplotlib"
      ],
      "id": "cell-2"
    },
    {
      "cell_type": "code",
      "execution_count": 2,
      "metadata": {},
      "outputs": [],
      "source": [
        "import pandas as pd\n",
        "import numpy as np\n",
        "import matplotlib.pyplot as plt"
      ],
      "id": "cell-3"
    },
    {
      "cell_type": "code",
      "execution_count": 3,
      "metadata": {},
      "outputs": [],
      "source": [
        "import pandas as pd\n",
        "import numpy as np\n",
        "import matplotlib.pyplot as plt"
      ],
      "id": "cell-4"
    },
    {
      "cell_type": "code",
      "execution_count": 4,
      "metadata": {},
      "outputs": [],
      "source": [
        "# Set seed for random numbers\n",
        "seed_for_prng = 78557\n",
        "prng = np.random.default_rng(seed_for_prng)  # prng=probabilistic random number generator\n"
      ],
      "id": "cell-5"
    },
    {
      "cell_type": "code",
      "execution_count": 5,
      "metadata": {},
      "outputs": [],
      "source": [
        "# Set seed for random numbers\n",
        "seed_for_prng = 78557\n",
        "prng = np.random.default_rng(seed_for_prng)  # prng=probabilistic random number generator"
      ],
      "id": "cell-6"
    },
    {
      "cell_type": "code",
      "execution_count": 7,
      "metadata": {},
      "outputs": [],
      "source": [
        "import matplotlib_inline.backend_inline\n",
        "\n",
        "# Plot settings\n",
        "plt.style.use(\n",
        "    \"https://github.com/aeturrell/coding-for-economists/raw/main/plot_style.txt\"\n",
        ")\n",
        "matplotlib_inline.backend_inline.set_matplotlib_formats(\"svg\")\n",
        "\n",
        "# Set max rows displayed for readability\n",
        "pd.set_option(\"display.max_rows\", 20)"
      ],
      "id": "cell-8"
    },
    {
      "cell_type": "markdown",
      "metadata": {},
      "source": [
        "Loading data into a dataframe is achieved with commands like\n",
        "`df = pd.read_csv(...)` or `df = pd.read_stata(...)`. Let’s load the\n",
        "Star Wars data from the internet:"
      ],
      "id": "8ed6ae4a-d868-490c-a97e-0328adeb30e4"
    },
    {
      "cell_type": "code",
      "execution_count": 8,
      "metadata": {},
      "outputs": [
        {
          "output_type": "stream",
          "name": "stdout",
          "text": [
            "<class 'pandas.core.frame.DataFrame'>\n",
            "Index: 82 entries, 0 to 86\n",
            "Data columns (total 8 columns):\n",
            " #   Column      Non-Null Count  Dtype  \n",
            "---  ------      --------------  -----  \n",
            " 0   name        82 non-null     object \n",
            " 1   height      77 non-null     float64\n",
            " 2   mass        58 non-null     float64\n",
            " 3   hair_color  77 non-null     object \n",
            " 4   eye_color   80 non-null     object \n",
            " 5   gender      79 non-null     object \n",
            " 6   homeworld   74 non-null     object \n",
            " 7   species     82 non-null     object \n",
            "dtypes: float64(2), object(6)\n",
            "memory usage: 5.8+ KB"
          ]
        }
      ],
      "source": [
        "df = (pd.read_csv(\n",
        "    \"https://github.com/aeturrell/coding-for-economists/raw/main/data/starwars.csv\",\n",
        "    index_col=0,\n",
        "    )\n",
        "    .dropna(subset=[\"species\"])\n",
        "    )\n",
        "# Check info about dataframe\n",
        "df.info()"
      ],
      "id": "cell-10"
    },
    {
      "cell_type": "code",
      "execution_count": 9,
      "metadata": {},
      "outputs": [
        {
          "output_type": "stream",
          "name": "stdout",
          "text": [
            "<class 'pandas.core.frame.DataFrame'>\n",
            "Index: 82 entries, 0 to 86\n",
            "Data columns (total 8 columns):\n",
            " #   Column      Non-Null Count  Dtype  \n",
            "---  ------      --------------  -----  \n",
            " 0   name        82 non-null     object \n",
            " 1   height      77 non-null     float64\n",
            " 2   mass        58 non-null     float64\n",
            " 3   hair_color  77 non-null     object \n",
            " 4   eye_color   80 non-null     object \n",
            " 5   gender      79 non-null     object \n",
            " 6   homeworld   74 non-null     object \n",
            " 7   species     82 non-null     object \n",
            "dtypes: float64(2), object(6)\n",
            "memory usage: 5.8+ KB"
          ]
        }
      ],
      "source": [
        "df = (pd.read_csv(\n",
        "    \"https://github.com/aeturrell/coding-for-economists/raw/main/data/starwars.csv\",\n",
        "    index_col=0,\n",
        "    )\n",
        "    .dropna(subset=[\"species\"])\n",
        "    )\n",
        "# Check info about dataframe\n",
        "df.info()"
      ],
      "id": "cell-11"
    },
    {
      "cell_type": "markdown",
      "metadata": {},
      "source": [
        "### Look at the first few rows with `head()`"
      ],
      "id": "db3074e6-d665-4094-8e02-9d2a8b16cdac"
    },
    {
      "cell_type": "code",
      "execution_count": 10,
      "metadata": {},
      "outputs": [
        {
          "output_type": "display_data",
          "metadata": {},
          "data": {
            "text/html": [
              "\n",
              "</div>"
            ]
          }
        }
      ],
      "source": [
        "df.head()"
      ],
      "id": "cell-13"
    },
    {
      "cell_type": "markdown",
      "metadata": {},
      "source": [
        "`` iucthgifhbja Exercise What happens if you pass a number to `head()`, eg `head(10)`? ``"
      ],
      "id": "7b545da6-c4b6-4074-9cd1-7c2bcd9e9f59"
    },
    {
      "cell_type": "code",
      "execution_count": 11,
      "metadata": {},
      "outputs": [
        {
          "output_type": "display_data",
          "metadata": {},
          "data": {
            "text/html": [
              "\n",
              "</div>"
            ]
          }
        }
      ],
      "source": [
        "df.head()"
      ],
      "id": "cell-15"
    },
    {
      "cell_type": "markdown",
      "metadata": {},
      "source": [
        "## Filter rows and columns with conditions using `df.loc[condition(s) or row(s), column(s)]`\n",
        "\n",
        "`.loc` stands for location and allows you to filter (aka subset) a\n",
        "dataframe. `.loc` works like an index, so it always comes with square\n",
        "brackets, eg `df.loc[...]`.\n",
        "\n",
        "`loc` takes two arguments. The first is a list of the names of the rows\n",
        "that you’d like to select *or* a condition (ie a list of booleans with\n",
        "the same length as the dataframe) that selects certain rows. Remember,\n",
        "you can easily create a series of booleans by checking a column against\n",
        "a condition, for example `df['column1'] == 'black'`.\n",
        "\n",
        "The second argument consists of a list of column names you’d like to\n",
        "select. In both cases, `:` is shorthand for ‘use all rows’ or ‘use all\n",
        "columns’. If you have *either* condition(s) *or* column(s) (but not\n",
        "both), you can simply write `df[condition(s)]` or `df[column(s)]`.\n",
        "\n",
        "Here’s an example with a condition built up out of two parts and a list\n",
        "of columns:"
      ],
      "id": "da286c44-705c-45a4-8cc6-cda4b5345a7c"
    },
    {
      "cell_type": "code",
      "execution_count": 12,
      "metadata": {},
      "outputs": [
        {
          "output_type": "display_data",
          "metadata": {},
          "data": {
            "text/html": [
              "\n",
              "</div>"
            ]
          }
        }
      ],
      "source": [
        "df.loc[(df[\"hair_color\"] == \"brown\") & (df[\"eye_color\"] == \"blue\"), [\"name\", \"species\"]]"
      ],
      "id": "cell-17"
    },
    {
      "cell_type": "code",
      "execution_count": 13,
      "metadata": {},
      "outputs": [
        {
          "output_type": "display_data",
          "metadata": {},
          "data": {
            "text/html": [
              "\n",
              "</div>"
            ]
          }
        }
      ],
      "source": [
        "df.loc[(df[\"hair_color\"] == \"brown\") & (df[\"eye_color\"] == \"blue\"), [\"name\", \"species\"]]"
      ],
      "id": "cell-18"
    },
    {
      "cell_type": "markdown",
      "metadata": {},
      "source": [
        "`` iucthgifhbja Exercise Using `loc`, filter the dataframe to `mass` greater than 50 for the `name` and `homeworld` columns ``"
      ],
      "id": "d2bc7284-a10a-4c57-a8c0-63c2ed39c464"
    },
    {
      "cell_type": "code",
      "execution_count": 17,
      "metadata": {},
      "outputs": [
        {
          "output_type": "display_data",
          "metadata": {},
          "data": {
            "text/html": [
              "\n",
              "<p>46 rows × 2 columns</p>\n",
              "</div>"
            ]
          }
        }
      ],
      "source": [
        "df.loc[(df['mass'] > 50), ['name', 'homeworld']]"
      ],
      "id": "cell-20"
    },
    {
      "cell_type": "code",
      "execution_count": 14,
      "metadata": {},
      "outputs": [
        {
          "output_type": "display_data",
          "metadata": {},
          "data": {
            "text/html": [
              "\n",
              "<p>46 rows × 2 columns</p>\n",
              "</div>"
            ]
          }
        }
      ],
      "source": [
        "df.loc[(df['mass'] > 50), ['name', 'homeworld']]"
      ],
      "id": "cell-21"
    },
    {
      "cell_type": "markdown",
      "metadata": {},
      "source": [
        "## Sort rows or columns with `.sort_values()`\n",
        "\n",
        "Use `sort_values(columns, ascending=False)` for descending order."
      ],
      "id": "2b71ec41-b554-48a4-b47a-45f2a865b592"
    },
    {
      "cell_type": "code",
      "execution_count": 18,
      "metadata": {},
      "outputs": [
        {
          "output_type": "display_data",
          "metadata": {},
          "data": {
            "text/html": [
              "\n",
              "<p>82 rows × 8 columns</p>\n",
              "</div>"
            ]
          }
        }
      ],
      "source": [
        "df.sort_values([\"height\", \"mass\"])"
      ],
      "id": "cell-23"
    },
    {
      "cell_type": "code",
      "execution_count": 15,
      "metadata": {},
      "outputs": [
        {
          "output_type": "display_data",
          "metadata": {},
          "data": {
            "text/html": [
              "\n",
              "<p>82 rows × 8 columns</p>\n",
              "</div>"
            ]
          }
        }
      ],
      "source": [
        "df.sort_values([\"height\", \"mass\"])"
      ],
      "id": "cell-24"
    },
    {
      "cell_type": "markdown",
      "metadata": {},
      "source": [
        "`` iucthgifhbja Exercise Using `sort_values()`, sort the dataframe by the `name` column. ``"
      ],
      "id": "65fccf14-7a0a-4266-aea6-92a3760c2d60"
    },
    {
      "cell_type": "code",
      "execution_count": 19,
      "metadata": {},
      "outputs": [
        {
          "output_type": "display_data",
          "metadata": {},
          "data": {
            "text/html": [
              "\n",
              "<p>82 rows × 8 columns</p>\n",
              "</div>"
            ]
          }
        }
      ],
      "source": [
        "df.sort_values('name')"
      ],
      "id": "cell-26"
    },
    {
      "cell_type": "code",
      "execution_count": 16,
      "metadata": {},
      "outputs": [
        {
          "output_type": "display_data",
          "metadata": {},
          "data": {
            "text/html": [
              "\n",
              "<p>82 rows × 8 columns</p>\n",
              "</div>"
            ]
          }
        }
      ],
      "source": [
        "df.sort_values('name')"
      ],
      "id": "cell-27"
    },
    {
      "cell_type": "markdown",
      "metadata": {},
      "source": [
        "## Choose multiple rows or columns using slices\n",
        "\n",
        "Slices can be passed by name using\n",
        "`.loc[startrow:stoprow:step, startcolumn:stopcolumn:step]` or by\n",
        "position using `.iloc[start:stop:step, start:stop:step]`.\n",
        "\n",
        "Choosing every 10th row from the second, and the columns between ‘name’\n",
        "and ‘gender’:"
      ],
      "id": "3a65728b-d5a8-4271-baab-ee820908ab3d"
    },
    {
      "cell_type": "code",
      "execution_count": 20,
      "metadata": {},
      "outputs": [
        {
          "output_type": "display_data",
          "metadata": {},
          "data": {
            "text/html": [
              "\n",
              "</div>"
            ]
          }
        }
      ],
      "source": [
        "df.loc[2::10, \"name\":\"gender\"]"
      ],
      "id": "cell-29"
    },
    {
      "cell_type": "code",
      "execution_count": 17,
      "metadata": {},
      "outputs": [
        {
          "output_type": "display_data",
          "metadata": {},
          "data": {
            "text/html": [
              "\n",
              "</div>"
            ]
          }
        }
      ],
      "source": [
        "df.loc[2::10, \"name\":\"gender\"]"
      ],
      "id": "cell-30"
    },
    {
      "cell_type": "markdown",
      "metadata": {},
      "source": [
        "Note that `loc` only works here with numbers for rows because it just so\n",
        "happens that the names of the rows *are* numbers. If the rows had names\n",
        "that were strings, and we wanted to subset rows by their index position,\n",
        "we would have to use `iloc` instead.\n",
        "\n",
        "Choosing the first 5 rows and the last 2 columns by index position:"
      ],
      "id": "f5f52e52-1247-4d54-8c8c-1b90cd281979"
    },
    {
      "cell_type": "code",
      "execution_count": 21,
      "metadata": {},
      "outputs": [
        {
          "output_type": "display_data",
          "metadata": {},
          "data": {
            "text/html": [
              "\n",
              "</div>"
            ]
          }
        }
      ],
      "source": [
        "df.iloc[:5, -2:]"
      ],
      "id": "cell-32"
    },
    {
      "cell_type": "code",
      "execution_count": 18,
      "metadata": {},
      "outputs": [
        {
          "output_type": "display_data",
          "metadata": {},
          "data": {
            "text/html": [
              "\n",
              "</div>"
            ]
          }
        }
      ],
      "source": [
        "df.iloc[:5, -2:]"
      ],
      "id": "cell-33"
    },
    {
      "cell_type": "markdown",
      "metadata": {},
      "source": [
        "`` iucthgifhbja Exercise Using `.iloc`, display the first 6 rows and last 6 columns. ``"
      ],
      "id": "b3bb359e-a6c4-4199-8857-651c3b2cc46f"
    },
    {
      "cell_type": "code",
      "execution_count": 22,
      "metadata": {},
      "outputs": [
        {
          "output_type": "display_data",
          "metadata": {},
          "data": {
            "text/html": [
              "\n",
              "</div>"
            ]
          }
        }
      ],
      "source": [
        "df.iloc[:6, -6:]"
      ],
      "id": "cell-35"
    },
    {
      "cell_type": "code",
      "execution_count": 19,
      "metadata": {},
      "outputs": [
        {
          "output_type": "display_data",
          "metadata": {},
          "data": {
            "text/html": [
              "\n",
              "</div>"
            ]
          }
        }
      ],
      "source": [
        "df.iloc[:6, -6:]"
      ],
      "id": "cell-36"
    },
    {
      "cell_type": "markdown",
      "metadata": {},
      "source": [
        "## Randomly selecting a sample using `.sample`\n",
        "\n",
        "`.sample(n)` randomly selects `n` rows, `.sample(frac=0.4)` selects 40%\n",
        "of the data, `replace=True` samples with replacement, and passing\n",
        "`weights=` selects a number or fraction with the probabilities given by\n",
        "the passed weights. (Note that weights passed should have the same\n",
        "length as the dataframe.)\n",
        "\n",
        "Taking a sample of 5 rows:"
      ],
      "id": "674275c1-fb32-48f7-9786-48b143906036"
    },
    {
      "cell_type": "code",
      "execution_count": 23,
      "metadata": {},
      "outputs": [
        {
          "output_type": "display_data",
          "metadata": {},
          "data": {
            "text/html": [
              "\n",
              "</div>"
            ]
          }
        }
      ],
      "source": [
        "df.sample(5)"
      ],
      "id": "cell-38"
    },
    {
      "cell_type": "code",
      "execution_count": 20,
      "metadata": {},
      "outputs": [
        {
          "output_type": "display_data",
          "metadata": {},
          "data": {
            "text/html": [
              "\n",
              "</div>"
            ]
          }
        }
      ],
      "source": [
        "df.sample(5)"
      ],
      "id": "cell-39"
    },
    {
      "cell_type": "markdown",
      "metadata": {},
      "source": [
        "`` iucthgifhbja Exercise Use `.sample()` to sample 5% of the dataframe. ``"
      ],
      "id": "fbe98c4c-564f-4299-b6af-ac3c74e856e8"
    },
    {
      "cell_type": "code",
      "execution_count": 24,
      "metadata": {},
      "outputs": [
        {
          "output_type": "display_data",
          "metadata": {},
          "data": {
            "text/html": [
              "\n",
              "</div>"
            ]
          }
        }
      ],
      "source": [
        "df.sample(frac=0.05)"
      ],
      "id": "cell-41"
    },
    {
      "cell_type": "markdown",
      "metadata": {},
      "source": [
        "## Rename with `.rename()`\n",
        "\n",
        "You can rename all columns by passing a function, for instance\n",
        "`df.rename(columns=str.lower)` to put all columns in lower case.\n",
        "Alternatively, use a dictionary to say which columns should be mapped to\n",
        "what:"
      ],
      "id": "18b70cbf-5647-4d7f-8fe3-90cb413b9ad2"
    },
    {
      "cell_type": "code",
      "execution_count": 9,
      "metadata": {},
      "outputs": [
        {
          "output_type": "display_data",
          "metadata": {},
          "data": {
            "text/html": [
              "\n",
              "<p>82 rows × 8 columns</p>\n",
              "</div>"
            ]
          }
        }
      ],
      "source": [
        "df.rename(columns={\"homeworld\": \"home_world\"})"
      ],
      "id": "cell-43"
    },
    {
      "cell_type": "code",
      "execution_count": 10,
      "metadata": {},
      "outputs": [
        {
          "output_type": "display_data",
          "metadata": {},
          "data": {
            "text/html": [
              "\n",
              "<p>82 rows × 8 columns</p>\n",
              "</div>"
            ]
          }
        }
      ],
      "source": [
        "df.rename(columns={\"homeworld\": \"home_world\"})"
      ],
      "id": "cell-44"
    },
    {
      "cell_type": "markdown",
      "metadata": {},
      "source": [
        "## Add new columns with `.assign()` or assignment\n",
        "\n",
        "Very often you will want to create new columns based on existing\n",
        "columns.\n",
        "\n",
        "![](https://pandas.pydata.org/docs/_images/05_newcolumn_1.svg)\n",
        "\n",
        "There are two ways to do this. Let’s see them both with an example where\n",
        "we’d like to create a new column that contains height in metres, called\n",
        "`\"height_m:`.\n",
        "\n",
        "-   The first, and most commonly used, is called *assignment* and\n",
        "    involves just entering the new column name within your dataframe and\n",
        "    putting it on the left-hand side of an assignment expression that\n",
        "    has an operation based on existing dataframe columns on the\n",
        "    right-hand side. For example, `df['height_m'] = df['height']/100`.\n",
        "-   The second is to use the `assign()` method on a dataframe directly.\n",
        "    In this case, the assignment statement appears inside the brackets\n",
        "    but you don’t need to write as much text because it’s clear from the\n",
        "    context that, on the left-hand side of the assignment, we’re talking\n",
        "    about the given dataframe. An example is\n",
        "    `df.assign(height_m=df[\"height\"] / 100)`.\n",
        "\n",
        "Let’s see working examples of both of these assignment methods.\n",
        "\n",
        "First let’s use the assignment approach:"
      ],
      "id": "8788f234-19e0-4737-8671-45af378fb44b"
    },
    {
      "cell_type": "code",
      "execution_count": 25,
      "metadata": {},
      "outputs": [
        {
          "output_type": "display_data",
          "metadata": {},
          "data": {
            "text/html": [
              "\n",
              "</div>"
            ]
          }
        }
      ],
      "source": [
        "df['height_m'] = df['height']/100\n",
        "df.head()"
      ],
      "id": "cell-47"
    },
    {
      "cell_type": "code",
      "execution_count": 12,
      "metadata": {},
      "outputs": [
        {
          "output_type": "display_data",
          "metadata": {},
          "data": {
            "text/html": [
              "\n",
              "</div>"
            ]
          }
        }
      ],
      "source": [
        "df['height_m'] = df['height']/100\n",
        "df.head()"
      ],
      "id": "cell-48"
    },
    {
      "cell_type": "markdown",
      "metadata": {},
      "source": [
        "And now with the `.assign()` function:"
      ],
      "id": "df699426-52de-4ba3-b57e-86d8d9797bc0"
    },
    {
      "cell_type": "code",
      "execution_count": 26,
      "metadata": {},
      "outputs": [
        {
          "output_type": "display_data",
          "metadata": {},
          "data": {
            "text/html": [
              "\n",
              "</div>"
            ]
          }
        }
      ],
      "source": [
        "df = df.assign(height_m=df[\"height\"] / 100)\n",
        "df.head()"
      ],
      "id": "cell-50"
    },
    {
      "cell_type": "code",
      "execution_count": 13,
      "metadata": {},
      "outputs": [
        {
          "output_type": "display_data",
          "metadata": {},
          "data": {
            "text/html": [
              "\n",
              "</div>"
            ]
          }
        }
      ],
      "source": [
        "df = df.assign(height_m=df[\"height\"] / 100)\n",
        "df.head()"
      ],
      "id": "cell-51"
    },
    {
      "cell_type": "markdown",
      "metadata": {},
      "source": [
        "This was added to the end; ideally, we’d like it next to the height\n",
        "column, which we can achieve by sorting the columns (`axis=1`)\n",
        "alphabetically:"
      ],
      "id": "ad505bd2-4b79-4d38-bf7e-8a7f587d6742"
    },
    {
      "cell_type": "code",
      "execution_count": 27,
      "metadata": {},
      "outputs": [
        {
          "output_type": "display_data",
          "metadata": {},
          "data": {
            "text/html": [
              "\n",
              "<p>82 rows × 9 columns</p>\n",
              "</div>"
            ]
          }
        }
      ],
      "source": [
        "(df.assign(height_m=df[\"height\"] / 100).sort_index(axis=1))"
      ],
      "id": "cell-53"
    },
    {
      "cell_type": "code",
      "execution_count": 14,
      "metadata": {},
      "outputs": [
        {
          "output_type": "display_data",
          "metadata": {},
          "data": {
            "text/html": [
              "\n",
              "<p>82 rows × 9 columns</p>\n",
              "</div>"
            ]
          }
        }
      ],
      "source": [
        "(df.assign(height_m=df[\"height\"] / 100).sort_index(axis=1))"
      ],
      "id": "cell-54"
    },
    {
      "cell_type": "markdown",
      "metadata": {},
      "source": [
        "To overwrite existing columns just use `height = df['height']/100` with\n",
        "the `assign` method or `df['height'] = df['height']/100` with an\n",
        "assignment expression.\n",
        "\n",
        "`iucthgifhbja Exercise Add a new column that gives the ratio of mass to height.`"
      ],
      "id": "9f2aadb4-9fb2-4b4f-bb54-86da1bf5c6f6"
    },
    {
      "cell_type": "code",
      "execution_count": 30,
      "metadata": {},
      "outputs": [
        {
          "output_type": "display_data",
          "metadata": {},
          "data": {
            "text/html": [
              "\n",
              "</div>"
            ]
          }
        }
      ],
      "source": [
        "df['mass_height_ratio'] = df['mass'] / df['height']\n",
        "df.head()"
      ],
      "id": "cell-57"
    },
    {
      "cell_type": "code",
      "execution_count": 15,
      "metadata": {},
      "outputs": [
        {
          "output_type": "display_data",
          "metadata": {},
          "data": {
            "text/html": [
              "\n",
              "</div>"
            ]
          }
        }
      ],
      "source": [
        "df['mass_height_ratio'] = df['mass'] / df['height']\n",
        "df.head()"
      ],
      "id": "cell-58"
    },
    {
      "cell_type": "code",
      "execution_count": 29,
      "metadata": {},
      "outputs": [
        {
          "output_type": "display_data",
          "metadata": {},
          "data": {
            "text/html": [
              "\n",
              "</div>"
            ]
          }
        }
      ],
      "source": [
        "df = df.assign(mass_height_ratio=df['mass'] / df['height'])\n",
        "df.head()"
      ],
      "id": "cell-59"
    },
    {
      "cell_type": "code",
      "execution_count": 16,
      "metadata": {},
      "outputs": [
        {
          "output_type": "display_data",
          "metadata": {},
          "data": {
            "text/html": [
              "\n",
              "</div>"
            ]
          }
        }
      ],
      "source": [
        "df = df.assign(mass_height_ratio=df['mass'] / df['height'])\n",
        "df.head()"
      ],
      "id": "cell-60"
    },
    {
      "cell_type": "markdown",
      "metadata": {},
      "source": [
        "## Summarise numerical values with `.describe()`"
      ],
      "id": "8207a8f5-66b5-416b-887d-48c2e27d4cbc"
    },
    {
      "cell_type": "code",
      "execution_count": 31,
      "metadata": {},
      "outputs": [
        {
          "output_type": "display_data",
          "metadata": {},
          "data": {
            "text/html": [
              "\n",
              "</div>"
            ]
          }
        }
      ],
      "source": [
        "df.describe()"
      ],
      "id": "cell-62"
    },
    {
      "cell_type": "code",
      "execution_count": 17,
      "metadata": {},
      "outputs": [
        {
          "output_type": "display_data",
          "metadata": {},
          "data": {
            "text/html": [
              "\n",
              "</div>"
            ]
          }
        }
      ],
      "source": [
        "df.describe()"
      ],
      "id": "cell-63"
    },
    {
      "cell_type": "markdown",
      "metadata": {},
      "source": [
        "## Group variables values with `.groupby()`"
      ],
      "id": "dda9c59d-cfb2-454f-83af-ce4427da16da"
    },
    {
      "cell_type": "code",
      "execution_count": 32,
      "metadata": {},
      "outputs": [
        {
          "output_type": "display_data",
          "metadata": {},
          "data": {
            "text/html": [
              "\n",
              "<p>37 rows × 2 columns</p>\n",
              "</div>"
            ]
          }
        }
      ],
      "source": [
        "df.groupby(\"species\")[[\"height\", \"mass\"]].mean()"
      ],
      "id": "cell-65"
    },
    {
      "cell_type": "code",
      "execution_count": 18,
      "metadata": {},
      "outputs": [
        {
          "output_type": "display_data",
          "metadata": {},
          "data": {
            "text/html": [
              "\n",
              "<p>37 rows × 2 columns</p>\n",
              "</div>"
            ]
          }
        }
      ],
      "source": [
        "df.groupby(\"species\")[[\"height\", \"mass\"]].mean()"
      ],
      "id": "cell-66"
    },
    {
      "cell_type": "markdown",
      "metadata": {},
      "source": [
        "`` iucthgifhbja Exercise Find the standard deviation (using `std()`) of masses by `homeworld`. ``"
      ],
      "id": "3328f5b2-33cf-4654-8a3c-353dd38fa4f0"
    },
    {
      "cell_type": "code",
      "execution_count": 19,
      "metadata": {},
      "outputs": [
        {
          "output_type": "display_data",
          "metadata": {},
          "data": {
            "text/plain": [
              "homeworld\n",
              "Alderaan          21.213203\n",
              "Aleen Minor             NaN\n",
              "Bespin                  NaN\n",
              "Bestine IV              NaN\n",
              "Cato Neimoidia          NaN\n",
              "                    ...    \n",
              "Troiken                 NaN\n",
              "Tund                    NaN\n",
              "Utapau                  NaN\n",
              "Vulpter                 NaN\n",
              "Zolan                   NaN\n",
              "Name: mass, Length: 47, dtype: float64"
            ]
          }
        }
      ],
      "source": [
        "df.groupby('homeworld')['mass'].std()"
      ],
      "id": "cell-68"
    },
    {
      "cell_type": "code",
      "execution_count": 20,
      "metadata": {},
      "outputs": [
        {
          "output_type": "display_data",
          "metadata": {},
          "data": {
            "text/plain": [
              "homeworld\n",
              "Alderaan          21.213203\n",
              "Aleen Minor             NaN\n",
              "Bespin                  NaN\n",
              "Bestine IV              NaN\n",
              "Cato Neimoidia          NaN\n",
              "                    ...    \n",
              "Troiken                 NaN\n",
              "Tund                    NaN\n",
              "Utapau                  NaN\n",
              "Vulpter                 NaN\n",
              "Zolan                   NaN\n",
              "Name: mass, Length: 47, dtype: float64"
            ]
          }
        }
      ],
      "source": [
        "df.groupby('homeworld')['mass'].std()"
      ],
      "id": "cell-69"
    },
    {
      "cell_type": "markdown",
      "metadata": {},
      "source": [
        "## Add transformed columns using `.transform()`\n",
        "\n",
        "Quite often, it’s useful to put a column into a dataframe that is the\n",
        "result of an intermediate groupby and aggregation. For example,\n",
        "subtracting the group mean or normalisation. Transform does this and\n",
        "*returns a transformed column with the same shape as the original\n",
        "dataframe*. Transform preserves the original index. (There are other\n",
        "methods, such as apply, that return a new dataframe with the groupby\n",
        "variables as a new index.)\n",
        "\n",
        "Below is an example of transform being used to demean a variable\n",
        "according to the mean by species. Note that we are using lambda\n",
        "functions here. Lambda functions are a quick way of writing functions\n",
        "without needing to give them a name, e.g. `lambda x: x+1` defines a\n",
        "function that adds one to x. In the example below, the `x` in the lambda\n",
        "function takes on the role of mass grouped by species."
      ],
      "id": "72b93f4f-d6b9-4450-9fc7-6a1ea303dc7d"
    },
    {
      "cell_type": "code",
      "execution_count": 34,
      "metadata": {},
      "outputs": [
        {
          "output_type": "display_data",
          "metadata": {},
          "data": {
            "text/html": [
              "\n",
              "</div>"
            ]
          }
        }
      ],
      "source": [
        "df[\"mass_demean_species\"] = df.groupby(\"species\")[\"mass\"].transform(lambda x: x - x.mean())\n",
        "df.head()"
      ],
      "id": "cell-71"
    },
    {
      "cell_type": "code",
      "execution_count": 21,
      "metadata": {},
      "outputs": [
        {
          "output_type": "display_data",
          "metadata": {},
          "data": {
            "text/html": [
              "\n",
              "</div>"
            ]
          }
        }
      ],
      "source": [
        "df[\"mass_demean_species\"] = df.groupby(\"species\")[\"mass\"].transform(lambda x: x - x.mean())\n",
        "df.head()"
      ],
      "id": "cell-72"
    },
    {
      "cell_type": "markdown",
      "metadata": {},
      "source": [
        "`` iucthgifhbja Exercise Create a `height_demean_homeworld` column that gives the height column with the mean height by homeworld subtracted. ``\n",
        "\n",
        "## Make quick charts with `.plot.*()`\n",
        "\n",
        "Including scatter, area, bar, box, density, hexbin, histogram, kde, and\n",
        "line."
      ],
      "id": "b76beeba-d762-4fbd-81aa-15f14bf2ca6a"
    },
    {
      "cell_type": "code",
      "execution_count": 42,
      "metadata": {},
      "outputs": [
        {
          "output_type": "display_data",
          "metadata": {},
          "data": {
            "image/svg+xml": "PD94bWwgdmVyc2lvbj0iMS4wIiBlbmNvZGluZz0idXRmLTgiIHN0YW5kYWxvbmU9Im5vIj8+Cjwh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\n"
          }
        }
      ],
      "source": [
        "df.plot.scatter(\"mass\", \"height\", alpha=0.5);"
      ],
      "id": "cell-75"
    },
    {
      "cell_type": "code",
      "execution_count": 22,
      "metadata": {},
      "outputs": [
        {
          "output_type": "display_data",
          "metadata": {},
          "data": {
            "image/svg+xml": "PD94bWwgdmVyc2lvbj0iMS4wIiBlbmNvZGluZz0idXRmLTgiIHN0YW5kYWxvbmU9Im5vIj8+Cjwh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\n"
          }
        }
      ],
      "source": [
        "df.plot.scatter(\"mass\", \"height\", alpha=0.5);"
      ],
      "id": "cell-76"
    },
    {
      "cell_type": "code",
      "execution_count": 43,
      "metadata": {},
      "outputs": [
        {
          "output_type": "display_data",
          "metadata": {},
          "data": {
            "image/svg+xml": "PD94bWwgdmVyc2lvbj0iMS4wIiBlbmNvZGluZz0idXRmLTgiIHN0YW5kYWxvbmU9Im5vIj8+Cjwh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\nPgogPC9kZWZzPgo8L3N2Zz4K\n"
          }
        }
      ],
      "source": [
        "df.plot.box(column=\"height\");"
      ],
      "id": "cell-77"
    },
    {
      "cell_type": "code",
      "execution_count": 23,
      "metadata": {},
      "outputs": [
        {
          "output_type": "display_data",
          "metadata": {},
          "data": {
            "image/svg+xml": "PD94bWwgdmVyc2lvbj0iMS4wIiBlbmNvZGluZz0idXRmLTgiIHN0YW5kYWxvbmU9Im5vIj8+Cjwh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\nPgogPC9kZWZzPgo8L3N2Zz4K\n"
          }
        }
      ],
      "source": [
        "df.plot.box(column=\"height\");"
      ],
      "id": "cell-78"
    },
    {
      "cell_type": "code",
      "execution_count": 25,
      "metadata": {},
      "outputs": [
        {
          "output_type": "stream",
          "name": "stdout",
          "text": [
            "Requirement already satisfied: scipy in e:\\anaconda\\lib\\site-packages (1.13.1)\n",
            "Requirement already satisfied: numpy<2.3,>=1.22.4 in e:\\anaconda\\lib\\site-packages (from scipy) (1.26.4)\n",
            "Note: you may need to restart the kernel to use updated packages."
          ]
        }
      ],
      "source": [
        "%pip install scipy"
      ],
      "id": "cell-79"
    },
    {
      "cell_type": "code",
      "execution_count": 24,
      "metadata": {},
      "outputs": [
        {
          "output_type": "stream",
          "name": "stdout",
          "text": [
            "Requirement already satisfied: scipy in e:\\anaconda\\lib\\site-packages (1.13.1)\n",
            "Requirement already satisfied: numpy<2.3,>=1.22.4 in e:\\anaconda\\lib\\site-packages (from scipy) (1.26.4)\n",
            "Note: you may need to restart the kernel to use updated packages."
          ]
        }
      ],
      "source": [
        "%pip install scipy"
      ],
      "id": "cell-80"
    },
    {
      "cell_type": "code",
      "execution_count": 46,
      "metadata": {},
      "outputs": [
        {
          "output_type": "display_data",
          "metadata": {},
          "data": {
            "image/svg+xml": "PD94bWwgdmVyc2lvbj0iMS4wIiBlbmNvZGluZz0idXRmLTgiIHN0YW5kYWxvbmU9Im5vIj8+Cjwh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\ncFBhdGg+CiA8L2RlZnM+Cjwvc3ZnPgo=\n"
          }
        }
      ],
      "source": [
        "df[\"height\"].plot.kde(bw_method=0.3);"
      ],
      "id": "cell-81"
    },
    {
      "cell_type": "markdown",
      "metadata": {},
      "source": [
        "## Export results and descriptive statistics\n",
        "\n",
        "You’ll often want to export your results to a latex file for inclusion\n",
        "in a paper, presentation, or poster. Let’s say we had some descriptive\n",
        "statistics on a dataframe:"
      ],
      "id": "f474ae75-060f-4aa5-a170-58ab535f0cfe"
    },
    {
      "cell_type": "code",
      "execution_count": 48,
      "metadata": {},
      "outputs": [
        {
          "output_type": "display_data",
          "metadata": {},
          "data": {
            "text/html": [
              "\n",
              "</div>"
            ]
          }
        }
      ],
      "source": [
        "table = df[[\"mass\", \"height\"]].agg(['mean', 'std'])\n",
        "table"
      ],
      "id": "cell-83"
    },
    {
      "cell_type": "code",
      "execution_count": 26,
      "metadata": {},
      "outputs": [
        {
          "output_type": "display_data",
          "metadata": {},
          "data": {
            "text/html": [
              "\n",
              "</div>"
            ]
          }
        }
      ],
      "source": [
        "table = df[[\"mass\", \"height\"]].agg(['mean', 'std'])\n",
        "table"
      ],
      "id": "cell-84"
    },
    {
      "cell_type": "markdown",
      "metadata": {},
      "source": [
        "You can export this to a range of formats, including string, html, xml,\n",
        "markdown, the *clipboard* (so you can paste it), Excel, and more. In\n",
        "your favourite IDE (integrated development environment) with a Python\n",
        "language server (eg Visual Studio Code, JupyterLab) start typing\n",
        "`table.to` and a list of possible methods beginning `to` should appear,\n",
        "including `to_string()`.\n",
        "\n",
        "Here is an example of exporting your **pandas** table to CSV (comma\n",
        "separated values):"
      ],
      "id": "4d950390-a6dd-47ae-81f6-5222b8403bb3"
    },
    {
      "cell_type": "code",
      "execution_count": 49,
      "metadata": {},
      "outputs": [
        {
          "output_type": "display_data",
          "metadata": {},
          "data": {
            "text/plain": [
              "',mass,height\\nmean,98.16206896551724,175.1038961038961\\nstd,170.81018276436322,34.483628615842896\\n'"
            ]
          }
        }
      ],
      "source": [
        "table.to_csv()"
      ],
      "id": "cell-86"
    },
    {
      "cell_type": "code",
      "execution_count": 27,
      "metadata": {},
      "outputs": [
        {
          "output_type": "display_data",
          "metadata": {},
          "data": {
            "text/plain": [
              "',mass,height\\r\\nmean,98.16206896551724,175.1038961038961\\r\\nstd,170.8101827643632,34.483628615842896\\r\\n'"
            ]
          }
        }
      ],
      "source": [
        "table.to_csv()"
      ],
      "id": "cell-87"
    },
    {
      "cell_type": "markdown",
      "metadata": {},
      "source": [
        "One output format that doesn’t conform to this is *LaTeX*, for which you\n",
        "need the following:\n",
        "\n",
        "Writing to the terminal isn’t that useful for getting your paper or\n",
        "report done! To export to a file, use\n",
        "`table.style.to_latex('file.tex', ...)` for LaTeX and\n",
        "`table.to_csv('file.csv', ...)`.\n",
        "\n",
        "\\`\\``iucthgifhbja Exercise Try exporting the table above using the`to_string(“table.txt”)\\`\n",
        "method.\n",
        "\n",
        "If you are running this locally, the file should appear in the directory\n",
        "in which you are running this notebook.\n",
        "\n",
        "If you are using Google Colab to do these exercises, you can check that\n",
        "the file exported by running `!ls` in a new code cell to see all files\n",
        "in the current notebook directory. To get the contents of the file you\n",
        "created, run `!cat table.txt`. \\`\\`\\`\n",
        "\n",
        "## Summary\n",
        "\n",
        "This has been a quick tour of what **pandas** can do, and shows the\n",
        "power of this ubiquitous tool, but we’ve barely seen a fraction of its\n",
        "features. The next chapter will go deeper into how to use **pandas**."
      ],
      "id": "92cbdaa8-06ab-4c0f-9559-48f0190020f3"
    }
  ],
  "nbformat": 4,
  "nbformat_minor": 5,
  "metadata": {
    "celltoolbar": "Tags",
    "kernelspec": {
      "name": "python3",
      "display_name": "Python 3 (ipykernel)",
      "language": "python"
    },
    "language_info": {
      "name": "python",
      "codemirror_mode": {
        "name": "ipython",
        "version": "3"
      },
      "file_extension": ".py",
      "mimetype": "text/x-python",
      "nbconvert_exporter": "python",
      "pygments_lexer": "ipython3",
      "version": "3.12.8"
    }
  }
}