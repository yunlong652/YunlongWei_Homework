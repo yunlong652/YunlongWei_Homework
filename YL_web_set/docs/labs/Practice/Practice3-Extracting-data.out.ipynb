{
  "cells": [
    {
      "cell_type": "markdown",
      "metadata": {},
      "source": [
        "#"
      ],
      "id": "b840ad70-9aee-4cde-a753-284f8cb0b7f4"
    },
    {
      "cell_type": "code",
      "execution_count": 1,
      "metadata": {},
      "outputs": [],
      "source": [
        "import matplotlib.pyplot as plt\n",
        "import pandas as pd\n",
        "import requests\n",
        "from bs4 import BeautifulSoup\n",
        "import textwrap"
      ],
      "id": "cell-0"
    },
    {
      "cell_type": "code",
      "execution_count": 2,
      "metadata": {},
      "outputs": [
        {
          "output_type": "display_data",
          "metadata": {},
          "data": {
            "text/html": [
              "\n",
              "</div>"
            ]
          }
        }
      ],
      "source": [
        "pd.read_csv(\n",
        "    \"https://vincentarelbundock.github.io/Rdatasets/csv/dplyr/storms.csv\", nrows=10\n",
        ")"
      ],
      "id": "cell-1"
    },
    {
      "cell_type": "code",
      "execution_count": 3,
      "metadata": {},
      "outputs": [],
      "source": [
        "import requests\n",
        "\n",
        "url = \"https://api.ons.gov.uk/timeseries/JP9Z/dataset/UNEM/data\"\n",
        "\n",
        "# Get the data from the ONS API:\n",
        "json_data = requests.get(url).json()\n",
        "\n",
        "# Prep the data for a quick plot\n",
        "title = json_data[\"description\"][\"title\"]\n",
        "df = (\n",
        "    pd.DataFrame(pd.json_normalize(json_data[\"months\"]))\n",
        "    .assign(\n",
        "        date=lambda x: pd.to_datetime(x[\"date\"]),\n",
        "        value=lambda x: pd.to_numeric(x[\"value\"]),\n",
        "    )\n",
        "    .set_index(\"date\")\n",
        ")\n",
        "\n",
        "df[\"value\"].plot(title=title, ylim=(0, df[\"value\"].max() * 1.2), lw=3.0);"
      ],
      "id": "cell-2"
    },
    {
      "cell_type": "code",
      "execution_count": 12,
      "metadata": {},
      "outputs": [
        {
          "output_type": "display_data",
          "metadata": {},
          "data": {
            "text/plain": [
              "'<!DOCTYPE html>\\n<html xmlns=\"http://www.w3.org/1999/xhtml\" lang=\"en\" xml:lang=\"en\"><head>\\n\\n<meta charset=\"utf-8\">\\n<meta name=\"generator\" content=\"quarto-1.5.56\">\\n\\n<meta name=\"viewport\" content=\"width=device-width, initial-scale=1.0, user-scalable=yes\">\\n\\n<meta name=\"author\" content=\"Arthur Turrell\">\\n'"
            ]
          }
        }
      ],
      "source": [
        "url = \"http://aeturrell.com/research\"\n",
        "page = requests.get(url)\n",
        "page.text[:300]"
      ],
      "id": "cell-3"
    },
    {
      "cell_type": "code",
      "execution_count": 13,
      "metadata": {},
      "outputs": [
        {
          "output_type": "stream",
          "name": "stdout",
          "text": [
            "       </div>\n",
            "          <div class=\"project-category\">\n",
            "           <a href=\"#category=gender pay gap\">\n",
            "            gender pay gap\n",
            "           </a>\n",
            "          </div>\n",
            "          <div class=\"project-category\">\n",
            "           <a href=\"#category=labour\">\n",
            "            labour\n",
            "           </a>\n",
            "          </div>\n",
            "          <div class=\"project-category\">\n",
            "           <a href=\"#category=text analysis\">\n",
            "            text analysis\n",
            "           </a>\n",
            "          </div>\n",
            "         </div>\n",
            "         <div class=\"project-details-listing"
          ]
        }
      ],
      "source": [
        "soup = BeautifulSoup(page.text, \"html.parser\")\n",
        "print(soup.prettify()[60000:60500])"
      ],
      "id": "cell-4"
    },
    {
      "cell_type": "code",
      "execution_count": 14,
      "metadata": {},
      "outputs": [
        {
          "output_type": "display_data",
          "metadata": {},
          "data": {
            "text/plain": [
              "<p>Botta, Federico, Robin Lovelace, Laura Gilbert, and Arthur Turrell. \"Packaging code and data for reproducible research: A case study of journey time statistics.\" <i>Environment and Planning B: Urban Analytics and City Science</i> (2024): 23998083241267331. doi: <a href=\"https://doi.org/10.1177/23998083241267331\"><code>10.1177/23998083241267331</code></a></p>"
            ]
          }
        }
      ],
      "source": [
        "# Get all paragraphs\n",
        "all_paras = soup.find_all(\"p\")\n",
        "# Just show one of the paras\n",
        "all_paras[1]"
      ],
      "id": "cell-5"
    },
    {
      "cell_type": "code",
      "execution_count": 15,
      "metadata": {},
      "outputs": [
        {
          "output_type": "display_data",
          "metadata": {},
          "data": {
            "text/plain": [
              "'Botta, Federico, Robin Lovelace, Laura Gilbert, and Arthur Turrell. \"Packaging code and data for reproducible research: A case study of journey time statistics.\" Environment and Planning B: Urban Analytics and City Science (2024): 23998083241267331. doi: 10.1177/23998083241267331'"
            ]
          }
        }
      ],
      "source": [
        "all_paras[1].text"
      ],
      "id": "cell-6"
    },
    {
      "cell_type": "code",
      "execution_count": 16,
      "metadata": {},
      "outputs": [
        {
          "output_type": "display_data",
          "metadata": {},
          "data": {
            "text/plain": [
              "['Botta, Federico, Robin Lovelace, Laura Gilbert, and Arthur Turrell. \"Packaging code and data for reproducible research: A case study of journey time statistics.\" Environment and Planning B: Urban Analytics and City Science (2024): 23998083241267331. doi: 10.1177/23998083241267331',\n",
              " 'Kalamara, Eleni, Arthur Turrell, Chris Redl, George Kapetanios, and Sujit Kapadia. \"Making text count: economic forecasting using newspaper text.\" Journal of Applied Econometrics 37, no. 5 (2022): 896-919. doi: 10.1002/jae.2907',\n",
              " 'Turrell, A., Speigner, B., Copple, D., Djumalieva, J. and Thurgood, J., 2021. Is the UK’s productivity puzzle mostly driven by occupational mismatch? An analysis using big data on job vacancies. Labour Economics, 71, p.102013. doi: 10.1016/j.labeco.2021.102013',\n",
              " 'Haldane, Andrew G., and Arthur E. Turrell. \"Drawing on different disciplines: macroeconomic agent-based models.\" Journal of Evolutionary Economics 29 (2019): 39-66. doi: 10.1007/s00191-018-0557-5']"
            ]
          }
        }
      ],
      "source": [
        "projects = soup.find_all(\"div\", class_=\"project-content listing-pub-info\")\n",
        "projects = [x.text.strip() for x in projects]\n",
        "projects[:4]"
      ],
      "id": "cell-7"
    },
    {
      "cell_type": "code",
      "execution_count": 17,
      "metadata": {},
      "outputs": [],
      "source": [
        "start, stop = 0, 50\n",
        "root_url = \"www.codingforeconomists.com/page=\"\n",
        "info_on_pages = [scraper(root_url + str(i)) for i in range(start, stop)]"
      ],
      "id": "cell-8"
    },
    {
      "cell_type": "code",
      "execution_count": 18,
      "metadata": {},
      "outputs": [
        {
          "output_type": "display_data",
          "metadata": {},
          "data": {
            "text/html": [
              "\n",
              "</div>"
            ]
          }
        }
      ],
      "source": [
        "df_list = pd.read_html(\n",
        "    \"https://simple.wikipedia.org/wiki/FIFA_World_Cup\", match=\"Sweden\"\n",
        ")\n",
        "# Retrieve first and only entry from list of dataframes\n",
        "df = df_list[0]\n",
        "df.head()"
      ],
      "id": "cell-9"
    },
    {
      "cell_type": "code",
      "execution_count": 19,
      "metadata": {},
      "outputs": [],
      "source": [
        "import pdftotext\n",
        "from pathlib import Path\n",
        "\n",
        "# Download the pdf_with_table.pdf file from\n",
        "# https://github.com/aeturrell/coding-for-economists/blob/main/data/pdf_with_table.pdf\n",
        "# and put it in a subfolder called data before running the next line\n",
        "\n",
        "# Load the PDF\n",
        "with open(Path(\"data/pdf_with_table.pdf\"), \"rb\") as f:\n",
        "    pdf = pdftotext.PDF(f)\n",
        "\n",
        "# Read all the text into one string; print a chunk of the string\n",
        "print(\"\\n\\n\".join(pdf)[:220])"
      ],
      "id": "cell-10"
    },
    {
      "cell_type": "code",
      "execution_count": 2,
      "metadata": {},
      "outputs": [
        {
          "output_type": "stream",
          "name": "stdout",
          "text": [
            "Collecting pdftotextNote: you may need to restart the kernel to use updated packages.\n",
            "\n",
            "  Downloading pdftotext-2.2.2.tar.gz (113 kB)\n",
            "  Preparing metadata (setup.py): started\n",
            "  Preparing metadata (setup.py): finished with status 'done'\n",
            "Building wheels for collected packages: pdftotext\n",
            "  Building wheel for pdftotext (setup.py): started\n",
            "  Building wheel for pdftotext (setup.py): finished with status 'error'\n",
            "  Running setup.py clean for pdftotext\n",
            "Failed to build pdftotext"
          ]
        },
        {
          "output_type": "stream",
          "name": "stderr",
          "text": [
            "  error: subprocess-exited-with-error\n",
            "  \n",
            "  × python setup.py bdist_wheel did not run successfully.\n",
            "  │ exit code: 1\n",
            "  ╰─> [13 lines of output]\n",
            "      WARNING: pkg-config not found--guessing at poppler version.\n",
            "               If the build fails, install pkg-config and try again.\n",
            "      WARNING: pkg-config not found--guessing at poppler version.\n",
            "               If the build fails, install pkg-config and try again.\n",
            "      WARNING: pkg-config not found--guessing at poppler version.\n",
            "               If the build fails, install pkg-config and try again.\n",
            "      c:\\Users\\HP\\anaconda3\\Lib\\site-packages\\setuptools\\_distutils\\dist.py:261: UserWarning: Unknown distribution option: 'test_suite'\n",
            "        warnings.warn(msg)\n",
            "      running bdist_wheel\n",
            "      running build\n",
            "      running build_ext\n",
            "      building 'pdftotext' extension\n",
            "      error: Microsoft Visual C++ 14.0 or greater is required. Get it with \"Microsoft C++ Build Tools\": https://visualstudio.microsoft.com/visual-cpp-build-tools/\n",
            "      [end of output]\n",
            "  \n",
            "  note: This error originates from a subprocess, and is likely not a problem with pip.\n",
            "  ERROR: Failed building wheel for pdftotext\n",
            "ERROR: ERROR: Failed to build installable wheels for some pyproject.toml based projects (pdftotext)"
          ]
        }
      ],
      "source": [
        "%pip install pdftotext"
      ],
      "id": "cell-11"
    }
  ],
  "nbformat": 4,
  "nbformat_minor": 5,
  "metadata": {
    "kernelspec": {
      "name": "python3",
      "display_name": "base",
      "language": "python"
    },
    "language_info": {
      "name": "python",
      "codemirror_mode": {
        "name": "ipython",
        "version": "3"
      },
      "file_extension": ".py",
      "mimetype": "text/x-python",
      "nbconvert_exporter": "python",
      "pygments_lexer": "ipython3",
      "version": "3.12.7"
    }
  }
}