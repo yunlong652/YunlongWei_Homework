{
 "cells": [
  {
   "cell_type": "code",
   "execution_count": 1,
   "metadata": {},
   "outputs": [
    {
     "name": "stdout",
     "output_type": "stream",
     "text": [
      "Requirement already satisfied: requests in c:\\users\\hp\\anaconda3\\lib\\site-packages (2.32.3)\n",
      "Requirement already satisfied: beautifulsoup4 in c:\\users\\hp\\anaconda3\\lib\\site-packages (4.12.3)\n",
      "Requirement already satisfied: charset-normalizer<4,>=2 in c:\\users\\hp\\anaconda3\\lib\\site-packages (from requests) (3.3.2)\n",
      "Requirement already satisfied: idna<4,>=2.5 in c:\\users\\hp\\anaconda3\\lib\\site-packages (from requests) (3.7)\n",
      "Requirement already satisfied: urllib3<3,>=1.21.1 in c:\\users\\hp\\anaconda3\\lib\\site-packages (from requests) (2.2.3)\n",
      "Requirement already satisfied: certifi>=2017.4.17 in c:\\users\\hp\\anaconda3\\lib\\site-packages (from requests) (2024.8.30)\n",
      "Requirement already satisfied: soupsieve>1.2 in c:\\users\\hp\\anaconda3\\lib\\site-packages (from beautifulsoup4) (2.5)\n",
      "Note: you may need to restart the kernel to use updated packages.\n"
     ]
    }
   ],
   "source": [
    "%pip install requests beautifulsoup4\n"
   ]
  },
  {
   "cell_type": "code",
   "execution_count": 1,
   "metadata": {},
   "outputs": [
    {
     "name": "stdout",
     "output_type": "stream",
     "text": [
      "网页内容加载成功！\n"
     ]
    }
   ],
   "source": [
    "import requests\n",
    " \n",
    "# 定义请求的 URL 和 headers\n",
    "url = \"https://movie.douban.com/top250\"\n",
    "headers = {\n",
    "    \"User-Agent\": \"Mozilla/5.0 (Windows NT 10.0; Win64; x64) AppleWebKit/537.36 (KHTML, like Gecko) Chrome/91.0.4472.124 Safari/537.36\"\n",
    "}\n",
    " \n",
    "# 发送 GET 请求\n",
    "response = requests.get(url, headers=headers)\n",
    "response.encoding = 'utf-8'  # 设置编码方式\n",
    "html_content = response.text  # 获取网页的 HTML 内容\n",
    "print(\"网页内容加载成功！\")"
   ]
  },
  {
   "cell_type": "code",
   "execution_count": 2,
   "metadata": {},
   "outputs": [
    {
     "name": "stdout",
     "output_type": "stream",
     "text": [
      "数据提取成功！\n"
     ]
    }
   ],
   "source": [
    "from bs4 import BeautifulSoup\n",
    " \n",
    "# 使用 Beautiful Soup 解析 HTML\n",
    "soup = BeautifulSoup(html_content, 'html.parser')\n",
    " \n",
    "# 提取电影名称、描述、评分和评价人数\n",
    "movies = []\n",
    "for item in soup.find_all('div', class_='item'):\n",
    "    title = item.find('span', class_='title').get_text()  # 电影名称\n",
    "    description = item.find('span', class_='inq')  # 电影描述\n",
    "    rating = item.find('span', class_='rating_num').get_text()  # 评分\n",
    "    votes = item.find('div', class_='star').find_all('span')[3].get_text()  # 评价人数\n",
    "    \n",
    "    # 如果没有描述，将其置为空字符串\n",
    "    if description:\n",
    "        description = description.get_text()\n",
    "    else:\n",
    "        description = ''\n",
    "    \n",
    "    movie = {\n",
    "        \"title\": title,\n",
    "        \"description\": description,\n",
    "        \"rating\": rating,\n",
    "        \"votes\": votes.replace('人评价', '').strip()\n",
    "    }\n",
    "    movies.append(movie)\n",
    " \n",
    "print(\"数据提取成功！\")"
   ]
  },
  {
   "cell_type": "code",
   "execution_count": 3,
   "metadata": {},
   "outputs": [
    {
     "name": "stdout",
     "output_type": "stream",
     "text": [
      "数据已成功保存到 douban_top250.csv\n"
     ]
    }
   ],
   "source": [
    "import csv\n",
    " \n",
    "# 将数据保存到 CSV 文件\n",
    "with open('douban_top250.csv', 'w', newline='', encoding='utf-8') as csvfile:\n",
    "    fieldnames = ['title', 'description', 'rating', 'votes']\n",
    "    writer = csv.DictWriter(csvfile, fieldnames=fieldnames)\n",
    " \n",
    "    writer.writeheader()  # 写入表头\n",
    "    for movie in movies:\n",
    "        writer.writerow(movie)  # 写入每一行数据\n",
    " \n",
    "print(\"数据已成功保存到 douban_top250.csv\")"
   ]
  }
 ],
 "metadata": {
  "kernelspec": {
   "display_name": "base",
   "language": "python",
   "name": "python3"
  },
  "language_info": {
   "codemirror_mode": {
    "name": "ipython",
    "version": 3
   },
   "file_extension": ".py",
   "mimetype": "text/x-python",
   "name": "python",
   "nbconvert_exporter": "python",
   "pygments_lexer": "ipython3",
   "version": "3.12.7"
  }
 },
 "nbformat": 4,
 "nbformat_minor": 2
}
