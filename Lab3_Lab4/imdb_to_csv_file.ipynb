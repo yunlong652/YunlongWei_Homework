{
 "cells": [
  {
   "cell_type": "code",
   "execution_count": 1,
   "metadata": {},
   "outputs": [],
   "source": [
    "from bs4 import BeautifulSoup\n",
    "import requests\n",
    "import re\n",
    "import pandas as pd\n",
    "\n",
    "\n",
    "# Downloading imdb top 250 movie's data\n",
    "url = 'http://www.imdb.com/chart/top'\n",
    "response = requests.get(url)\n",
    "soup = BeautifulSoup(response.text, \"html.parser\")\n",
    "movies = soup.select('td.titleColumn')\n",
    "crew = [a.attrs.get('title') for a in soup.select('td.titleColumn a')]\n",
    "ratings = [b.attrs.get('data-value')\n",
    "\t\tfor b in soup.select('td.posterColumn span[name=ir]')]\n",
    "\n",
    "\n",
    "\n",
    "\n",
    "# create a empty list for storing\n",
    "# movie information\n",
    "list = []\n",
    "\n",
    "# Iterating over movies to extract\n",
    "# each movie's details\n",
    "for index in range(0, len(movies)):\n",
    "\t\n",
    "\t# Separating movie into: 'place',\n",
    "\t# 'title', 'year'\n",
    "\tmovie_string = movies[index].get_text()\n",
    "\tmovie = (' '.join(movie_string.split()).replace('.', ''))\n",
    "\tmovie_title = movie[len(str(index))+1:-7]\n",
    "\tyear = re.search('\\((.*?)\\)', movie_string).group(1)\n",
    "\tplace = movie[:len(str(index))-(len(movie))]\n",
    "\tdata = {\"place\": place,\n",
    "\t\t\t\"movie_title\": movie_title,\n",
    "\t\t\t\"rating\": ratings[index],\n",
    "\t\t\t\"year\": year,\n",
    "\t\t\t\"star_cast\": crew[index],\n",
    "\t\t\t}\n",
    "\tlist.append(data)\n",
    "\n",
    "# printing movie details with its rating.\n",
    "for movie in list:\n",
    "\tprint(movie['place'], '-', movie['movie_title'], '('+movie['year'] +\n",
    "\t\t') -', 'Starring:', movie['star_cast'], movie['rating'])\n",
    "\n",
    "\n",
    "##.......##\n",
    "df = pd.DataFrame(list)\n",
    "df.to_csv('imdb_top_250_movies.csv',index=False)\n"
   ]
  }
 ],
 "metadata": {
  "kernelspec": {
   "display_name": ".venv",
   "language": "python",
   "name": "python3"
  },
  "language_info": {
   "codemirror_mode": {
    "name": "ipython",
    "version": 3
   },
   "file_extension": ".py",
   "mimetype": "text/x-python",
   "name": "python",
   "nbconvert_exporter": "python",
   "pygments_lexer": "ipython3",
   "version": "3.10.7"
  }
 },
 "nbformat": 4,
 "nbformat_minor": 2
}
