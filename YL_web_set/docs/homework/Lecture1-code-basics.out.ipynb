{
  "cells": [
    {
      "cell_type": "markdown",
      "metadata": {},
      "source": [
        "# \n",
        "\n",
        "(code-basics)= \\# Coding Basics\n",
        "\n",
        "In this chapter, you’ll learn about the basics of objects, types,\n",
        "operations, conditions, loops, functions, and imports. These are the\n",
        "basic building blocks of almost all programming languages and will serve\n",
        "you well for your coding and economics journey.\n",
        "\n",
        "This chapter has benefited from the excellent [*Python Programming for\n",
        "Data\n",
        "Science*](https://www.tomasbeuzen.com/python-programming-for-data-science/README.html)\n",
        "book by Tomas Beuzen.\n",
        "\n",
        "``` {tip}\n",
        "Remember, you can launch this page interactively by using the 'Colab' button under the rocket symbol (<i class=\"fas fa-rocket\"></i>) at the top of the page. You can also download this page as a Jupyter Notebook to run on your own computer: use the 'download .ipynb' button under the download symbol the top of the page and open that file using Visual Studio Code.\n",
        "```\n",
        "\n",
        "## If you get stuck\n",
        "\n",
        "It’s worth saying at the outset that *no-one* memorises half of the\n",
        "stuff you’ll see in this book. 80% or more of time spent programming is\n",
        "actually time spent looking up how to do this or that online,\n",
        "‘debugging’ a code for errors, or testing code. This applies to all\n",
        "programmers, regardless of level. You are here to learn the skills and\n",
        "concepts of programming, not the precise syntax (which is easy to look\n",
        "up later).\n",
        "\n",
        "<figure>\n",
        "<img src=\"https://imgs.xkcd.com/comics/wisdom_of_the_ancients.png\"\n",
        "alt=\"xkcd-what-did-you-see\" />\n",
        "<figcaption aria-hidden=\"true\">xkcd-what-did-you-see</figcaption>\n",
        "</figure>\n",
        "\n",
        "Knowing how to Google is one of the most important skills of any coder.\n",
        "No-one remembers every function from every library. Here are some useful\n",
        "coding resources:\n",
        "\n",
        "-   when you have an error, look on Stack Overflow to see if anyone else\n",
        "    had the same error (they probably did) and how they overcame it.\n",
        "\n",
        "-   if you’re having trouble navigating a new package or library, look\n",
        "    up the documentation online. The best libraries put as much effort\n",
        "    into documentation as they do the code base.\n",
        "\n",
        "-   use cheat sheets to get on top of a range of functionality quickly.\n",
        "    For instance, this excellent (mostly) base Python [Cheat\n",
        "    Sheet](https://gto76.github.io/python-cheatsheet/).\n",
        "\n",
        "-   if you’re having a coding issue, take a walk to think about the\n",
        "    problem, or explain your problem to an animal toy on your desk\n",
        "    ([traditionally](https://en.wikipedia.org/wiki/Rubber_duck_debugging)\n",
        "    a rubber duck, but other animals are available).\n",
        "\n",
        "## Coding Basics\n",
        "\n",
        "Let’s review some basics in the interests of getting you up to speed as\n",
        "quickly as possible. You can use Python as a calculator:"
      ],
      "id": "c0fcc527-5d89-46d0-ae42-db17faffaba6"
    },
    {
      "cell_type": "code",
      "execution_count": 116,
      "metadata": {},
      "outputs": [
        {
          "output_type": "stream",
          "name": "stdout",
          "text": [
            "0.15\n",
            "44.666666666666664"
          ]
        }
      ],
      "source": [
        "print(1 / 200 * 30)\n",
        "print((59 + 73 + 2) / 3)"
      ],
      "id": "23465996"
    },
    {
      "cell_type": "code",
      "execution_count": 117,
      "metadata": {},
      "outputs": [
        {
          "output_type": "stream",
          "name": "stdout",
          "text": [
            "0.15\n",
            "44.666666666666664"
          ]
        }
      ],
      "source": [
        "print(1 / 200 * 30)\n",
        "print((59 + 73 + 2) / 3)"
      ],
      "id": "dcd96a53"
    },
    {
      "cell_type": "markdown",
      "metadata": {},
      "source": [
        "The extra package **numpy** contains many of the additional mathematical\n",
        "operators that you might need. If you don’t already have **numpy**\n",
        "installed, open up the terminal in Visual Studio Code (go to “Terminal\n",
        "-\\> New Terminal” and then type `pip install numpy` into the terminal\n",
        "then hit return). Once you have **numpy** installed, you can import it\n",
        "and use it like this:"
      ],
      "id": "78dcf5e4-5479-4796-a652-7db1aa648cdd"
    },
    {
      "cell_type": "code",
      "execution_count": 118,
      "metadata": {},
      "outputs": [
        {
          "output_type": "stream",
          "name": "stdout",
          "text": [
            "1.0"
          ]
        }
      ],
      "source": [
        "import numpy as np\n",
        "\n",
        "print(np.sin(np.pi / 2))"
      ],
      "id": "bdd3c2c0"
    },
    {
      "cell_type": "code",
      "execution_count": 119,
      "metadata": {},
      "outputs": [
        {
          "output_type": "stream",
          "name": "stdout",
          "text": [
            "1.0"
          ]
        }
      ],
      "source": [
        "import numpy as np\n",
        "\n",
        "print(np.sin(np.pi / 2))"
      ],
      "id": "214248d9"
    },
    {
      "cell_type": "markdown",
      "metadata": {},
      "source": [
        "You can create new objects with the assignment operator `=`. You should\n",
        "think of this as copying the value of whatever is on the right-hand side\n",
        "into the variable on the left-hand side."
      ],
      "id": "bfd69e89-9fad-42d5-93f2-4bb263c3bb0d"
    },
    {
      "cell_type": "code",
      "execution_count": 120,
      "metadata": {},
      "outputs": [
        {
          "output_type": "stream",
          "name": "stdout",
          "text": [
            "12"
          ]
        }
      ],
      "source": [
        "x = 3 * 4\n",
        "print(x)"
      ],
      "id": "cead1264"
    },
    {
      "cell_type": "code",
      "execution_count": 121,
      "metadata": {},
      "outputs": [
        {
          "output_type": "stream",
          "name": "stdout",
          "text": [
            "12"
          ]
        }
      ],
      "source": [
        "x = 3 * 4\n",
        "print(x)"
      ],
      "id": "bc31358f"
    },
    {
      "cell_type": "markdown",
      "metadata": {},
      "source": [
        "There are several structures in Python that capture multiple objects\n",
        "simultaneously but perhaps the most common is the *list*, which is\n",
        "designated by *square brackets*."
      ],
      "id": "260a7da3-b876-429f-911b-c648278ed13c"
    },
    {
      "cell_type": "code",
      "execution_count": 122,
      "metadata": {},
      "outputs": [
        {
          "output_type": "stream",
          "name": "stdout",
          "text": [
            "[1, 2, 3, 5, 7, 11, 13]"
          ]
        }
      ],
      "source": [
        "primes = [1, 2, 3, 5, 7, 11, 13]\n",
        "print(primes)"
      ],
      "id": "91a44d83"
    },
    {
      "cell_type": "code",
      "execution_count": 123,
      "metadata": {},
      "outputs": [
        {
          "output_type": "stream",
          "name": "stdout",
          "text": [
            "[1, 2, 3, 5, 7, 11, 13]"
          ]
        }
      ],
      "source": [
        "primes = [1, 2, 3, 5, 7, 11, 13]\n",
        "print(primes)"
      ],
      "id": "6a49f090"
    },
    {
      "cell_type": "markdown",
      "metadata": {},
      "source": [
        "All Python statements where you create objects (known as *assignment*\n",
        "statements) have the same form:\n",
        "\n",
        "    object_name = value\n",
        "\n",
        "When reading that code, say “object name gets value” in your head.\n",
        "\n",
        "## Comments\n",
        "\n",
        "Python will ignore any text after `#`. This allows to you to write\n",
        "**comments**, text that is ignored by Python but can be read by other\n",
        "humans. We’ll sometimes include comments in examples explaining what’s\n",
        "happening with the code.\n",
        "\n",
        "Comments can be helpful for briefly describing what the subsequent code\n",
        "does."
      ],
      "id": "6393e139-15da-41dd-a424-6da6fb5ed642"
    },
    {
      "cell_type": "code",
      "execution_count": 124,
      "metadata": {},
      "outputs": [
        {
          "output_type": "display_data",
          "metadata": {},
          "data": {
            "text/plain": [
              "[2, 4, 6, 10, 14, 22, 26]"
            ]
          }
        }
      ],
      "source": [
        "# define primes\n",
        "primes = [1, 2, 3, 5, 7, 11, 13]\n",
        "# multiply primes by 2\n",
        "[el * 2 for el in primes]"
      ],
      "id": "c061f9cc"
    },
    {
      "cell_type": "code",
      "execution_count": 125,
      "metadata": {},
      "outputs": [
        {
          "output_type": "display_data",
          "metadata": {},
          "data": {
            "text/plain": [
              "[2, 4, 6, 10, 14, 22, 26]"
            ]
          }
        }
      ],
      "source": [
        "# define primes\n",
        "primes = [1, 2, 3, 5, 7, 11, 13]\n",
        "# multiply primes by 2\n",
        "[el * 2 for el in primes]"
      ],
      "id": "308c64ba"
    },
    {
      "cell_type": "markdown",
      "metadata": {},
      "source": [
        "With short pieces of code like this, it is not necessary to leave a\n",
        "command for every single line of code and you should try to use\n",
        "informative names wherever you can because these help readers of your\n",
        "code (likely to be you in the future) understand what is going on!\n",
        "\n",
        "## Keeping Track of Variables\n",
        "\n",
        "You can always inspect an already-created object by typing its name into\n",
        "the interactive window:"
      ],
      "id": "c8be8be3-37d1-425e-9b7f-cf6c9acb2f45"
    },
    {
      "cell_type": "code",
      "execution_count": 126,
      "metadata": {},
      "outputs": [
        {
          "output_type": "display_data",
          "metadata": {},
          "data": {
            "text/plain": [
              "[1, 2, 3, 5, 7, 11, 13]"
            ]
          }
        }
      ],
      "source": [
        "primes"
      ],
      "id": "e77540e0"
    },
    {
      "cell_type": "code",
      "execution_count": 127,
      "metadata": {},
      "outputs": [
        {
          "output_type": "display_data",
          "metadata": {},
          "data": {
            "text/plain": [
              "[1, 2, 3, 5, 7, 11, 13]"
            ]
          }
        }
      ],
      "source": [
        "primes"
      ],
      "id": "01251231"
    },
    {
      "cell_type": "markdown",
      "metadata": {},
      "source": [
        "If you want to know what *type* of object it is, use `type(object)` in\n",
        "the interactive window like this:"
      ],
      "id": "fc6afb91-2d48-4a70-a715-e0212e8a57ba"
    },
    {
      "cell_type": "code",
      "execution_count": 128,
      "metadata": {},
      "outputs": [
        {
          "output_type": "display_data",
          "metadata": {},
          "data": {
            "text/plain": [
              "list"
            ]
          }
        }
      ],
      "source": [
        "type(primes)"
      ],
      "id": "9dd0fd49"
    },
    {
      "cell_type": "code",
      "execution_count": 129,
      "metadata": {},
      "outputs": [
        {
          "output_type": "display_data",
          "metadata": {},
          "data": {
            "text/plain": [
              "list"
            ]
          }
        }
      ],
      "source": [
        "type(primes)"
      ],
      "id": "7016a8b2"
    },
    {
      "cell_type": "markdown",
      "metadata": {},
      "source": [
        "Visual Studio Code has some powerful features to help you keep track of\n",
        "objects:\n",
        "\n",
        "1.  At the top of your interactive window, you should see a ‘Variables’\n",
        "    button. Click it to see a panel appear with all variables that\n",
        "    you’ve defined.\n",
        "2.  Hover your mouse over variables you’ve previously entered into the\n",
        "    interactive window; you will see a pop-up that tells you what type\n",
        "    of object it is.\n",
        "3.  If you start typing a variable name into the interactive window,\n",
        "    Visual Studio Code will try to auto-complete the name for you. Press\n",
        "    the ‘tab’ key on your keyboard to accept the top option.\n",
        "\n",
        "## Calling Functions\n",
        "\n",
        "If you’re an economist, you hardly need to be told you what a function\n",
        "is. In coding, it’s much the same as in mathematics: a function has\n",
        "inputs, it performs its function, and it returns any outputs. Python has\n",
        "a large number of built-in functions. You can also import functions from\n",
        "packages (like we did with `np.sin`) or define your own.\n",
        "\n",
        "In coding, a function has inputs, it performs its function, and it\n",
        "returns any outputs. Let’s see a simple example of using a built-in\n",
        "function, `sum()`:"
      ],
      "id": "eb64ec7d-4cc1-4c71-a208-f47d351296ab"
    },
    {
      "cell_type": "code",
      "execution_count": 130,
      "metadata": {},
      "outputs": [
        {
          "output_type": "display_data",
          "metadata": {},
          "data": {
            "text/plain": [
              "42"
            ]
          }
        }
      ],
      "source": [
        "sum(primes)"
      ],
      "id": "97af119d"
    },
    {
      "cell_type": "code",
      "execution_count": 131,
      "metadata": {},
      "outputs": [
        {
          "output_type": "display_data",
          "metadata": {},
          "data": {
            "text/plain": [
              "42"
            ]
          }
        }
      ],
      "source": [
        "sum(primes)\n"
      ],
      "id": "f95b46f8"
    },
    {
      "cell_type": "markdown",
      "metadata": {},
      "source": [
        "The general structure of functions is the function name, followed by\n",
        "brackets, followed by one or more arguments. Sometimes there will also\n",
        "be *keyword arguments*. For example, `sum()` comes with a keyword\n",
        "argument that tells the function to start counting from a specific\n",
        "number. Let’s see this in action by starting from ten:"
      ],
      "id": "0379f136-466e-419c-b0b1-de125da5bda9"
    },
    {
      "cell_type": "code",
      "execution_count": 132,
      "metadata": {},
      "outputs": [
        {
          "output_type": "display_data",
          "metadata": {},
          "data": {
            "text/plain": [
              "52"
            ]
          }
        }
      ],
      "source": [
        "sum(primes, start=10)"
      ],
      "id": "14ce9b99"
    },
    {
      "cell_type": "code",
      "execution_count": 133,
      "metadata": {},
      "outputs": [
        {
          "output_type": "display_data",
          "metadata": {},
          "data": {
            "text/plain": [
              "52"
            ]
          }
        }
      ],
      "source": [
        "sum(primes, start=10)"
      ],
      "id": "8e9f63e0"
    },
    {
      "cell_type": "markdown",
      "metadata": {},
      "source": [
        "If you’re ever unsure of what a function does, you can call `help()` on\n",
        "it (itself a function):"
      ],
      "id": "8c005e29-2e45-4177-9a5e-ebb273b24be1"
    },
    {
      "cell_type": "code",
      "execution_count": 134,
      "metadata": {},
      "outputs": [
        {
          "output_type": "stream",
          "name": "stdout",
          "text": [
            "Help on built-in function sum in module builtins:\n",
            "\n",
            "sum(iterable, /, start=0)\n",
            "    Return the sum of a 'start' value (default: 0) plus an iterable of numbers\n",
            "\n",
            "    When the iterable is empty, return the start value.\n",
            "    This function is intended specifically for use with numeric values and may\n",
            "    reject non-numeric types.\n"
          ]
        }
      ],
      "source": [
        "help(sum)"
      ],
      "id": "f5e45616"
    },
    {
      "cell_type": "code",
      "execution_count": 135,
      "metadata": {},
      "outputs": [
        {
          "output_type": "stream",
          "name": "stdout",
          "text": [
            "Help on built-in function sum in module builtins:\n",
            "\n",
            "sum(iterable, /, start=0)\n",
            "    Return the sum of a 'start' value (default: 0) plus an iterable of numbers\n",
            "\n",
            "    When the iterable is empty, return the start value.\n",
            "    This function is intended specifically for use with numeric values and may\n",
            "    reject non-numeric types.\n"
          ]
        }
      ],
      "source": [
        "help(sum)"
      ],
      "id": "48911ff5"
    },
    {
      "cell_type": "markdown",
      "metadata": {},
      "source": [
        "Or, in Visual Studio Code, hover your mouse over the function name.\n",
        "\n",
        "\\`\\`\\`\\`wmyohimxaphj Exercise\n",
        "\n",
        "Why does this code not work?\n",
        "\n",
        "``` python\n",
        "my_variable = 10\n",
        "my_varıable\n",
        "```\n",
        "\n",
        "Look carefully! This may seem like an exercise in pointlessness, but\n",
        "training your brain to notice even the tiniest difference will pay off\n",
        "when programming.\n",
        "\n",
        "\n",
        "    ## Values, variables, and types\n",
        "\n",
        "    A value is datum such as a number or text. There are different types of values: 352.3 is known as a float or double, 22 is an integer, and \"Hello World!\" is a string. A variable is a name that refers to a value: you can think of a variable as a box that has a value, or multiple values, packed inside it. \n",
        "\n",
        "    Almost any word can be a variable name as long as it starts with a letter or an underscore, although there are some special keywords that can't be used because they already have a role in the Python language: these include `if`, `while`, `class`, and `lambda`.\n",
        "\n",
        "    Creating a variable in Python is achieved via an assignment (putting a value in the box), and this assignment is done via the `=` operator. The box, or variable, goes on the left while the value we wish to store appears on the right. It's simpler than it sounds:\n",
        "\n",
        "    ::: {#209ef434 .cell execution_count=136}\n",
        "    ``` {.python .cell-code}\n",
        "    a = 10\n",
        "    print(a)\n",
        "    ```\n",
        "\n",
        "    ::: {.cell-output .cell-output-stdout}\n",
        "    ```\n",
        "    10\n",
        "    ```\n",
        "    :::\n",
        "    :::\n",
        "\n",
        "\n",
        "    ::: {#9fb86f40 .cell execution_count=137}\n",
        "    ``` {.python .cell-code}\n",
        "    a = 10\n",
        "    print(a)\n",
        "    ```\n",
        "\n",
        "    ::: {.cell-output .cell-output-stdout}\n",
        "    ```\n",
        "    10\n",
        "    ```\n",
        "    :::\n",
        "    :::\n",
        "\n",
        "\n",
        "    This creates a variable `a`, assigns the value 10 to it, and prints it. Sometimes you will hear variables referred to as *objects*. Everything that is not a literal value, such as `10`, is an object. In the above example, `a` is an object that has been assigned the value `10`.\n",
        "\n",
        "    How about this:\n",
        "\n",
        "    ::: {#63c32d9b .cell execution_count=138}\n",
        "    ``` {.python .cell-code}\n",
        "    b = \"This is a string\"\n",
        "    print(b)\n",
        "    ```\n",
        "\n",
        "    ::: {.cell-output .cell-output-stdout}\n",
        "    ```\n",
        "    This is a string\n",
        "    ```\n",
        "    :::\n",
        "    :::\n",
        "\n",
        "\n",
        "    ::: {#3ae64a36 .cell execution_count=139}\n",
        "    ``` {.python .cell-code}\n",
        "    b = \"This is a string\"\n",
        "    print(b)\n",
        "    ```\n",
        "\n",
        "    ::: {.cell-output .cell-output-stdout}\n",
        "    ```\n",
        "    This is a string\n",
        "    ```\n",
        "    :::\n",
        "    :::\n",
        "\n",
        "\n",
        "    It's the same thing but with a different **type** of data, a string instead of an integer. Python is *dynamically typed*, which means it will guess what type of variable you're creating as you create it. This has pros and cons, with the main pro being that it makes for more concise code.\n",
        "\n",
        "    ```{admonition} Important\n",
        "    Everything is an object, and every object has a type.\n",
        "    ```\n",
        "\n",
        "    The most basic built-in data types that you'll need to know about are: integers `10`, floats `1.23`, strings `like this`, booleans `True`, and nothing `None`. Python also has a built-in type called a list `[10, 15, 20]` that can contain anything, even *different* types. So\n",
        "\n",
        "    ::: {#ad23883a .cell execution_count=140}\n",
        "    ``` {.python .cell-code}\n",
        "    list_example = [10, 1.23, \"like this\", True, None]\n",
        "    print(list_example)\n",
        "    ```\n",
        "\n",
        "    ::: {.cell-output .cell-output-stdout}\n",
        "    ```\n",
        "    [10, 1.23, 'like this', True, None]\n",
        "    ```\n",
        "    :::\n",
        "    :::\n",
        "\n",
        "\n",
        "    ::: {#0bdc4bf2 .cell execution_count=141}\n",
        "    ``` {.python .cell-code}\n",
        "    list_example = [10, 1.23, \"like this\", True, None]\n",
        "    print(list_example)\n",
        "    ```\n",
        "\n",
        "    ::: {.cell-output .cell-output-stdout}\n",
        "    ```\n",
        "    [10, 1.23, 'like this', True, None]\n",
        "    ```\n",
        "    :::\n",
        "    :::\n",
        "\n",
        "\n",
        "    is completely valid code. `None` is a special type of nothingness, and represents an object with no value. It has type `NoneType` and is more useful than you might think! \n",
        "\n",
        "    As well as the built-in types, packages can define their own custom types. If you ever want to check the type of a Python variable, you can call the `type()` function on it like so:\n",
        "\n",
        "    ::: {#46a517ee .cell execution_count=142}\n",
        "    ``` {.python .cell-code}\n",
        "    type(list_example)\n",
        "    ```\n",
        "\n",
        "    ::: {.cell-output .cell-output-display execution_count=142}\n",
        "    ```\n",
        "    list\n",
        "    ```\n",
        "    :::\n",
        "    :::\n",
        "\n",
        "\n",
        "    This is especially useful for debugging `ValueError` messages.\n",
        "\n",
        "    Below is a table of common data types in Python:\n",
        "\n",
        "    | Name          | Type name  | Type Category  | Description                                   | Example                                    |\n",
        "    | :-------------------- | :--------- | :------------- | :-------------------------------------------- | :----------------------------------------- |\n",
        "    | integer               | `int`      | Numeric Type   | positive/negative whole numbers               | `22`                                       |\n",
        "    | floating point number | `float`    | Numeric Type   | real number in decimal form                   | `3.14159`                                  |\n",
        "    | boolean               | `bool`     | Boolean Values | true or false                                 | `True`                                     |\n",
        "    | string                | `str`      | Sequence Type  | text                                          | `\"Hello World!\"`                 |\n",
        "    | list                  | `list`     | Sequence Type  | a collection of objects - mutable & ordered   | `['text entry', True, 16]`               |\n",
        "    | tuple                 | `tuple`    | Sequence Type  | a collection of objects - immutable & ordered | `(51.02, -0.98)`                 |\n",
        "    | dictionary            | `dict`     | Mapping Type   | mapping of key-value pairs                    | `{'name':'Ada', 'subject':'computer science'}` |\n",
        "    | none                  | `NoneType` | Null Object    | represents no value                           | `None`                                     |\n",
        "    | function                  | `function` | Function   | Represents a function                           | `def add_one(x): return x+1`                                     |\n",
        "\n",
        "    ````{admonition} Exercise\n",
        "    What type is this Python object?\n",
        "\n",
        "    ```python\n",
        "    cities_to_temps = {\"Paris\": 32, \"London\": 22, \"Seville\": 36, \"Wellesley\": 29}\n",
        "    ```\n",
        "\n",
        "    What type is the first key (hint: comma separated entries form key-value pairs)?\n",
        "\n",
        "### Brackets\n",
        "\n",
        "You may notice that there are several kinds of brackets that appear in\n",
        "the code we’ve seen so far, including `[]`, `{}`, and `()`. These can\n",
        "play different roles depending on the context, but the most common uses\n",
        "are:\n",
        "\n",
        "-   `[]` is used to denote a list, eg `['a', 'b']`, or to signify\n",
        "    accessing a position using an index, eg `vector[0]` to get the first\n",
        "    entry of a variable called vector.\n",
        "\n",
        "-   `{}` is used to denote a set, eg `{'a', 'b'}`, or a dictionary (with\n",
        "    pairs of terms), eg `{'first_letter': 'a', 'second_letter': 'b'}`.\n",
        "\n",
        "-   `()` is used to denote a tuple, eg `('a', 'b')`, or the arguments to\n",
        "    a function, eg `function(x)` where `x` is the input passed to the\n",
        "    function, *or* to indicate the order operations are carried out.\n",
        "\n",
        "## Lists and slicing\n",
        "\n",
        "Lists are a really useful way to work with lots of data at once. They’re\n",
        "defined with square brackets, with entries separated by commas. You can\n",
        "also construct them by appending entries:"
      ],
      "id": "2b948bc1-bfe5-4a72-919c-5d551f1c0e95"
    },
    {
      "cell_type": "code",
      "execution_count": 143,
      "metadata": {},
      "outputs": [
        {
          "output_type": "stream",
          "name": "stdout",
          "text": [
            "[10, 1.23, 'like this', True, None, 'one more entry']"
          ]
        }
      ],
      "source": [
        "list_example.append(\"one more entry\")\n",
        "print(list_example)"
      ],
      "id": "96c4b86b"
    },
    {
      "cell_type": "code",
      "execution_count": 144,
      "metadata": {},
      "outputs": [
        {
          "output_type": "stream",
          "name": "stdout",
          "text": [
            "[10, 1.23, 'like this', True, None, 'one more entry', 'one more entry']"
          ]
        }
      ],
      "source": [
        "list_example.append(\"one more entry\")\n",
        "print(list_example)"
      ],
      "id": "d90bc4df"
    },
    {
      "cell_type": "markdown",
      "metadata": {},
      "source": [
        "And you can access earlier entries using an index, which begins at 0 and\n",
        "ends at one less than the length of the list (this is the convention in\n",
        "many programming languages). For instance, to print specific entries at\n",
        "the start, using `0`, and end, using `-1`:"
      ],
      "id": "6d573e42-fed9-4090-afb3-ee18f00a5ecc"
    },
    {
      "cell_type": "code",
      "execution_count": 145,
      "metadata": {},
      "outputs": [
        {
          "output_type": "stream",
          "name": "stdout",
          "text": [
            "10\n",
            "one more entry"
          ]
        }
      ],
      "source": [
        "print(list_example[0])\n",
        "print(list_example[-1])"
      ],
      "id": "138ac0e0"
    },
    {
      "cell_type": "code",
      "execution_count": 146,
      "metadata": {},
      "outputs": [
        {
          "output_type": "stream",
          "name": "stdout",
          "text": [
            "10\n",
            "one more entry"
          ]
        }
      ],
      "source": [
        "print(list_example[0])\n",
        "print(list_example[-1])"
      ],
      "id": "c680b852"
    },
    {
      "cell_type": "markdown",
      "metadata": {},
      "source": [
        "`wmyohimxaphj Exercise How might you access the penultimate entry in a list object if you didn't know how many elements it had?`\n",
        "\n",
        "As well as accessing positions in lists using indexing, you can use\n",
        "*slices* on lists. This uses the colon character, `:`, to stand in for\n",
        "‘from the beginning’ or ‘until the end’ (when only appearing once). For\n",
        "instance, to print just the last two entries, we would use the index\n",
        "`-2:` to mean from the second-to-last onwards. Here are two distinct\n",
        "examples: getting the first three and last three entries to be\n",
        "successively printed:"
      ],
      "id": "81df8955-c07f-427f-b6e4-0729a81f7008"
    },
    {
      "cell_type": "code",
      "execution_count": 147,
      "metadata": {},
      "outputs": [
        {
          "output_type": "stream",
          "name": "stdout",
          "text": [
            "[10, 1.23, 'like this']\n",
            "[None, 'one more entry', 'one more entry']"
          ]
        }
      ],
      "source": [
        "print(list_example[:3])\n",
        "print(list_example[-3:])"
      ],
      "id": "ef390263"
    },
    {
      "cell_type": "markdown",
      "metadata": {},
      "source": [
        "Slicing can be even more elaborate than that because we can jump entries\n",
        "using a second colon. Here’s a full example that begins at the second\n",
        "entry (remember the index starts at 0), runs up until the second-to-last\n",
        "entry (exclusive), and jumps every other entry inbetween (range just\n",
        "produces a list of integers from the value to one less than the last):"
      ],
      "id": "5a8c17c5-76df-4eb3-bd6f-5b205f31c6db"
    },
    {
      "cell_type": "code",
      "execution_count": 148,
      "metadata": {},
      "outputs": [
        {
          "output_type": "stream",
          "name": "stdout",
          "text": [
            "[2, 4, 6, 8]"
          ]
        }
      ],
      "source": [
        "list_of_numbers = list(range(1, 11))\n",
        "start = 1\n",
        "stop = -1\n",
        "step = 2\n",
        "print(list_of_numbers[start:stop:step])"
      ],
      "id": "13584953"
    },
    {
      "cell_type": "code",
      "execution_count": 149,
      "metadata": {},
      "outputs": [
        {
          "output_type": "stream",
          "name": "stdout",
          "text": [
            "[2, 4, 6, 8]"
          ]
        }
      ],
      "source": [
        "list_of_numbers = list(range(1, 11))\n",
        "start = 1\n",
        "stop = -1\n",
        "step = 2\n",
        "print(list_of_numbers[start:stop:step])"
      ],
      "id": "8b6fe6c6"
    },
    {
      "cell_type": "markdown",
      "metadata": {},
      "source": [
        "A handy trick is that you can print a reversed list entirely using\n",
        "double colons:"
      ],
      "id": "19a9567a-9c0d-442a-a1e5-104ddb4f609b"
    },
    {
      "cell_type": "code",
      "execution_count": 150,
      "metadata": {},
      "outputs": [
        {
          "output_type": "stream",
          "name": "stdout",
          "text": [
            "[10, 9, 8, 7, 6, 5, 4, 3, 2, 1]"
          ]
        }
      ],
      "source": [
        "print(list_of_numbers[::-1])"
      ],
      "id": "f2bc8926"
    },
    {
      "cell_type": "code",
      "execution_count": 151,
      "metadata": {},
      "outputs": [
        {
          "output_type": "stream",
          "name": "stdout",
          "text": [
            "[10, 9, 8, 7, 6, 5, 4, 3, 2, 1]"
          ]
        }
      ],
      "source": [
        "print(list_of_numbers[::-1])"
      ],
      "id": "fae02613"
    },
    {
      "cell_type": "markdown",
      "metadata": {},
      "source": [
        "`` wmyohimxaphj Exercise Slice the `list_example` from earlier to get only the first five entries. ``\n",
        "\n",
        "As noted, lists can hold any type, including other lists! Here’s a valid\n",
        "example of a list that’s got a lot going on:"
      ],
      "id": "9880d897-7df5-4729-ac50-5ca36a449388"
    },
    {
      "cell_type": "code",
      "execution_count": 152,
      "metadata": {},
      "outputs": [
        {
          "output_type": "display_data",
          "metadata": {},
          "data": {
            "text/plain": [
              "[3.1415,\n",
              " 16,\n",
              " ['five', 4, 3],\n",
              " (91, 93, 90),\n",
              " 'Hello World!',\n",
              " True,\n",
              " None,\n",
              " {'key': 'value', 'key2': 'value2'}]"
            ]
          }
        }
      ],
      "source": [
        "wacky_list = [\n",
        "    3.1415,\n",
        "    16,\n",
        "    [\"five\", 4, 3],\n",
        "    (91, 93, 90),\n",
        "    \"Hello World!\",\n",
        "    True,\n",
        "    None,\n",
        "    {\"key\": \"value\", \"key2\": \"value2\"},\n",
        "]\n",
        "wacky_list"
      ],
      "id": "703fb0b2"
    },
    {
      "cell_type": "code",
      "execution_count": 153,
      "metadata": {},
      "outputs": [
        {
          "output_type": "display_data",
          "metadata": {},
          "data": {
            "text/plain": [
              "[3.1415,\n",
              " 16,\n",
              " ['five', 4, 3],\n",
              " (91, 93, 90),\n",
              " 'Hello World!',\n",
              " True,\n",
              " None,\n",
              " {'key': 'value', 'key2': 'value2'}]"
            ]
          }
        }
      ],
      "source": [
        "wacky_list = [\n",
        "    3.1415,\n",
        "    16,\n",
        "    [\"five\", 4, 3],\n",
        "    (91, 93, 90),\n",
        "    \"Hello World!\",\n",
        "    True,\n",
        "    None,\n",
        "    {\"key\": \"value\", \"key2\": \"value2\"},\n",
        "]\n",
        "wacky_list"
      ],
      "id": "edb76b2a"
    },
    {
      "cell_type": "markdown",
      "metadata": {},
      "source": [
        "In reality, it’s usually not a good idea to mix data types in a list,\n",
        "but Python is very flexible. Other iterables (objects composed of\n",
        "multiple elements, of which the list is just one in Python) can also\n",
        "store objects of different types.\n",
        "\n",
        "`` wmyohimxaphj Exercise Can you identify the types of each of the entries in `wacky_list`? ``\n",
        "\n",
        "## Operators\n",
        "\n",
        "All of the basic operators you see in mathematics are available to use:\n",
        "`+` for addition, `-` for subtraction, `*` for multiplication, `**` for\n",
        "powers, `/` for division, and `%` for modulo. These work as you’d expect\n",
        "on numbers. But these operators are sometimes defined for other built-in\n",
        "data types too. For instance, we can ‘sum’ strings (which really\n",
        "concatenates them):"
      ],
      "id": "78dc5475-2e0c-42f4-8a00-ed00652c8fd4"
    },
    {
      "cell_type": "code",
      "execution_count": 154,
      "metadata": {},
      "outputs": [
        {
          "output_type": "stream",
          "name": "stdout",
          "text": [
            "This is an example of string concatenation"
          ]
        }
      ],
      "source": [
        "string_one = \"This is an example \"\n",
        "string_two = \"of string concatenation\"\n",
        "string_full = string_one + string_two\n",
        "print(string_full)"
      ],
      "id": "b572cc37"
    },
    {
      "cell_type": "code",
      "execution_count": 155,
      "metadata": {},
      "outputs": [
        {
          "output_type": "stream",
          "name": "stdout",
          "text": [
            "This is an example of string concatenation"
          ]
        }
      ],
      "source": [
        "string_one = \"This is an example \"\n",
        "string_two = \"of string concatenation\"\n",
        "string_full = string_one + string_two\n",
        "print(string_full)"
      ],
      "id": "79f3d8cc"
    },
    {
      "cell_type": "markdown",
      "metadata": {},
      "source": [
        "It works for lists too:"
      ],
      "id": "6621e589-4534-4260-8131-021228d6cdfa"
    },
    {
      "cell_type": "code",
      "execution_count": 156,
      "metadata": {},
      "outputs": [
        {
          "output_type": "stream",
          "name": "stdout",
          "text": [
            "['apples', 'oranges', 'pears', 'satsumas']"
          ]
        }
      ],
      "source": [
        "list_one = [\"apples\", \"oranges\"]\n",
        "list_two = [\"pears\", \"satsumas\"]\n",
        "list_full = list_one + list_two\n",
        "print(list_full)"
      ],
      "id": "3778c87b"
    },
    {
      "cell_type": "code",
      "execution_count": 157,
      "metadata": {},
      "outputs": [
        {
          "output_type": "stream",
          "name": "stdout",
          "text": [
            "['apples', 'oranges', 'pears', 'satsumas']"
          ]
        }
      ],
      "source": [
        "list_one = [\"apples\", \"oranges\"]\n",
        "list_two = [\"pears\", \"satsumas\"]\n",
        "list_full = list_one + list_two\n",
        "print(list_full)"
      ],
      "id": "e9fa5778"
    },
    {
      "cell_type": "markdown",
      "metadata": {},
      "source": [
        "Perhaps more surprisingly, you can multiply strings!"
      ],
      "id": "53172f26-169c-4cfd-99a3-df347277cb10"
    },
    {
      "cell_type": "code",
      "execution_count": 158,
      "metadata": {},
      "outputs": [
        {
          "output_type": "stream",
          "name": "stdout",
          "text": [
            "apples, apples, apples, "
          ]
        }
      ],
      "source": [
        "string = \"apples, \"\n",
        "print(string * 3)"
      ],
      "id": "0d609681"
    },
    {
      "cell_type": "code",
      "execution_count": 159,
      "metadata": {},
      "outputs": [
        {
          "output_type": "stream",
          "name": "stdout",
          "text": [
            "apples, apples, apples, "
          ]
        }
      ],
      "source": [
        "string = \"apples, \"\n",
        "print(string * 3)"
      ],
      "id": "636f7392"
    },
    {
      "cell_type": "markdown",
      "metadata": {},
      "source": [
        "Below is a table of the basic arithmetic operations.\n",
        "\n",
        "| Operator |            Description            |\n",
        "|:--------:|:---------------------------------:|\n",
        "|   `+`    |             addition              |\n",
        "|   `-`    |            subtraction            |\n",
        "|   `*`    |          multiplication           |\n",
        "|   `/`    |             division              |\n",
        "|   `**`   |          exponentiation           |\n",
        "|   `//`   | integer division / floor division |\n",
        "|   `%`    |              modulo               |\n",
        "|   `@`    |       matrix multiplication       |\n",
        "\n",
        "As well as the usual operators, Python supports *assignment operators*.\n",
        "An example of one is `x+=3`, which is equivalent to running `x = x + 3`.\n",
        "Pretty much all of the operators can be used in this way.\n",
        "\n",
        "\\`\\`\\`wmyohimxaphj Exercise Using Python operations only, what is\n",
        "\n",
        "$$\n",
        "\\frac{2^5}{7 \\cdot (4 - 2^3)}\n",
        "$$\n",
        "\n",
        "\n",
        "    ## Strings\n",
        "\n",
        "    In some ways, strings are treated a bit like lists, meaning you can access the individual characters via slicing and indexing. For example:\n",
        "\n",
        "    ::: {#4507b65c .cell execution_count=160}\n",
        "    ``` {.python .cell-code}\n",
        "    string = \"cheesecake\"\n",
        "    print(string[-4:])\n",
        "\n",
        "    cake\n",
        "\n",
        ":::"
      ],
      "id": "c06151b2-c2f0-48ba-ae65-70b952d6401c"
    },
    {
      "cell_type": "code",
      "execution_count": 161,
      "metadata": {},
      "outputs": [
        {
          "output_type": "stream",
          "name": "stdout",
          "text": [
            "cake"
          ]
        }
      ],
      "source": [
        "string = \"cheesecake\"\n",
        "print(string[-4:])"
      ],
      "id": "74d99365"
    },
    {
      "cell_type": "markdown",
      "metadata": {},
      "source": [
        "Both lists and strings will also allow you to use the `len()` command to\n",
        "get their length:"
      ],
      "id": "a6edfc05-f2cd-4fee-ac6d-df84e4150334"
    },
    {
      "cell_type": "code",
      "execution_count": 162,
      "metadata": {},
      "outputs": [
        {
          "output_type": "stream",
          "name": "stdout",
          "text": [
            "String has length:\n",
            "10\n",
            "List of numbers has length:\n",
            "19"
          ]
        }
      ],
      "source": [
        "string = \"cheesecake\"\n",
        "print(\"String has length:\")\n",
        "print(len(string))\n",
        "list_of_numbers = range(1, 20)\n",
        "print(\"List of numbers has length:\")\n",
        "print(len(list_of_numbers))"
      ],
      "id": "7e84654d"
    },
    {
      "cell_type": "code",
      "execution_count": 163,
      "metadata": {},
      "outputs": [
        {
          "output_type": "stream",
          "name": "stdout",
          "text": [
            "String has length:\n",
            "10\n",
            "List of numbers has length:\n",
            "19"
          ]
        }
      ],
      "source": [
        "string = \"cheesecake\"\n",
        "print(\"String has length:\")\n",
        "print(len(string))\n",
        "list_of_numbers = range(1, 20)\n",
        "print(\"List of numbers has length:\")\n",
        "print(len(list_of_numbers))"
      ],
      "id": "b25c3287"
    },
    {
      "cell_type": "markdown",
      "metadata": {},
      "source": [
        "`` wmyohimxaphj Exercise What is the `len` of a list created by `range(n)` where `n` could be any integer? ``\n",
        "\n",
        "Strings have type `string` and can be defined by single or double\n",
        "quotes, eg `string = \"cheesecake\"` would have been equally valid above.\n",
        "It’s best practice to use one convention and stick to it, and most\n",
        "people use double quotes for strings.\n",
        "\n",
        "There are various functions built into Python to help you work with\n",
        "strings that are particularly useful for cleaning messy data. For\n",
        "example, imagine you have a variable name like ‘This Is /A Variable’.\n",
        "(You may think this is implausibly bad; if only that were true…). Let’s\n",
        "see if we can clean this up:"
      ],
      "id": "8c1a9abc-d1d5-4a06-928a-4f2e749f6af3"
    },
    {
      "cell_type": "code",
      "execution_count": 164,
      "metadata": {},
      "outputs": [
        {
          "output_type": "stream",
          "name": "stdout",
          "text": [
            "this is a variable"
          ]
        }
      ],
      "source": [
        "string = \"This Is /A Variable   \"\n",
        "string = string.replace(\"/\", \"\").rstrip().lower()\n",
        "print(string)"
      ],
      "id": "5fbef807"
    },
    {
      "cell_type": "code",
      "execution_count": 165,
      "metadata": {},
      "outputs": [
        {
          "output_type": "stream",
          "name": "stdout",
          "text": [
            "this is a variable"
          ]
        }
      ],
      "source": [
        "string = \"This Is /A Variable   \"\n",
        "string = string.replace(\"/\", \"\").rstrip().lower()\n",
        "print(string)"
      ],
      "id": "19c12ea0"
    },
    {
      "cell_type": "markdown",
      "metadata": {},
      "source": [
        "The steps above replace the character ‘/’, strip out whitespace on the\n",
        "right hand-side of the string, and put everything in lower case. The\n",
        "brackets after the words signify that a function has been applied; we’ll\n",
        "see more of functions later.\n",
        "\n",
        "`` wmyohimxaphj Exercise Using string operations, strip the leading and trailing spaces, make upper case, and remove the underscores from the string `\"    this_is_a_better_variable_name   \"`. ``\n",
        "\n",
        "**Changing Type to String**\n",
        "\n",
        "We’ll look at this in more detail shortly, but while we’re on strings,\n",
        "it seems useful to mention it now: you’ll often want to output one type\n",
        "of data as another, and Python generally knows what you’re trying to\n",
        "achieve if you, for example, `print()` a boolean value. For numbers,\n",
        "there are more options and you can see a big list of advice on string\n",
        "formatting of all kinds of things [here](https://pyformat.info/). For\n",
        "now, let’s just see a simple example of something called an f-string, a\n",
        "string that combines a number and a string (these begin with an `f` for\n",
        "formatting):"
      ],
      "id": "d1c28cbb-2b77-410f-a865-b1f5a4bd90f9"
    },
    {
      "cell_type": "code",
      "execution_count": 166,
      "metadata": {},
      "outputs": [
        {
          "output_type": "stream",
          "name": "stdout",
          "text": [
            "The square root of 20 is 4.47"
          ]
        }
      ],
      "source": [
        "value = 20\n",
        "sqrt_val = 20 ** 0.5\n",
        "print(f\"The square root of {value:d} is {sqrt_val:.2f}\")"
      ],
      "id": "21661479"
    },
    {
      "cell_type": "code",
      "execution_count": 167,
      "metadata": {},
      "outputs": [
        {
          "output_type": "stream",
          "name": "stdout",
          "text": [
            "The square root of 20 is 4.47"
          ]
        }
      ],
      "source": [
        "value = 20\n",
        "sqrt_val = 20 ** 0.5\n",
        "print(f\"The square root of {value:d} is {sqrt_val:.2f}\")"
      ],
      "id": "7a02e411"
    },
    {
      "cell_type": "markdown",
      "metadata": {},
      "source": [
        "The formatting command `:d` is an instruction to treat `value` like an\n",
        "integer, while `:.2f` is an instruction to print it like a float with 2\n",
        "decimal places.\n",
        "\n",
        "``` {note}\n",
        "f-strings are only available in Python 3.6+\n",
        "```\n",
        "\n",
        "`` wmyohimxaphj Exercise Write a print command with the `sqrt_val` expressed to 3 decimal places. ``\n",
        "\n",
        "## Booleans and conditions\n",
        "\n",
        "Some of the most important operations you will perform are with `True`\n",
        "and `False` values, also known as boolean data types. There are two\n",
        "types of operation that are associated with booleans: boolean\n",
        "operations, in which existing booleans are combined, and condition\n",
        "operations, which create a boolean when executed.\n",
        "\n",
        "Boolean operators that return booleans are as follows:\n",
        "\n",
        "| Operator  | Description                          |\n",
        "|:---------:|:-------------------------------------|\n",
        "| `x and y` | are `x` and `y` both True?           |\n",
        "| `x or y`  | is at least one of `x` and `y` True? |\n",
        "|  `not x`  | is `x` False?                        |\n",
        "\n",
        "These behave as you’d expect: `True and False` evaluates to `False`,\n",
        "while `True or False` evaluates to `True`. There’s also the `not`\n",
        "keyword. For example"
      ],
      "id": "b78228a8-6d24-41e7-8a5d-8a829b65881a"
    },
    {
      "cell_type": "code",
      "execution_count": 168,
      "metadata": {},
      "outputs": [
        {
          "output_type": "display_data",
          "metadata": {},
          "data": {
            "text/plain": [
              "False"
            ]
          }
        }
      ],
      "source": [
        "not True"
      ],
      "id": "590cd75d"
    },
    {
      "cell_type": "code",
      "execution_count": 169,
      "metadata": {},
      "outputs": [
        {
          "output_type": "display_data",
          "metadata": {},
          "data": {
            "text/plain": [
              "False"
            ]
          }
        }
      ],
      "source": [
        "not True"
      ],
      "id": "9a94d4a0"
    },
    {
      "cell_type": "markdown",
      "metadata": {},
      "source": [
        "as you would expect.\n",
        "\n",
        "Conditions are expressions that evaluate as booleans. A simple example\n",
        "is `10 == 20`. The `==` is an operator that compares the objects on\n",
        "either side and returns `True` if they have the same *values*–though be\n",
        "careful using it with different data types.\n",
        "\n",
        "Here’s a table of conditions that return booleans:\n",
        "\n",
        "| Operator | Description                          |\n",
        "|:---------|:-------------------------------------|\n",
        "| `x == y` | is `x` equal to `y`?                 |\n",
        "| `x != y` | is `x` not equal to `y`?             |\n",
        "| `x > y`  | is `x` greater than `y`?             |\n",
        "| `x >= y` | is `x` greater than or equal to `y`? |\n",
        "| `x < y`  | is `x` less than `y`?                |\n",
        "| `x <= y` | is `x` less than or equal to `y`?    |\n",
        "| `x is y` | is `x` the same object as `y`?       |\n",
        "\n",
        "As you can see from the table, the opposite of `==` is `!=`, which you\n",
        "can read as ‘not equal to the value of’. Here’s an example of `==`:"
      ],
      "id": "e3186d07-d543-4ac5-9118-3ebfaa80544c"
    },
    {
      "cell_type": "code",
      "execution_count": 170,
      "metadata": {},
      "outputs": [
        {
          "output_type": "stream",
          "name": "stdout",
          "text": [
            "False"
          ]
        }
      ],
      "source": [
        "boolean_condition = 10 == 20\n",
        "print(boolean_condition)"
      ],
      "id": "51622575"
    },
    {
      "cell_type": "code",
      "execution_count": 171,
      "metadata": {},
      "outputs": [
        {
          "output_type": "stream",
          "name": "stdout",
          "text": [
            "False"
          ]
        }
      ],
      "source": [
        "boolean_condition = 10 == 20\n",
        "print(boolean_condition)"
      ],
      "id": "6db1d3b0"
    },
    {
      "cell_type": "markdown",
      "metadata": {},
      "source": [
        "`` wmyohimxaphj Exercise What does `not (not True)` evaluate to? ``\n",
        "\n",
        "The real power of conditions comes when we start to use them in more\n",
        "complex examples. Some of the keywords that evaluate conditions are\n",
        "`if`, `else`, `and`, `or`, `in`, `not`, and `is`. Here’s an example\n",
        "showing how some of these conditional keywords work:"
      ],
      "id": "03e327d9-bd45-4a32-8620-6405773b932a"
    },
    {
      "cell_type": "code",
      "execution_count": 172,
      "metadata": {},
      "outputs": [
        {
          "output_type": "stream",
          "name": "stdout",
          "text": [
            "Ada, you achieved a high score.\n",
            "You could be called Smith or have a high score\n",
            "You are not called Smith and you have a high score"
          ]
        }
      ],
      "source": [
        "name = \"Ada\"\n",
        "score = 99\n",
        "\n",
        "if name == \"Ada\" and score > 90:\n",
        "    print(\"Ada, you achieved a high score.\")\n",
        "\n",
        "if name == \"Smith\" or score > 90:\n",
        "    print(\"You could be called Smith or have a high score\")\n",
        "\n",
        "if name != \"Smith\" and score > 90:\n",
        "    print(\"You are not called Smith and you have a high score\")"
      ],
      "id": "0c550daa"
    },
    {
      "cell_type": "code",
      "execution_count": 173,
      "metadata": {},
      "outputs": [
        {
          "output_type": "stream",
          "name": "stdout",
          "text": [
            "Ada, you achieved a high score.\n",
            "You could be called Smith or have a high score\n",
            "You are not called Smith and you have a high score"
          ]
        }
      ],
      "source": [
        "name = \"Ada\"\n",
        "score = 99\n",
        "\n",
        "if name == \"Ada\" and score > 90:\n",
        "    print(\"Ada, you achieved a high score.\")\n",
        "\n",
        "if name == \"Smith\" or score > 90:\n",
        "    print(\"You could be called Smith or have a high score\")\n",
        "\n",
        "if name != \"Smith\" and score > 90:\n",
        "    print(\"You are not called Smith and you have a high score\")"
      ],
      "id": "1bcf2c86"
    },
    {
      "cell_type": "markdown",
      "metadata": {},
      "source": [
        "All three of these conditions evaluate as True, and so all three\n",
        "messages get printed. Given that `==` and `!=` test for equality and not\n",
        "equal, respectively, you may be wondering what the keywords `is` and\n",
        "`not` are for. Remember that everything in Python is an object, and that\n",
        "values can be assigned to objects. `==` and `!=` compare *values*, while\n",
        "`is` and `not` compare *objects*. For example,"
      ],
      "id": "d10a057f-8db3-42d3-a456-cbab3ef1aa53"
    },
    {
      "cell_type": "code",
      "execution_count": 174,
      "metadata": {},
      "outputs": [
        {
          "output_type": "stream",
          "name": "stdout",
          "text": [
            "True\n",
            "False"
          ]
        }
      ],
      "source": [
        "name_list = [\"Ada\", \"Adam\"]\n",
        "name_list_two = [\"Ada\", \"Adam\"]\n",
        "\n",
        "# Compare values\n",
        "print(name_list == name_list_two)\n",
        "\n",
        "# Compare objects\n",
        "print(name_list is name_list_two)"
      ],
      "id": "7420e1c1"
    },
    {
      "cell_type": "code",
      "execution_count": 175,
      "metadata": {},
      "outputs": [
        {
          "output_type": "stream",
          "name": "stdout",
          "text": [
            "True\n",
            "False"
          ]
        }
      ],
      "source": [
        "name_list = [\"Ada\", \"Adam\"]\n",
        "name_list_two = [\"Ada\", \"Adam\"]\n",
        "\n",
        "# Compare values\n",
        "print(name_list == name_list_two)\n",
        "\n",
        "# Compare objects\n",
        "print(name_list is name_list_two)"
      ],
      "id": "977f4c17"
    },
    {
      "cell_type": "markdown",
      "metadata": {},
      "source": [
        "Note that code with lots of branching if statements is not very helpful\n",
        "to you or to anyone else who reads your code. Some automatic code\n",
        "checkers will pick this up and tell you that your code is too complex.\n",
        "Almost all of the time, there’s a way to rewrite your code without lots\n",
        "of branching logic that will be better and clearer than having many\n",
        "nested `if` statements.\n",
        "\n",
        "One of the most useful conditional keywords is `in`. This one must pop\n",
        "up ten times a day in most coders’ lives because it can pick out a\n",
        "variable or make sure something is where it’s supposed to be."
      ],
      "id": "d023a998-09fe-4313-a932-2e2f8cc0d3e5"
    },
    {
      "cell_type": "code",
      "execution_count": 176,
      "metadata": {},
      "outputs": [
        {
          "output_type": "stream",
          "name": "stdout",
          "text": [
            "True\n",
            "False"
          ]
        }
      ],
      "source": [
        "name_list = [\"Lovelace\", \"Smith\", \"Hopper\", \"Babbage\"]\n",
        "\n",
        "print(\"Lovelace\" in name_list)\n",
        "\n",
        "print(\"Bob\" in name_list)"
      ],
      "id": "39caa7be"
    },
    {
      "cell_type": "code",
      "execution_count": 177,
      "metadata": {},
      "outputs": [
        {
          "output_type": "stream",
          "name": "stdout",
          "text": [
            "True\n",
            "False"
          ]
        }
      ],
      "source": [
        "name_list = [\"Lovelace\", \"Smith\", \"Hopper\", \"Babbage\"]\n",
        "\n",
        "print(\"Lovelace\" in name_list)\n",
        "\n",
        "print(\"Bob\" in name_list)"
      ],
      "id": "a7195fa4"
    },
    {
      "cell_type": "markdown",
      "metadata": {},
      "source": [
        "`` wmyohimxaphj Exercise Check if \"a\" is in the string \"Walloping weasels\" using `in`. Is \"a\" `in` \"Anodyne\"? ``\n",
        "\n",
        "The opposite is `not in`.\n",
        "\n",
        "Finally, one conditional construct you’re bound to use at *some* point,\n",
        "is the `if`…`else` structure:"
      ],
      "id": "1b0a7a02-9ae0-4bfc-bce0-6b3a8fea982c"
    },
    {
      "cell_type": "code",
      "execution_count": 178,
      "metadata": {},
      "outputs": [
        {
          "output_type": "stream",
          "name": "stdout",
          "text": [
            "High score!"
          ]
        }
      ],
      "source": [
        "score = 98\n",
        "\n",
        "if score == 100:\n",
        "    print(\"Top marks!\")\n",
        "elif score > 90 and score < 100:\n",
        "    print(\"High score!\")\n",
        "elif score > 10 and score <= 90:\n",
        "    pass\n",
        "else:\n",
        "    print(\"Better luck next time.\")"
      ],
      "id": "95794e71"
    },
    {
      "cell_type": "code",
      "execution_count": 179,
      "metadata": {},
      "outputs": [
        {
          "output_type": "stream",
          "name": "stdout",
          "text": [
            "High score!"
          ]
        }
      ],
      "source": [
        "score = 98\n",
        "\n",
        "if score == 100:\n",
        "    print(\"Top marks!\")\n",
        "elif score > 90 and score < 100:\n",
        "    print(\"High score!\")\n",
        "elif score > 10 and score <= 90:\n",
        "    pass\n",
        "else:\n",
        "    print(\"Better luck next time.\")"
      ],
      "id": "92dde4f9"
    },
    {
      "cell_type": "markdown",
      "metadata": {},
      "source": [
        "Note that this does nothing if the score is between 11 and 90, and\n",
        "prints a message otherwise.\n",
        "\n",
        "`` wmyohimxaphj Exercise Create a new `if` ... `elif` ... `else` statement that prints \"well done\" if a score is over 90, \"good\" if between 40 and 90, and \"bad luck\" otherwise. ``\n",
        "\n",
        "One nice feature of Python is that you can make multiple boolean\n",
        "comparisons in a single line."
      ],
      "id": "4e5fc663-8bb1-4d12-9904-67d0079c0782"
    },
    {
      "cell_type": "code",
      "execution_count": 180,
      "metadata": {},
      "outputs": [
        {
          "output_type": "display_data",
          "metadata": {},
          "data": {
            "text/plain": [
              "True"
            ]
          }
        }
      ],
      "source": [
        "a, b = 3, 6\n",
        "\n",
        "1 < a < b < 20"
      ],
      "id": "cd1cd061"
    },
    {
      "cell_type": "code",
      "execution_count": 181,
      "metadata": {},
      "outputs": [
        {
          "output_type": "display_data",
          "metadata": {},
          "data": {
            "text/plain": [
              "True"
            ]
          }
        }
      ],
      "source": [
        "a, b = 3, 6\n",
        "\n",
        "1 < a < b < 20"
      ],
      "id": "a55e1bff"
    },
    {
      "cell_type": "markdown",
      "metadata": {},
      "source": [
        "## Indentation\n",
        "\n",
        "You’ll have seen that certain parts of the code examples are indented.\n",
        "Code that is part of a function, a conditional clause, or loop is\n",
        "indented. This isn’t a code style choice, it’s actually what tells the\n",
        "language that some code is to be executed as part of, say, a loop and\n",
        "not to executed after the loop is finished.\n",
        "\n",
        "Here’s a basic example of indentation as part of an `if` loop. The\n",
        "`print()` statement that is indented only executes if the condition\n",
        "evaluates to true."
      ],
      "id": "aaea8370-650b-492c-b13b-ce1d5850b23c"
    },
    {
      "cell_type": "code",
      "execution_count": 182,
      "metadata": {},
      "outputs": [
        {
          "output_type": "stream",
          "name": "stdout",
          "text": [
            "x is greater than 2"
          ]
        }
      ],
      "source": [
        "x = 10\n",
        "\n",
        "if x > 2:\n",
        "    print(\"x is greater than 2\")"
      ],
      "id": "1d000673"
    },
    {
      "cell_type": "code",
      "execution_count": 183,
      "metadata": {},
      "outputs": [
        {
          "output_type": "stream",
          "name": "stdout",
          "text": [
            "x is greater than 2"
          ]
        }
      ],
      "source": [
        "x = 10\n",
        "\n",
        "if x > 2:\n",
        "    print(\"x is greater than 2\")"
      ],
      "id": "78a55b97"
    },
    {
      "cell_type": "markdown",
      "metadata": {},
      "source": [
        "``` {tip}\n",
        "The VS Code extension *indent-rainbow* colours different levels of indentation differently for ease of reading.\n",
        "```\n",
        "\n",
        "When functions, conditional clauses, or loops are combined together,\n",
        "they each cause an *increase* in the level of indentation. Here’s a\n",
        "double indent."
      ],
      "id": "390a671a-8dff-4ba3-ab29-3c749c025c92"
    },
    {
      "cell_type": "code",
      "execution_count": 184,
      "metadata": {},
      "outputs": [
        {
          "output_type": "stream",
          "name": "stdout",
          "text": [
            "outer conditional cause\n",
            "inner loop\n",
            "inner loop\n",
            "inner loop\n",
            "inner loop"
          ]
        }
      ],
      "source": [
        "if x > 2:\n",
        "    print(\"outer conditional cause\")\n",
        "    for i in range(4):\n",
        "        print(\"inner loop\")"
      ],
      "id": "bf319227"
    },
    {
      "cell_type": "code",
      "execution_count": 185,
      "metadata": {},
      "outputs": [
        {
          "output_type": "stream",
          "name": "stdout",
          "text": [
            "outer conditional cause\n",
            "inner loop\n",
            "inner loop\n",
            "inner loop\n",
            "inner loop"
          ]
        }
      ],
      "source": [
        "if x > 2:\n",
        "    print(\"outer conditional cause\")\n",
        "    for i in range(4):\n",
        "        print(\"inner loop\")"
      ],
      "id": "6604b206"
    },
    {
      "cell_type": "markdown",
      "metadata": {},
      "source": [
        "The standard practice for indentation is that each sub-statement should\n",
        "be indented by 4 spaces. It can be hard to keep track of these but, as\n",
        "usual, Visual Studio Code has you covered. Go to Settings (the cog in\n",
        "the bottom left-hand corner, then click Settings) and type ‘Whitespace’\n",
        "into the search bar. Under ‘Editor: Render Whitespace’, select\n",
        "‘boundary’. This will show any whitespace that is more than one\n",
        "character long using faint grey dots. Each level of indentation in your\n",
        "Python code should now begin with four grey dots showing that it\n",
        "consists of four spaces.\n",
        "\n",
        "``` {tip}\n",
        "Rendering whitespace using Visual Studio Code's settings makes it easier to navigate different levels of indentation.\n",
        "```\n",
        "\n",
        "`wmyohimxaphj Exercise Try writing a code snippet that reaches the triple level of indentation.`\n",
        "\n",
        "## Dictionaries\n",
        "\n",
        "Another built-in Python type that is enormously useful is the\n",
        "*dictionary*. This provides a mapping one set of variables to another\n",
        "(either one-to-one or many-to-one). Let’s see an example of defining a\n",
        "dictionary and using it:"
      ],
      "id": "142e4f64-f192-4b80-a2dd-28da51d72751"
    },
    {
      "cell_type": "code",
      "execution_count": 186,
      "metadata": {},
      "outputs": [
        {
          "output_type": "stream",
          "name": "stdout",
          "text": [
            "['Apple', 'Apple', 'Satsuma', 'Apple']"
          ]
        }
      ],
      "source": [
        "fruit_dict = {\n",
        "    \"Jazz\": \"Apple\",\n",
        "    \"Owari\": \"Satsuma\",\n",
        "    \"Seto\": \"Satsuma\",\n",
        "    \"Pink Lady\": \"Apple\",\n",
        "}\n",
        "\n",
        "# Add an entry\n",
        "fruit_dict.update({\"Cox\": \"Apple\"})\n",
        "\n",
        "variety_list = [\"Jazz\", \"Jazz\", \"Seto\", \"Cox\"]\n",
        "\n",
        "fruit_list = [fruit_dict[x] for x in variety_list]\n",
        "print(fruit_list)"
      ],
      "id": "6ac3fab1"
    },
    {
      "cell_type": "code",
      "execution_count": 187,
      "metadata": {},
      "outputs": [
        {
          "output_type": "stream",
          "name": "stdout",
          "text": [
            "['Apple', 'Apple', 'Satsuma', 'Apple']"
          ]
        }
      ],
      "source": [
        "fruit_dict = {\n",
        "    \"Jazz\": \"Apple\",\n",
        "    \"Owari\": \"Satsuma\",\n",
        "    \"Seto\": \"Satsuma\",\n",
        "    \"Pink Lady\": \"Apple\",\n",
        "}\n",
        "\n",
        "# Add an entry\n",
        "fruit_dict.update({\"Cox\": \"Apple\"})\n",
        "\n",
        "variety_list = [\"Jazz\", \"Jazz\", \"Seto\", \"Cox\"]\n",
        "\n",
        "fruit_list = [fruit_dict[x] for x in variety_list]\n",
        "print(fruit_list)"
      ],
      "id": "2a147ff7"
    },
    {
      "cell_type": "markdown",
      "metadata": {},
      "source": [
        "From an input list of varieties, we get an output list of their\n",
        "associated fruits. Another good trick to know with dictionaries is that\n",
        "you can iterate through their keys and values:"
      ],
      "id": "d32c0249-a89f-4097-9cd9-093004ac7717"
    },
    {
      "cell_type": "code",
      "execution_count": null,
      "metadata": {},
      "outputs": [
        {
          "output_type": "stream",
          "name": "stdout",
          "text": [
            "Jazz maps into Apple\n",
            "Owari maps into Satsuma\n",
            "Seto maps into Satsuma\n",
            "Pink Lady maps into Apple\n",
            "Cox maps into Apple"
          ]
        }
      ],
      "source": [
        "fruit_dict = {\n",
        "    \"Jazz\": \"Apple\",\n",
        "    \"Owari\": \"Satsuma\",\n",
        "    \"Seto\": \"Satsuma\",\n",
        "    \"Pink Lady\": \"Apple\",\n",
        "}\n",
        "\n",
        "# Add an entry\n",
        "fruit_dict.update({\"Cox\": \"Apple\"})\n",
        "\n",
        "variety_list = [\"Jazz\", \"Jazz\", \"Seto\", \"Cox\"]\n",
        "\n",
        "fruit_list = [fruit_dict[x] for x in variety_list]\n",
        "print(fruit_list)"
      ],
      "id": "3cfa514c"
    },
    {
      "cell_type": "markdown",
      "metadata": {},
      "source": [
        "`` wmyohimxaphj Exercise Update the fruit dictionary with another two entries and then iterate through all of the entries printing each mapping using `.items()` as above. ``\n",
        "\n",
        "## Loops and list comprehensions\n",
        "\n",
        "A loop is a way of executing a similar piece of code over and over in a\n",
        "similar way. The most useful loops are `for` loops and list\n",
        "comprehensions.\n",
        "\n",
        "A `for` loop does something *for* the time that the condition is\n",
        "satisfied. For example,"
      ],
      "id": "50af9fe4-dbad-4dfa-bf3a-14a436b06345"
    },
    {
      "cell_type": "code",
      "execution_count": 188,
      "metadata": {},
      "outputs": [
        {
          "output_type": "stream",
          "name": "stdout",
          "text": [
            "Lovelace\n",
            "Smith\n",
            "Pigou\n",
            "Babbage"
          ]
        }
      ],
      "source": [
        "name_list = [\"Lovelace\", \"Smith\", \"Pigou\", \"Babbage\"]\n",
        "\n",
        "for name in name_list:\n",
        "    print(name)"
      ],
      "id": "b86c270e"
    },
    {
      "cell_type": "code",
      "execution_count": 189,
      "metadata": {},
      "outputs": [
        {
          "output_type": "stream",
          "name": "stdout",
          "text": [
            "Lovelace\n",
            "Smith\n",
            "Pigou\n",
            "Babbage"
          ]
        }
      ],
      "source": [
        "name_list = [\"Lovelace\", \"Smith\", \"Pigou\", \"Babbage\"]\n",
        "\n",
        "for name in name_list:\n",
        "    print(name)"
      ],
      "id": "55af2e96"
    },
    {
      "cell_type": "markdown",
      "metadata": {},
      "source": [
        "prints out a name until all names have been printed out. Note the colon\n",
        "after the statement and before the indent.\n",
        "\n",
        "As long as your object is an iterable (ie you can iterate over it), then\n",
        "it can be used in this way in a for loop. The most common examples are\n",
        "lists and tuples, but you can also iterate over strings (in which case\n",
        "each character is selected in turn). One gotcha to be aware of is if you\n",
        "iterate over a string, say “hello”, instead of iterating over a *list\n",
        "(or tuple) of strings*, eg `[\"hello\"]`. In the latter case, you get:"
      ],
      "id": "60a8db6a-6dc1-4095-936c-ab785a4e3cf3"
    },
    {
      "cell_type": "code",
      "execution_count": 190,
      "metadata": {},
      "outputs": [
        {
          "output_type": "stream",
          "name": "stdout",
          "text": [
            "hello\n",
            "---end entry---"
          ]
        }
      ],
      "source": [
        "for entry in [\"hello\"]:\n",
        "    print(entry)\n",
        "    print(\"---end entry---\")"
      ],
      "id": "2904d907"
    },
    {
      "cell_type": "code",
      "execution_count": 191,
      "metadata": {},
      "outputs": [
        {
          "output_type": "stream",
          "name": "stdout",
          "text": [
            "hello\n",
            "---end entry---"
          ]
        }
      ],
      "source": [
        "for entry in [\"hello\"]:\n",
        "    print(entry)\n",
        "    print(\"---end entry---\")"
      ],
      "id": "14c36ba5"
    },
    {
      "cell_type": "markdown",
      "metadata": {},
      "source": [
        "While in the former you get something quite different and typically not\n",
        "all that useful:"
      ],
      "id": "c6c1459e-3f9d-4cab-b2fc-af629d66898c"
    },
    {
      "cell_type": "code",
      "execution_count": 192,
      "metadata": {},
      "outputs": [
        {
          "output_type": "stream",
          "name": "stdout",
          "text": [
            "h\n",
            "---end entry---\n",
            "e\n",
            "---end entry---\n",
            "l\n",
            "---end entry---\n",
            "l\n",
            "---end entry---\n",
            "o\n",
            "---end entry---"
          ]
        }
      ],
      "source": [
        "for entry in \"hello\":\n",
        "    print(entry)\n",
        "    print(\"---end entry---\")"
      ],
      "id": "48f6472d"
    },
    {
      "cell_type": "code",
      "execution_count": 193,
      "metadata": {},
      "outputs": [
        {
          "output_type": "stream",
          "name": "stdout",
          "text": [
            "h\n",
            "---end entry---\n",
            "e\n",
            "---end entry---\n",
            "l\n",
            "---end entry---\n",
            "l\n",
            "---end entry---\n",
            "o\n",
            "---end entry---"
          ]
        }
      ],
      "source": [
        "for entry in \"hello\":\n",
        "    print(entry)\n",
        "    print(\"---end entry---\")"
      ],
      "id": "c05a8cd5"
    },
    {
      "cell_type": "markdown",
      "metadata": {},
      "source": [
        "`wmyohimxaphj Exercise Write a for loop that prints out \"coding for economists\" so that each word is printed in a successive iteration.`\n",
        "\n",
        "A useful trick with for loops is the `enumerate` keyword, which runs\n",
        "through an index that keeps track of the place of items in a list:"
      ],
      "id": "5ea3756a-4a4d-4b44-b95c-65e6ec922f13"
    },
    {
      "cell_type": "code",
      "execution_count": 194,
      "metadata": {},
      "outputs": [
        {
          "output_type": "stream",
          "name": "stdout",
          "text": [
            "The name in position 0 is Lovelace\n",
            "The name in position 1 is Smith\n",
            "The name in position 2 is Hopper\n",
            "The name in position 3 is Babbage"
          ]
        }
      ],
      "source": [
        "name_list = [\"Lovelace\", \"Smith\", \"Hopper\", \"Babbage\"]\n",
        "\n",
        "for i, name in enumerate(name_list):\n",
        "    print(f\"The name in position {i} is {name}\")"
      ],
      "id": "79c32ff7"
    },
    {
      "cell_type": "code",
      "execution_count": 195,
      "metadata": {},
      "outputs": [
        {
          "output_type": "stream",
          "name": "stdout",
          "text": [
            "The name in position 0 is Lovelace\n",
            "The name in position 1 is Smith\n",
            "The name in position 2 is Hopper\n",
            "The name in position 3 is Babbage"
          ]
        }
      ],
      "source": [
        "name_list = [\"Lovelace\", \"Smith\", \"Hopper\", \"Babbage\"]\n",
        "\n",
        "for i, name in enumerate(name_list):\n",
        "    print(f\"The name in position {i} is {name}\")"
      ],
      "id": "16915d1f"
    },
    {
      "cell_type": "markdown",
      "metadata": {},
      "source": [
        "Remember, Python indexes from 0 so the first entry of `i` will be zero.\n",
        "But, if you’d like to index from a different number, you can:"
      ],
      "id": "ab510f4e-3df2-403a-8377-2e63aad0c9bb"
    },
    {
      "cell_type": "code",
      "execution_count": 196,
      "metadata": {},
      "outputs": [
        {
          "output_type": "stream",
          "name": "stdout",
          "text": [
            "The name in position 1 is Lovelace\n",
            "The name in position 2 is Smith\n",
            "The name in position 3 is Hopper\n",
            "The name in position 4 is Babbage"
          ]
        }
      ],
      "source": [
        "for i, name in enumerate(name_list, start=1):\n",
        "    print(f\"The name in position {i} is {name}\")"
      ],
      "id": "524aa4e4"
    },
    {
      "cell_type": "code",
      "execution_count": 197,
      "metadata": {},
      "outputs": [
        {
          "output_type": "stream",
          "name": "stdout",
          "text": [
            "The name in position 1 is Lovelace\n",
            "The name in position 2 is Smith\n",
            "The name in position 3 is Hopper\n",
            "The name in position 4 is Babbage"
          ]
        }
      ],
      "source": [
        "for i, name in enumerate(name_list, start=1):\n",
        "    print(f\"The name in position {i} is {name}\")"
      ],
      "id": "370a4898"
    },
    {
      "cell_type": "markdown",
      "metadata": {},
      "source": [
        "Another useful pattern when doing for loops with dictionaries is\n",
        "iteration over key, value pairs. As we saw earlier, what distinguishes a\n",
        "dictionary in Python is that it maps a key to a value, for example\n",
        "“apple” might map to “fruit”. Let’s take our example from earlier that\n",
        "mapped cities to temperatures. If we wanted to iterate over *both* keys\n",
        "and values, we can write a for loop like this:"
      ],
      "id": "eba238c0-5914-4d79-b328-20931ba79d9f"
    },
    {
      "cell_type": "code",
      "execution_count": 198,
      "metadata": {},
      "outputs": [
        {
          "output_type": "stream",
          "name": "stdout",
          "text": [
            "In Paris, the temperature is 28 degrees C today.\n",
            "In London, the temperature is 22 degrees C today.\n",
            "In Seville, the temperature is 36 degrees C today.\n",
            "In Wellesley, the temperature is 29 degrees C today."
          ]
        }
      ],
      "source": [
        "cities_to_temps = {\"Paris\": 28, \"London\": 22, \"Seville\": 36, \"Wellesley\": 29}\n",
        "\n",
        "for key, value in cities_to_temps.items():\n",
        "    print(f\"In {key}, the temperature is {value} degrees C today.\")"
      ],
      "id": "65c2a12d"
    },
    {
      "cell_type": "code",
      "execution_count": 199,
      "metadata": {},
      "outputs": [
        {
          "output_type": "stream",
          "name": "stdout",
          "text": [
            "In Paris, the temperature is 28 degrees C today.\n",
            "In London, the temperature is 22 degrees C today.\n",
            "In Seville, the temperature is 36 degrees C today.\n",
            "In Wellesley, the temperature is 29 degrees C today."
          ]
        }
      ],
      "source": [
        "cities_to_temps = {\"Paris\": 28, \"London\": 22, \"Seville\": 36, \"Wellesley\": 29}\n",
        "\n",
        "for key, value in cities_to_temps.items():\n",
        "    print(f\"In {key}, the temperature is {value} degrees C today.\")"
      ],
      "id": "acad8235"
    },
    {
      "cell_type": "markdown",
      "metadata": {},
      "source": [
        "Note that we added `.items()` to the end of the dictionary. And note\n",
        "that we didn’t *have* to call the key `key`, or the value `value`: these\n",
        "are set by their position. But part of best practice in writing code is\n",
        "that *there should be no surprises*, and writing key, value makes it\n",
        "really clear that you’re using values from a dictionary.\n",
        "\n",
        "`` wmyohimxaphj Exercise Write a dictionary that maps four cities you know into their respective countries and print the results using the `key, value` iteration trick. ``\n",
        "\n",
        "Another useful type of for loop is provided by the `zip()` function. You\n",
        "can think of the `zip()` function as being like a zipper, bringing\n",
        "elements from two different iterators together in turn. Here’s an\n",
        "example:"
      ],
      "id": "eea66257-faee-4dec-97c6-e9aed8491622"
    },
    {
      "cell_type": "code",
      "execution_count": 200,
      "metadata": {},
      "outputs": [
        {
          "output_type": "stream",
          "name": "stdout",
          "text": [
            "Ada Lovelace\n",
            "Adam Smith\n",
            "Grace Hopper\n",
            "Charles Babbage"
          ]
        }
      ],
      "source": [
        "first_names = [\"Ada\", \"Adam\", \"Grace\", \"Charles\"]\n",
        "last_names = [\"Lovelace\", \"Smith\", \"Hopper\", \"Babbage\"]\n",
        "\n",
        "for forename, surname in zip(first_names, last_names):\n",
        "    print(f\"{forename} {surname}\")"
      ],
      "id": "ddc1b7ec"
    },
    {
      "cell_type": "code",
      "execution_count": 201,
      "metadata": {},
      "outputs": [
        {
          "output_type": "stream",
          "name": "stdout",
          "text": [
            "Ada Lovelace\n",
            "Adam Smith\n",
            "Grace Hopper\n",
            "Charles Babbage"
          ]
        }
      ],
      "source": [
        "first_names = [\"Ada\", \"Adam\", \"Grace\", \"Charles\"]\n",
        "last_names = [\"Lovelace\", \"Smith\", \"Hopper\", \"Babbage\"]\n",
        "\n",
        "for forename, surname in zip(first_names, last_names):\n",
        "    print(f\"{forename} {surname}\")"
      ],
      "id": "6aa1f80a"
    },
    {
      "cell_type": "markdown",
      "metadata": {},
      "source": [
        "The zip function is super useful in practice.\n",
        "\n",
        "\\`\\``wmyohimxaphj Exercise Zip together the first names from above with this jumbled list of surnames:`\\[‘Babbage’,\n",
        "‘Hopper’, ‘Smith’, ‘Lovelace’\\]\\`.\n",
        "\n",
        "(Hint: you have seen a trick to help re-arrange lists earlier on in the\n",
        "Chapter.)\n",
        "\n",
        "\n",
        "    **List (and Other) Comprehensions**\n",
        "\n",
        "    There's a second way to do loops in Python and, in most but [not all](https://towardsdatascience.com/list-comprehensions-vs-for-loops-it-is-not-what-you-think-34071d4d8207) [cases](https://stackoverflow.com/questions/22108488/are-list-comprehensions-and-functional-functions-faster-than-for-loops), they run faster. More importantly, and *this* is the reason it's good practice to use them where possible, they are very readable. They are called *list comprehensions*.\n",
        "\n",
        "    List comprehensions can combine what a `for` loop and (if needed) what a `condition` do in a single line of code. First, let's look at a `for` loop that adds one to each value done as a list comprehension (NB: in practice, we would use super-fast **numpy** arrays for this kind of operation):\n",
        "\n",
        "    ::: {#50814e5f .cell execution_count=202}\n",
        "    ``` {.python .cell-code}\n",
        "    num_list = range(50, 60)\n",
        "    [1 + num for num in num_list]\n",
        "\n",
        "    [51, 52, 53, 54, 55, 56, 57, 58, 59, 60]\n",
        "\n",
        ":::"
      ],
      "id": "d5a1c2bb-fefc-499d-a91f-7faf214f3298"
    },
    {
      "cell_type": "code",
      "execution_count": 203,
      "metadata": {},
      "outputs": [
        {
          "output_type": "display_data",
          "metadata": {},
          "data": {
            "text/plain": [
              "[51, 52, 53, 54, 55, 56, 57, 58, 59, 60]"
            ]
          }
        }
      ],
      "source": [
        "num_list = range(50, 60)\n",
        "[1 + num for num in num_list]"
      ],
      "id": "f85e3ffe"
    },
    {
      "cell_type": "markdown",
      "metadata": {},
      "source": [
        "The general pattern is a bit similar to with the `for` loop but there\n",
        "are some differences. There’s no colon, and no indenting. The syntax is\n",
        "“do something with `x`” then `for x in iterable`. Finally, the\n",
        "expression is wrapped in a `[` and `]` to make the output a list.\n",
        "\n",
        "Note that lists are not the only wrapping you can provide to this kind\n",
        "of structure. A `(` and `)` to make it a generator (don’t worry about\n",
        "what this is for now), a `{` and `}` to make it a set (an object that\n",
        "only contains unique values), or it’s possible to create a dictionary\n",
        "from a comprehension too! List comprehensions are the most common, so if\n",
        "you only remember one kind, remember them.\n",
        "\n",
        "\\`\\`\\`wmyohimxaphj Exercise Create a list comprehension that multiplies\n",
        "numbers in the range from 1 to 10 by 5.\n",
        "\n",
        "Did you get the range right?\n",
        "\n",
        "\n",
        "    Let's now see how to include a condition within a list comprehension. Say we had a list of numbers and wanted to filter it according to whether the numbers divided by 3 or not using the modulo operator:\n",
        "\n",
        "    ::: {#4fafa2be .cell execution_count=204}\n",
        "    ``` {.python .cell-code}\n",
        "    number_list = range(1, 40)\n",
        "    divide_list = [x for x in number_list if x % 3 == 0]\n",
        "    print(divide_list)\n",
        "\n",
        "    [3, 6, 9, 12, 15, 18, 21, 24, 27, 30, 33, 36, 39]\n",
        "\n",
        ":::"
      ],
      "id": "19c3d39f-6cbb-436e-a087-24de8fb8d2f9"
    },
    {
      "cell_type": "code",
      "execution_count": 205,
      "metadata": {},
      "outputs": [
        {
          "output_type": "stream",
          "name": "stdout",
          "text": [
            "[3, 6, 9, 12, 15, 18, 21, 24, 27, 30, 33, 36, 39]"
          ]
        }
      ],
      "source": [
        "number_list = range(1, 40)\n",
        "divide_list = [x for x in number_list if x % 3 == 0]\n",
        "print(divide_list)"
      ],
      "id": "5fa62595"
    },
    {
      "cell_type": "markdown",
      "metadata": {},
      "source": [
        "The syntax here is do something to `x` for `x` in something if `x`\n",
        "satisfies some condition.\n",
        "\n",
        "Here’s another example that picks out only the names that include\n",
        "‘Smith’ in them:"
      ],
      "id": "3185de46-bf7f-4603-a055-86162e0dc277"
    },
    {
      "cell_type": "code",
      "execution_count": 1,
      "metadata": {},
      "outputs": [
        {
          "output_type": "stream",
          "name": "stdout",
          "text": [
            "['Adam Smith', 'leonara smith']"
          ]
        }
      ],
      "source": [
        "names_list = [\"Joe Bloggs\", \"Adam Smith\", \"Sandra Noone\", \"leonara smith\"]\n",
        "smith_list = [x for x in names_list if \"smith\" in x.lower()]\n",
        "print(smith_list)"
      ],
      "id": "fbb2cbc9"
    },
    {
      "cell_type": "code",
      "execution_count": 2,
      "metadata": {},
      "outputs": [
        {
          "output_type": "stream",
          "name": "stdout",
          "text": [
            "['Adam Smith', 'leonara smith']"
          ]
        }
      ],
      "source": [
        "names_list = [\"Joe Bloggs\", \"Adam Smith\", \"Sandra Noone\", \"leonara smith\"]\n",
        "smith_list = [x for x in names_list if \"smith\" in x.lower()]\n",
        "print(smith_list)"
      ],
      "id": "f25e7653"
    },
    {
      "cell_type": "markdown",
      "metadata": {},
      "source": [
        "Note how we used ‘smith’ rather than ‘Smith’ and then used `lower()` to\n",
        "ensure we matched names regardless of the case they are written in.\n",
        "\n",
        "We can even do a whole `if` … `else` construct *inside* a list\n",
        "comprehension:"
      ],
      "id": "29f64d6f-fb8a-458a-ac8f-9163e930ce36"
    },
    {
      "cell_type": "code",
      "execution_count": 3,
      "metadata": {},
      "outputs": [
        {
          "output_type": "stream",
          "name": "stdout",
          "text": [
            "['Not Smith!', 'Adam Smith', 'Not Smith!', 'leonara smith']"
          ]
        }
      ],
      "source": [
        "names_list = [\"Joe Bloggs\", \"Adam Smith\", \"Sandra Noone\", \"leonara smith\"]\n",
        "smith_list = [x if \"smith\" in x.lower() else \"Not Smith!\" for x in names_list]\n",
        "print(smith_list)"
      ],
      "id": "9b9b8e15"
    },
    {
      "cell_type": "code",
      "execution_count": 4,
      "metadata": {},
      "outputs": [
        {
          "output_type": "stream",
          "name": "stdout",
          "text": [
            "['Not Smith!', 'Adam Smith', 'Not Smith!', 'leonara smith']"
          ]
        }
      ],
      "source": [
        "names_list = [\"Joe Bloggs\", \"Adam Smith\", \"Sandra Noone\", \"leonara smith\"]\n",
        "smith_list = [x if \"smith\" in x.lower() else \"Not Smith!\" for x in names_list]\n",
        "print(smith_list)"
      ],
      "id": "ded38207"
    },
    {
      "cell_type": "markdown",
      "metadata": {},
      "source": [
        "Many of the constructs we’ve seen can be combined. For instance, there\n",
        "is no reason why we can’t have a nested or repeated list comprehension\n",
        "using `zip()`, and, perhaps more surprisingly, sometimes these are\n",
        "useful!"
      ],
      "id": "9e7d843b-92d7-4bd9-8ede-6545563b8481"
    },
    {
      "cell_type": "code",
      "execution_count": 5,
      "metadata": {},
      "outputs": [
        {
          "output_type": "stream",
          "name": "stdout",
          "text": [
            "['Ada Lovelace', 'Adam Smith', 'Grace Hopper', 'Charles Babbage']"
          ]
        }
      ],
      "source": [
        "first_names = [\"Ada\", \"Adam\", \"Grace\", \"Charles\"]\n",
        "last_names = [\"Lovelace\", \"Smith\", \"Hopper\", \"Babbage\"]\n",
        "names_list = [x + \" \" + y for x, y in zip(first_names, last_names)]\n",
        "print(names_list)"
      ],
      "id": "50d5ffab"
    },
    {
      "cell_type": "code",
      "execution_count": 6,
      "metadata": {},
      "outputs": [
        {
          "output_type": "stream",
          "name": "stdout",
          "text": [
            "['Ada Lovelace', 'Adam Smith', 'Grace Hopper', 'Charles Babbage']"
          ]
        }
      ],
      "source": [
        "first_names = [\"Ada\", \"Adam\", \"Grace\", \"Charles\"]\n",
        "last_names = [\"Lovelace\", \"Smith\", \"Hopper\", \"Babbage\"]\n",
        "names_list = [x + \" \" + y for x, y in zip(first_names, last_names)]\n",
        "print(names_list)"
      ],
      "id": "aad00cef"
    },
    {
      "cell_type": "markdown",
      "metadata": {},
      "source": [
        "An even more extreme use of list comprehensions can deliver nested\n",
        "structures:"
      ],
      "id": "3f329e77-8a5e-47af-b02b-360655656927"
    },
    {
      "cell_type": "code",
      "execution_count": 7,
      "metadata": {},
      "outputs": [
        {
          "output_type": "stream",
          "name": "stdout",
          "text": [
            "[['Ada Lovelace', 'Adam Lovelace'], ['Ada Smith', 'Adam Smith']]"
          ]
        }
      ],
      "source": [
        "first_names = [\"Ada\", \"Adam\"]\n",
        "last_names = [\"Lovelace\", \"Smith\"]\n",
        "names_list = [[x + \" \" + y for x in first_names] for y in last_names]\n",
        "print(names_list)"
      ],
      "id": "32a5aaa7"
    },
    {
      "cell_type": "code",
      "execution_count": 8,
      "metadata": {},
      "outputs": [
        {
          "output_type": "stream",
          "name": "stdout",
          "text": [
            "[['Ada Lovelace', 'Adam Lovelace'], ['Ada Smith', 'Adam Smith']]"
          ]
        }
      ],
      "source": [
        "first_names = [\"Ada\", \"Adam\"]\n",
        "last_names = [\"Lovelace\", \"Smith\"]\n",
        "names_list = [[x + \" \" + y for x in first_names] for y in last_names]\n",
        "print(names_list)"
      ],
      "id": "019b12f5"
    },
    {
      "cell_type": "markdown",
      "metadata": {},
      "source": [
        "This gives a nested structure that (in this case) iterates over\n",
        "`first_names` first, and then `last_names`. (Note that this object is a\n",
        "list of lists of strings!)\n",
        "\n",
        "Let’s see a dictionary comprehension now. These look a bit similar to\n",
        "set comprehensions because they use `{` and `}` at either end but they\n",
        "are different because they come with a colon separating the keys from\n",
        "the values:"
      ],
      "id": "f67da95f-b365-4efa-9001-5b271612314d"
    },
    {
      "cell_type": "code",
      "execution_count": 9,
      "metadata": {},
      "outputs": [
        {
          "output_type": "display_data",
          "metadata": {},
          "data": {
            "text/plain": [
              "{'Ada': 'Lovelace', 'Adam': 'Smith'}"
            ]
          }
        }
      ],
      "source": [
        "{key: value for key, value in zip(first_names, last_names)}"
      ],
      "id": "d1926d3f"
    },
    {
      "cell_type": "code",
      "execution_count": 10,
      "metadata": {},
      "outputs": [
        {
          "output_type": "display_data",
          "metadata": {},
          "data": {
            "text/plain": [
              "{'Ada': 'Lovelace', 'Adam': 'Smith'}"
            ]
          }
        }
      ],
      "source": [
        "{key: value for key, value in zip(first_names, last_names)}"
      ],
      "id": "b0e67a63"
    },
    {
      "cell_type": "markdown",
      "metadata": {},
      "source": [
        "`` wmyohimxaphj Exercise Create a nested list comprehension that results in a list of lists of strings equal to `[['a0', 'b0', 'c0'], ['a1', 'b1', 'c1'], ['a2', 'b2', 'c2']]` (ie a combination of the first three integers and letters of the alphabet). You may find that you need to convert numbers to strings using `str(x)` to do this. ``\n",
        "\n",
        "If you’d like to learn more about list comprehensions, check out these\n",
        "[short video\n",
        "tutorials](https://calmcode.io/comprehensions/introduction.html).\n",
        "\n",
        "## Writing Functions\n",
        "\n",
        "Declaring a function starts with a `def` keyword for ‘define a\n",
        "function’. It then has a name, followed by brackets, `()`, which may\n",
        "contain *function arguments* and *function keyword arguments*. This is\n",
        "followed by a colon. The body of the function is then indented relative\n",
        "to the left-most text. Function arguments are defined in brackets\n",
        "following the name, with different inputs separated by commas. Any\n",
        "outputs are given with the `return` keyword, again with different\n",
        "variables separated by commas.\n",
        "\n",
        "\\`\\`\\`wmyohimxaphj Arguments and keyword arguments :class: tip\n",
        "\n",
        "*arguments* are the variables that functions *always* need, so `a` and\n",
        "`b` in `def add(a, b): return a + b`. The function won’t work without\n",
        "them! Function arguments are sometimes referred to as *args*.\n",
        "\n",
        "*Keyword arguments* are the variables that are optional for functions,\n",
        "so `c` in `def add(a, b, c=5): return a + b - c`. If you do not provide\n",
        "a value for `c` when calling the function, it will automatically revert\n",
        "to `c=5`. Keyword arguments are sometimes referred to as *kwargs*.\n",
        "\n",
        "\n",
        "    Let's see a very simple example of a function with a single *argument* (or arg):\n",
        "\n",
        "    ::: {#0450ad6c .cell execution_count=11}\n",
        "    ``` {.python .cell-code}\n",
        "    def welcome_message(name):\n",
        "        return f\"Hello {name}, and welcome!\"\n",
        "\n",
        "\n",
        "    # Without indentation, this code is not part of function\n",
        "    name = \"Ada\"\n",
        "    output_string = welcome_message(name)\n",
        "    print(output_string)\n",
        "\n",
        "    Hello Ada, and welcome!\n",
        "\n",
        ":::"
      ],
      "id": "c631cfa1-07e9-46e3-bd58-e39e2d695bef"
    },
    {
      "cell_type": "code",
      "execution_count": 12,
      "metadata": {},
      "outputs": [
        {
          "output_type": "stream",
          "name": "stdout",
          "text": [
            "Hello Ada, and welcome!"
          ]
        }
      ],
      "source": [
        "def welcome_message(name):\n",
        "    return f\"Hello {name}, and welcome!\"\n",
        "\n",
        "\n",
        "# Without indentation, this code is not part of function\n",
        "name = \"Ada\"\n",
        "output_string = welcome_message(name)\n",
        "print(output_string)"
      ],
      "id": "ed7a7804"
    },
    {
      "cell_type": "markdown",
      "metadata": {},
      "source": [
        "One powerful feature of functions is that we can define defaults for the\n",
        "input arguments. These are called *keyword arguments* (or kwargs). Let’s\n",
        "see that in action by defining a default value for `name`, along with\n",
        "multiple outputs–a hello message and a score."
      ],
      "id": "ecdeb4f7-25b1-410e-9933-dbd42d98beb8"
    },
    {
      "cell_type": "code",
      "execution_count": 13,
      "metadata": {},
      "outputs": [
        {
          "output_type": "stream",
          "name": "stdout",
          "text": [
            "('Hello student', 4.8)\n",
            "('Hello Ada', 4.8)"
          ]
        }
      ],
      "source": [
        "def score_message(score, name=\"student\"):\n",
        "    \"\"\"This is a doc-string, a string describing a function.\n",
        "    Args:\n",
        "        score (float): Raw score\n",
        "        name (str): Name of student\n",
        "    Returns:\n",
        "        str: A hello message.\n",
        "        float: A normalised score.\n",
        "    \"\"\"\n",
        "    norm_score = (score - 50) / 10\n",
        "    return f\"Hello {name}\", norm_score\n",
        "\n",
        "\n",
        "# Without indentation, this code is not part of function\n",
        "name = \"Ada\"\n",
        "score = 98\n",
        "# No name entered\n",
        "print(score_message(score))\n",
        "# Name entered\n",
        "print(score_message(score, name=name))"
      ],
      "id": "dd49bee5"
    },
    {
      "cell_type": "code",
      "execution_count": 14,
      "metadata": {},
      "outputs": [
        {
          "output_type": "stream",
          "name": "stdout",
          "text": [
            "('Hello student', 4.8)\n",
            "('Hello Ada', 4.8)"
          ]
        }
      ],
      "source": [
        "def score_message(score, name=\"student\"):\n",
        "    \"\"\"This is a doc-string, a string describing a function.\n",
        "    Args:\n",
        "        score (float): Raw score\n",
        "        name (str): Name of student\n",
        "    Returns:\n",
        "        str: A hello message.\n",
        "        float: A normalised score.\n",
        "    \"\"\"\n",
        "    norm_score = (score - 50) / 10\n",
        "    return f\"Hello {name}\", norm_score\n",
        "\n",
        "\n",
        "# Without indentation, this code is not part of function\n",
        "name = \"Ada\"\n",
        "score = 98\n",
        "# No name entered\n",
        "print(score_message(score))\n",
        "# Name entered\n",
        "print(score_message(score, name=name))"
      ],
      "id": "80dc7e23"
    },
    {
      "cell_type": "markdown",
      "metadata": {},
      "source": [
        "`` wmyohimxaphj Exercise What is the return type of a function with multiple return values separated by commas following the `return` statement? ``\n",
        "\n",
        "In that last example, you’ll notice that we added some text to the\n",
        "function. This is a doc-string, or documentation string. It’s there to\n",
        "help users (and, most likely, future you) to understand what the\n",
        "function does. Let’s see how this works in action by calling `help()` on\n",
        "the `score_message` function:"
      ],
      "id": "f9a787f6-9574-4fdb-b63f-8a5423c95a02"
    },
    {
      "cell_type": "code",
      "execution_count": 15,
      "metadata": {},
      "outputs": [
        {
          "output_type": "stream",
          "name": "stdout",
          "text": [
            "Help on function score_message in module __main__:\n",
            "\n",
            "score_message(score, name='student')\n",
            "    This is a doc-string, a string describing a function.\n",
            "    Args:\n",
            "        score (float): Raw score\n",
            "        name (str): Name of student\n",
            "    Returns:\n",
            "        str: A hello message.\n",
            "        float: A normalised score.\n"
          ]
        }
      ],
      "source": [
        "help(score_message)"
      ],
      "id": "50dfff24"
    },
    {
      "cell_type": "code",
      "execution_count": 16,
      "metadata": {},
      "outputs": [
        {
          "output_type": "stream",
          "name": "stdout",
          "text": [
            "Help on function score_message in module __main__:\n",
            "\n",
            "score_message(score, name='student')\n",
            "    This is a doc-string, a string describing a function.\n",
            "    Args:\n",
            "        score (float): Raw score\n",
            "        name (str): Name of student\n",
            "    Returns:\n",
            "        str: A hello message.\n",
            "        float: A normalised score.\n"
          ]
        }
      ],
      "source": [
        "help(score_message)"
      ],
      "id": "be6b4928"
    },
    {
      "cell_type": "markdown",
      "metadata": {},
      "source": [
        "\\`\\`\\`wmyohimxaphj Exercise Write a function that returns a high five\n",
        "unicode character if the input is equal to “coding for economists” and a\n",
        "sad face, “:-/” otherwise.\n",
        "\n",
        "Add a second argument that takes a default argument of an empty string\n",
        "but, if used, is added (concatenated) to the return message. Use it to\n",
        "create the return output, “:-/ here is my message.”\n",
        "\n",
        "Write a doc-string for your function and call `help` on it.\n",
        "\n",
        "\n",
        "    To learn more about args and kwargs, check out these [short video tutorials](https://calmcode.io/args-kwargs/introduction.html).\n",
        "\n",
        "    ## Scope\n",
        "\n",
        "    Scope refers to what parts of your code can see what other parts. There are three different scopes to bear in mind: local, global, and non-local.\n",
        "\n",
        "    **Local**\n",
        "\n",
        "    If you define a variable inside a function, the rest of your code won't be able to 'see' it or use it. For example, here's a function that creates a variable and then an example of calling that variable:\n",
        "\n",
        "    ```python\n",
        "    def var_func():\n",
        "        str_variable = 'Hello World!'\n",
        "\n",
        "    var_func()\n",
        "    print(str_variable)\n",
        "\n",
        "This would raise an error, because as far as your general code is\n",
        "concerned `str_variable` doesn’t exist outside of the function. This is\n",
        "an example of a *local* variable, one that only exists within a\n",
        "function.\n",
        "\n",
        "If you want to create variables inside a function and have them persist,\n",
        "you need to explicitly pass them out using, for example\n",
        "`return str_variable` like this:"
      ],
      "id": "9ad952b6-c3ed-494e-b9fe-b6ae6a283695"
    },
    {
      "cell_type": "code",
      "execution_count": 17,
      "metadata": {},
      "outputs": [
        {
          "output_type": "stream",
          "name": "stdout",
          "text": [
            "Hello World!"
          ]
        }
      ],
      "source": [
        "def var_func():\n",
        "    str_variable = \"Hello World!\"\n",
        "    return str_variable\n",
        "\n",
        "\n",
        "returned_var = var_func()\n",
        "print(returned_var)"
      ],
      "id": "8725b986"
    },
    {
      "cell_type": "code",
      "execution_count": 18,
      "metadata": {},
      "outputs": [
        {
          "output_type": "stream",
          "name": "stdout",
          "text": [
            "Hello World!"
          ]
        }
      ],
      "source": [
        "def var_func():\n",
        "    str_variable = \"Hello World!\"\n",
        "    return str_variable\n",
        "\n",
        "\n",
        "returned_var = var_func()\n",
        "print(returned_var)"
      ],
      "id": "23851417"
    },
    {
      "cell_type": "markdown",
      "metadata": {},
      "source": [
        "**Global**\n",
        "\n",
        "A variable declared outside of a function is known as a global variable\n",
        "because it is accessible everywhere:"
      ],
      "id": "33b2febb-4160-4688-a77c-d28756e1d5bc"
    },
    {
      "cell_type": "code",
      "execution_count": 19,
      "metadata": {},
      "outputs": [
        {
          "output_type": "stream",
          "name": "stdout",
          "text": [
            "y is inside a function: I'm a global variable\n",
            "y is outside a function: I'm a global variable"
          ]
        }
      ],
      "source": [
        "y = \"I'm a global variable\"\n",
        "\n",
        "def print_y():\n",
        "    print(\"y is inside a function:\", y)\n",
        "\n",
        "\n",
        "print_y()\n",
        "print(\"y is outside a function:\", y)"
      ],
      "id": "b0a4fe15"
    },
    {
      "cell_type": "code",
      "execution_count": 20,
      "metadata": {},
      "outputs": [
        {
          "output_type": "stream",
          "name": "stdout",
          "text": [
            "y is inside a function: I'm a global variable\n",
            "y is outside a function: I'm a global variable"
          ]
        }
      ],
      "source": [
        "y = \"I'm a global variable\"\n",
        "\n",
        "def print_y():\n",
        "    print(\"y is inside a function:\", y)\n",
        "\n",
        "\n",
        "print_y()\n",
        "print(\"y is outside a function:\", y)"
      ],
      "id": "b7cdbe13"
    },
    {
      "cell_type": "markdown",
      "metadata": {},
      "source": [
        "This is just a taster of what can be done using base Python with few\n",
        "extra packages. For more, especially if you’ve done other chapters in\n",
        "the book already and want to go a bit deeper, see the Chapter on\n",
        "{ref}`code-advanced`. Otherwise, head on to the next chapter!"
      ],
      "id": "cd2a17c9-73dc-40fc-95ad-f4587ae46ada"
    }
  ],
  "nbformat": 4,
  "nbformat_minor": 5,
  "metadata": {
    "jupytext": {
      "cell_metadata_filter": "-all",
      "encoding": "# -- coding: utf-8 --",
      "formats": "md:myst",
      "main_language": "python"
    },
    "kernelspec": {
      "name": "python3",
      "display_name": "Python 3 (ipykernel)",
      "language": "python"
    },
    "language_info": {
      "name": "python",
      "codemirror_mode": {
        "name": "ipython",
        "version": "3"
      },
      "file_extension": ".py",
      "mimetype": "text/x-python",
      "nbconvert_exporter": "python",
      "pygments_lexer": "ipython3",
      "version": "3.12.8"
    }
  }
}