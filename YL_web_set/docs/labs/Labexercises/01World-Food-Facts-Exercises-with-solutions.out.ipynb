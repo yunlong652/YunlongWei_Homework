{
  "cells": [
    {
      "cell_type": "markdown",
      "metadata": {},
      "source": [
        "# Exercise 1\n",
        "\n",
        "### Step 1. Go to https://www.kaggle.com/openfoodfacts/world-food-facts/data\n",
        "\n",
        "### Step 2. Download the dataset to your computer and unzip it."
      ],
      "id": "49862bd3-bfe5-42ba-bb41-f11b194044a3"
    },
    {
      "cell_type": "code",
      "execution_count": 1,
      "metadata": {},
      "outputs": [],
      "source": [
        "import pandas as pd\n",
        "import numpy as np"
      ],
      "id": "cell-4"
    },
    {
      "cell_type": "markdown",
      "metadata": {},
      "source": [
        "### Step 3. Use the tsv file and assign it to a dataframe called food"
      ],
      "id": "261f6b59-ee3a-4384-846f-38bbada63da4"
    },
    {
      "cell_type": "code",
      "execution_count": 2,
      "metadata": {},
      "outputs": [
        {
          "output_type": "stream",
          "name": "stderr",
          "text": [
            "<>:1: SyntaxWarning: invalid escape sequence '\\Y'\n",
            "<>:1: SyntaxWarning: invalid escape sequence '\\Y'\n",
            "C:\\Users\\HP\\AppData\\Local\\Temp\\ipykernel_17532\\3941996746.py:1: SyntaxWarning: invalid escape sequence '\\Y'\n",
            "  food = pd.read_csv('E:\\Yang Fan\\Lab 1\\en.openfoodfacts.org.products.tsv', sep='\\t')\n",
            "C:\\Users\\HP\\AppData\\Local\\Temp\\ipykernel_17532\\3941996746.py:1: DtypeWarning: Columns (0,3,5,19,20,24,25,26,27,28,36,37,38,39,48) have mixed types. Specify dtype option on import or set low_memory=False.\n",
            "  food = pd.read_csv('E:\\Yang Fan\\Lab 1\\en.openfoodfacts.org.products.tsv', sep='\\t')"
          ]
        }
      ],
      "source": [
        "food = pd.read_csv('E:\\Yang Fan\\Lab 1\\en.openfoodfacts.org.products.tsv', sep='\\t')"
      ],
      "id": "cell-6"
    },
    {
      "cell_type": "markdown",
      "metadata": {},
      "source": [
        "### Step 4. See the first 5 entries"
      ],
      "id": "63adc31c-d698-4290-961f-bed66f750ac2"
    },
    {
      "cell_type": "code",
      "execution_count": 3,
      "metadata": {},
      "outputs": [
        {
          "output_type": "display_data",
          "metadata": {},
          "data": {
            "text/html": [
              "\n",
              "<p>5 rows × 163 columns</p>\n",
              "</div>"
            ]
          }
        }
      ],
      "source": [
        "food.head()"
      ],
      "id": "cell-8"
    },
    {
      "cell_type": "markdown",
      "metadata": {},
      "source": [
        "### Step 5. What is the number of observations in the dataset?"
      ],
      "id": "2c19427d-f1c0-45b6-ad86-2b30fd1fc0ad"
    },
    {
      "cell_type": "code",
      "execution_count": 4,
      "metadata": {},
      "outputs": [
        {
          "output_type": "display_data",
          "metadata": {},
          "data": {
            "text/plain": [
              "(356027, 163)"
            ]
          }
        }
      ],
      "source": [
        "food.shape"
      ],
      "id": "cell-10"
    },
    {
      "cell_type": "code",
      "execution_count": 5,
      "metadata": {},
      "outputs": [
        {
          "output_type": "display_data",
          "metadata": {},
          "data": {
            "text/plain": [
              "356027"
            ]
          }
        }
      ],
      "source": [
        "food.shape[0]"
      ],
      "id": "cell-11"
    },
    {
      "cell_type": "markdown",
      "metadata": {},
      "source": [
        "### Step 6. What is the number of columns in the dataset?"
      ],
      "id": "84a0ee4c-4fe2-4c1a-b6c5-d3e96d4bcec7"
    },
    {
      "cell_type": "code",
      "execution_count": 6,
      "metadata": {},
      "outputs": [
        {
          "output_type": "stream",
          "name": "stdout",
          "text": [
            "(356027, 163)\n",
            "163\n",
            "<class 'pandas.core.frame.DataFrame'>\n",
            "RangeIndex: 356027 entries, 0 to 356026\n",
            "Columns: 163 entries, code to water-hardness_100g\n",
            "dtypes: float64(107), object(56)\n",
            "memory usage: 442.8+ MB"
          ]
        }
      ],
      "source": [
        "print(food.shape) \n",
        "print(food.shape[1]) \n",
        "\n",
        "#OR\n",
        "\n",
        "food.info() "
      ],
      "id": "cell-13"
    },
    {
      "cell_type": "markdown",
      "metadata": {},
      "source": [
        "### Step 7. Print the name of all the columns."
      ],
      "id": "a7023ac3-4a9c-4961-a284-f12eb43ba2e6"
    },
    {
      "cell_type": "code",
      "execution_count": 7,
      "metadata": {},
      "outputs": [
        {
          "output_type": "display_data",
          "metadata": {},
          "data": {
            "text/plain": [
              "Index(['code', 'url', 'creator', 'created_t', 'created_datetime',\n",
              "       'last_modified_t', 'last_modified_datetime', 'product_name',\n",
              "       'generic_name', 'quantity',\n",
              "       ...\n",
              "       'fruits-vegetables-nuts_100g', 'fruits-vegetables-nuts-estimate_100g',\n",
              "       'collagen-meat-protein-ratio_100g', 'cocoa_100g', 'chlorophyl_100g',\n",
              "       'carbon-footprint_100g', 'nutrition-score-fr_100g',\n",
              "       'nutrition-score-uk_100g', 'glycemic-index_100g',\n",
              "       'water-hardness_100g'],\n",
              "      dtype='object', length=163)"
            ]
          }
        }
      ],
      "source": [
        "food.columns"
      ],
      "id": "cell-15"
    },
    {
      "cell_type": "markdown",
      "metadata": {},
      "source": [
        "### Step 8. What is the name of 105th column?"
      ],
      "id": "5cd6dc81-292f-467d-8937-f68da65b7dca"
    },
    {
      "cell_type": "code",
      "execution_count": 8,
      "metadata": {},
      "outputs": [
        {
          "output_type": "display_data",
          "metadata": {},
          "data": {
            "text/plain": [
              "'-glucose_100g'"
            ]
          }
        }
      ],
      "source": [
        "food.columns[104]"
      ],
      "id": "cell-17"
    },
    {
      "cell_type": "markdown",
      "metadata": {},
      "source": [
        "### Step 9. What is the type of the observations of the 105th column?"
      ],
      "id": "0d0e4b20-7363-4844-9473-216b664f486e"
    },
    {
      "cell_type": "code",
      "execution_count": 9,
      "metadata": {},
      "outputs": [
        {
          "output_type": "display_data",
          "metadata": {},
          "data": {
            "text/plain": [
              "dtype('float64')"
            ]
          }
        }
      ],
      "source": [
        "food.dtypes['-glucose_100g']"
      ],
      "id": "cell-19"
    },
    {
      "cell_type": "markdown",
      "metadata": {},
      "source": [
        "### Step 10. How is the dataset indexed?"
      ],
      "id": "804a2a25-eb6a-4b31-84cf-e3ec1b513527"
    },
    {
      "cell_type": "code",
      "execution_count": 10,
      "metadata": {},
      "outputs": [
        {
          "output_type": "display_data",
          "metadata": {},
          "data": {
            "text/plain": [
              "RangeIndex(start=0, stop=356027, step=1)"
            ]
          }
        }
      ],
      "source": [
        "food.index"
      ],
      "id": "cell-21"
    },
    {
      "cell_type": "markdown",
      "metadata": {},
      "source": [
        "### Step 11. What is the product name of the 19th observation?"
      ],
      "id": "4c855ed5-5c03-4386-abb8-5f20ee0348b2"
    },
    {
      "cell_type": "code",
      "execution_count": 11,
      "metadata": {},
      "outputs": [
        {
          "output_type": "display_data",
          "metadata": {},
          "data": {
            "text/plain": [
              "'Lotus Organic Brown Jasmine Rice'"
            ]
          }
        }
      ],
      "source": [
        "food.values[18][7]"
      ],
      "id": "cell-23"
    }
  ],
  "nbformat": 4,
  "nbformat_minor": 5,
  "metadata": {
    "anaconda-cloud": {},
    "kernelspec": {
      "name": "python3",
      "display_name": "base",
      "language": "python"
    },
    "language_info": {
      "name": "python",
      "codemirror_mode": {
        "name": "ipython",
        "version": "3"
      },
      "file_extension": ".py",
      "mimetype": "text/x-python",
      "nbconvert_exporter": "python",
      "pygments_lexer": "ipython3",
      "version": "3.12.7"
    }
  }
}