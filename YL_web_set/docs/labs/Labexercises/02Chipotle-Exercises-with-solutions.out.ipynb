{
  "cells": [
    {
      "cell_type": "markdown",
      "metadata": {},
      "source": [
        "# Ex1 - Filtering and Sorting Data\n",
        "\n",
        "This time we are going to pull data directly from the internet. Special\n",
        "thanks to: https://github.com/justmarkham for sharing the dataset and\n",
        "materials.\n",
        "\n",
        "### Step 1. Import the necessary libraries"
      ],
      "id": "a4ee2242-e56f-44eb-8027-35ad8412649a"
    },
    {
      "cell_type": "code",
      "execution_count": 10,
      "metadata": {},
      "outputs": [],
      "source": [
        "import pandas as pd"
      ],
      "id": "cell-3"
    },
    {
      "cell_type": "markdown",
      "metadata": {},
      "source": [
        "### Step 2. Import the dataset from this [address](https://raw.githubusercontent.com/justmarkham/DAT8/master/data/chipotle.tsv).\n",
        "\n",
        "### Step 3. Assign it to a variable called chipo."
      ],
      "id": "35c3a0c3-ae91-4291-9a11-8268425c9181"
    },
    {
      "cell_type": "code",
      "execution_count": 21,
      "metadata": {},
      "outputs": [],
      "source": [
        "url = 'https://raw.githubusercontent.com/justmarkham/DAT8/master/data/chipotle.tsv'\n",
        "\n",
        "chipo = pd.read_csv(url, sep = '\\t')"
      ],
      "id": "cell-6"
    },
    {
      "cell_type": "markdown",
      "metadata": {},
      "source": [
        "### Step 4. How many products cost more than \\$10.00?"
      ],
      "id": "71c54382-7039-44e4-84f4-80c250436fd8"
    },
    {
      "cell_type": "code",
      "execution_count": null,
      "metadata": {},
      "outputs": [
        {
          "output_type": "display_data",
          "metadata": {},
          "data": {
            "text/html": [
              "\n",
              "<p>1806 rows × 5 columns</p>\n",
              "</div>"
            ]
          }
        }
      ],
      "source": [
        "\n",
        "prices = [float(value[1 : -1]) for value in chipo.item_price]\n",
        "\n",
        "chipo.item_price = prices\n",
        "\n",
        "chipo_filtered = chipo.drop_duplicates(['item_name','quantity','choice_description'])\n",
        "\n",
        "chipo_one_prod = chipo_filtered[chipo_filtered.quantity == 1]\n",
        "chipo_one_prod\n"
      ],
      "id": "cell-8"
    },
    {
      "cell_type": "code",
      "execution_count": 23,
      "metadata": {},
      "outputs": [
        {
          "output_type": "display_data",
          "metadata": {},
          "data": {
            "text/plain": [
              "31"
            ]
          }
        }
      ],
      "source": [
        "chipo.query('item_price > 10').item_name.nunique()"
      ],
      "id": "cell-9"
    },
    {
      "cell_type": "markdown",
      "metadata": {},
      "source": [
        "### Step 5. What is the price of each item?\n",
        "\n",
        "###### print a data frame with only two columns item_name and item_price"
      ],
      "id": "7f6a0a01-c3ac-4c2c-be16-b30e97de6153"
    },
    {
      "cell_type": "code",
      "execution_count": null,
      "metadata": {},
      "outputs": [
        {
          "output_type": "display_data",
          "metadata": {},
          "data": {
            "text/html": [
              "\n",
              "</div>"
            ]
          }
        }
      ],
      "source": [
        "\n",
        "chipo_filtered = chipo.drop_duplicates(['item_name','quantity'])\n",
        "\n",
        "chipo[(chipo['item_name'] == 'Chicken Bowl') & (chipo['quantity'] == 1)]\n",
        "\n",
        "chipo_one_prod = chipo_filtered[chipo_filtered.quantity == 1]\n",
        "\n",
        "price_per_item = chipo_one_prod[['item_name', 'item_price']]\n",
        "\n",
        "price_per_item.sort_values(by = \"item_price\", ascending = False).head(20)"
      ],
      "id": "cell-11"
    },
    {
      "cell_type": "markdown",
      "metadata": {},
      "source": [
        "### Step 6. Sort by the name of the item"
      ],
      "id": "99c0d49a-195a-4eaf-ac0f-efc995d9a7e3"
    },
    {
      "cell_type": "code",
      "execution_count": 26,
      "metadata": {},
      "outputs": [
        {
          "output_type": "display_data",
          "metadata": {},
          "data": {
            "text/html": [
              "\n",
              "<p>4622 rows × 5 columns</p>\n",
              "</div>"
            ]
          }
        }
      ],
      "source": [
        "chipo.item_name.sort_values()\n",
        "\n",
        "# OR\n",
        "\n",
        "chipo.sort_values(by = \"item_name\")"
      ],
      "id": "cell-13"
    },
    {
      "cell_type": "markdown",
      "metadata": {},
      "source": [
        "### Step 7. What was the quantity of the most expensive item ordered?"
      ],
      "id": "4f1cc3d2-a8cb-4baa-856f-6d7e44b73440"
    },
    {
      "cell_type": "code",
      "execution_count": 27,
      "metadata": {},
      "outputs": [
        {
          "output_type": "display_data",
          "metadata": {},
          "data": {
            "text/html": [
              "\n",
              "</div>"
            ]
          }
        }
      ],
      "source": [
        "chipo.sort_values(by = \"item_price\", ascending = False).head(1)"
      ],
      "id": "cell-15"
    },
    {
      "cell_type": "markdown",
      "metadata": {},
      "source": [
        "### Step 8. How many times was a Veggie Salad Bowl ordered?"
      ],
      "id": "251da192-c13c-44db-9f53-ea321dd7b025"
    },
    {
      "cell_type": "code",
      "execution_count": 28,
      "metadata": {},
      "outputs": [
        {
          "output_type": "display_data",
          "metadata": {},
          "data": {
            "text/plain": [
              "18"
            ]
          }
        }
      ],
      "source": [
        "chipo_salad = chipo[chipo.item_name == \"Veggie Salad Bowl\"]\n",
        "# chipo_salad = chipo.query('item_name == \"Veggie Salad Bowl\"')\n",
        "\n",
        "len(chipo_salad)"
      ],
      "id": "cell-17"
    },
    {
      "cell_type": "markdown",
      "metadata": {},
      "source": [
        "### Step 9. How many times did someone order more than one Canned Soda?"
      ],
      "id": "2e5680c0-e9af-4680-95db-2d05e7232230"
    },
    {
      "cell_type": "code",
      "execution_count": 29,
      "metadata": {},
      "outputs": [
        {
          "output_type": "display_data",
          "metadata": {},
          "data": {
            "text/plain": [
              "20"
            ]
          }
        }
      ],
      "source": [
        "chipo_drink_steak_bowl = chipo[(chipo.item_name == \"Canned Soda\") & (chipo.quantity > 1)]\n",
        "# chipo_drink_steak_bowl = chipo.query('item_name == \"Canned Soda\" & quantity > 1')\n",
        "\n",
        "len(chipo_drink_steak_bowl)"
      ],
      "id": "cell-19"
    }
  ],
  "nbformat": 4,
  "nbformat_minor": 5,
  "metadata": {
    "kernelspec": {
      "name": "python3",
      "display_name": "base",
      "language": "python"
    },
    "language_info": {
      "name": "python",
      "codemirror_mode": {
        "name": "ipython",
        "version": "3"
      },
      "file_extension": ".py",
      "mimetype": "text/x-python",
      "nbconvert_exporter": "python",
      "pygments_lexer": "ipython3",
      "version": "3.12.7"
    }
  }
}