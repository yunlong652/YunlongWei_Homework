{
  "cells": [
    {
      "cell_type": "markdown",
      "metadata": {},
      "source": [
        "#"
      ],
      "id": "0e22e8b4-18b7-420d-ad9d-801b4a145342"
    },
    {
      "cell_type": "code",
      "execution_count": 1,
      "metadata": {},
      "outputs": [
        {
          "output_type": "stream",
          "name": "stdout",
          "text": [
            "Requirement already satisfied: lets-plot in c:\\users\\hp\\anaconda3\\lib\\site-packages (4.5.1)\n",
            "Requirement already satisfied: pypng in c:\\users\\hp\\anaconda3\\lib\\site-packages (from lets-plot) (0.20220715.0)\n",
            "Requirement already satisfied: palettable in c:\\users\\hp\\anaconda3\\lib\\site-packages (from lets-plot) (3.3.3)\n",
            "Note: you may need to restart the kernel to use updated packages."
          ]
        }
      ],
      "source": [
        "%pip install lets-plot"
      ],
      "id": "cell-0"
    },
    {
      "cell_type": "code",
      "execution_count": 1,
      "metadata": {},
      "outputs": [],
      "source": [
        "from lets_plot import *"
      ],
      "id": "cell-1"
    },
    {
      "cell_type": "code",
      "execution_count": 9,
      "metadata": {},
      "outputs": [
        {
          "output_type": "display_data",
          "metadata": {},
          "data": {
            "text/html": [
              "\n",
              "            <div id=\"c0v2XI\"></div>\n",
              "            <script type=\"text/javascript\" data-lets-plot-script=\"library\">\n",
              "                if(!window.letsPlotCallQueue) {\n",
              "                    window.letsPlotCallQueue = [];\n",
              "                }; \n",
              "                window.letsPlotCall = function(f) {\n",
              "                    window.letsPlotCallQueue.push(f);\n",
              "                };\n",
              "                (function() {\n",
              "                    var script = document.createElement(\"script\");\n",
              "                    script.type = \"text/javascript\";\n",
              "                    script.src = \"https://cdn.jsdelivr.net/gh/JetBrains/lets-plot@v4.5.1/js-package/distr/lets-plot.min.js\";\n",
              "                    script.onload = function() {\n",
              "                        window.letsPlotCall = function(f) {f();};\n",
              "                        window.letsPlotCallQueue.forEach(function(f) {f();});\n",
              "                        window.letsPlotCallQueue = [];\n",
              "                        \n",
              "                    };\n",
              "                    script.onerror = function(event) {\n",
              "                        window.letsPlotCall = function(f) {};    // noop\n",
              "                        window.letsPlotCallQueue = [];\n",
              "                        var div = document.createElement(\"div\");\n",
              "                        div.style.color = 'darkred';\n",
              "                        div.textContent = 'Error loading Lets-Plot JS';\n",
              "                        document.getElementById(\"c0v2XI\").appendChild(div);\n",
              "                    };\n",
              "                    var e = document.getElementById(\"c0v2XI\");\n",
              "                    e.appendChild(script);\n",
              "                })()\n",
              "            </script>\n",
              "            "
            ]
          }
        }
      ],
      "source": [
        "LetsPlot.setup_html()"
      ],
      "id": "cell-2"
    },
    {
      "cell_type": "code",
      "execution_count": 7,
      "metadata": {},
      "outputs": [
        {
          "output_type": "display_data",
          "metadata": {},
          "data": {
            "image/png": "[encoded data removed]"
          }
        }
      ],
      "source": [
        "import matplotlib.pyplot as plt\n",
        "\n",
        "x = [1, 2, 3, 4, 5]\n",
        "y = [2, 4, 1, 3, 5]\n",
        "plt.plot(x, y)\n",
        "plt.show()"
      ],
      "id": "cell-3"
    },
    {
      "cell_type": "code",
      "execution_count": 10,
      "metadata": {},
      "outputs": [
        {
          "output_type": "display_data",
          "metadata": {},
          "data": {
            "text/html": [
              "   <div id=\"LmAouy\"></div>\n",
              "   <script type=\"text/javascript\" data-lets-plot-script=\"plot\">\n",
              "   \n",
              "   (function() {\n",
              "   // ----------\n",
              "   \n",
              "   var containerDiv = document.getElementById(\"LmAouy\");\n",
              "   var observer = new ResizeObserver(function(entries) {\n",
              "       for (let entry of entries) {\n",
              "           var width = containerDiv.clientWidth\n",
              "           if (entry.contentBoxSize && width > 0) {\n",
              "           \n",
              "               // Render plot\n",
              "               if (observer) {\n",
              "                   observer.disconnect();\n",
              "                   observer = null;\n",
              "               }\n",
              "\n",
              "               var plotSpec={\n",
              "\"data\":{\n",
              "\"x\":[1.0,2.0,3.0,4.0,5.0],\n",
              "\"y\":[2.0,4.0,1.0,3.0,5.0]\n",
              "},\n",
              "\"mapping\":{\n",
              "\"x\":\"x\",\n",
              "\"y\":\"y\"\n",
              "},\n",
              "\"data_meta\":{\n",
              "\"series_annotations\":[{\n",
              "\"type\":\"int\",\n",
              "\"column\":\"x\"\n",
              "},{\n",
              "\"type\":\"int\",\n",
              "\"column\":\"y\"\n",
              "}]\n",
              "},\n",
              "\"kind\":\"plot\",\n",
              "\"scales\":[],\n",
              "\"layers\":[{\n",
              "\"geom\":\"line\",\n",
              "\"mapping\":{\n",
              "},\n",
              "\"data_meta\":{\n",
              "},\n",
              "\"data\":{\n",
              "}\n",
              "}],\n",
              "\"metainfo_list\":[],\n",
              "\"spec_id\":\"1\"\n",
              "};\n",
              "               window.letsPlotCall(function() {\n",
              "       \n",
              "               var toolbar = null;\n",
              "               var plotContainer = containerDiv;               \n",
              "               \n",
              "                   var options = {\n",
              "                       sizing: {\n",
              "                           width_mode: \"min\",\n",
              "                           height_mode: \"scaled\",\n",
              "                           width: width\n",
              "                       }\n",
              "                   };\n",
              "                   var fig = LetsPlot.buildPlotFromProcessedSpecs(plotSpec, -1, -1, plotContainer, options);\n",
              "                   if (toolbar) {\n",
              "                     toolbar.bind(fig);\n",
              "                   }\n",
              "               });\n",
              "               \n",
              "               break;\n",
              "           }\n",
              "       }\n",
              "   });\n",
              "   \n",
              "   observer.observe(containerDiv);\n",
              "   \n",
              "   // ----------\n",
              "   })();\n",
              "   \n",
              "   </script>"
            ]
          }
        }
      ],
      "source": [
        "import pandas as pd\n",
        "from lets_plot import *\n",
        "\n",
        "data = {\n",
        "    'x': [1, 2, 3, 4, 5],\n",
        "    'y': [2, 4, 1, 3, 5]\n",
        "}\n",
        "df = pd.DataFrame(data)\n",
        "\n",
        "ggplot(df, aes(x='x', y='y')) + geom_line()"
      ],
      "id": "cell-4"
    },
    {
      "cell_type": "code",
      "execution_count": 12,
      "metadata": {},
      "outputs": [
        {
          "output_type": "display_data",
          "metadata": {},
          "data": {
            "image/png": "[encoded data removed]"
          }
        }
      ],
      "source": [
        "import matplotlib.pyplot as plt\n",
        "\n",
        "x = [1, 2, 3, 4, 5]\n",
        "y = [2, 4, 1, 3, 5]\n",
        "plt.scatter(x, y)\n",
        "plt.show()"
      ],
      "id": "cell-5"
    },
    {
      "cell_type": "code",
      "execution_count": 13,
      "metadata": {},
      "outputs": [
        {
          "output_type": "display_data",
          "metadata": {},
          "data": {
            "text/html": [
              "   <div id=\"oldtWA\"></div>\n",
              "   <script type=\"text/javascript\" data-lets-plot-script=\"plot\">\n",
              "   \n",
              "   (function() {\n",
              "   // ----------\n",
              "   \n",
              "   var containerDiv = document.getElementById(\"oldtWA\");\n",
              "   var observer = new ResizeObserver(function(entries) {\n",
              "       for (let entry of entries) {\n",
              "           var width = containerDiv.clientWidth\n",
              "           if (entry.contentBoxSize && width > 0) {\n",
              "           \n",
              "               // Render plot\n",
              "               if (observer) {\n",
              "                   observer.disconnect();\n",
              "                   observer = null;\n",
              "               }\n",
              "\n",
              "               var plotSpec={\n",
              "\"data\":{\n",
              "\"x\":[1.0,2.0,3.0,4.0,5.0],\n",
              "\"y\":[2.0,4.0,1.0,3.0,5.0]\n",
              "},\n",
              "\"mapping\":{\n",
              "\"x\":\"x\",\n",
              "\"y\":\"y\"\n",
              "},\n",
              "\"data_meta\":{\n",
              "\"series_annotations\":[{\n",
              "\"type\":\"int\",\n",
              "\"column\":\"x\"\n",
              "},{\n",
              "\"type\":\"int\",\n",
              "\"column\":\"y\"\n",
              "}]\n",
              "},\n",
              "\"kind\":\"plot\",\n",
              "\"scales\":[],\n",
              "\"layers\":[{\n",
              "\"geom\":\"bar\",\n",
              "\"stat\":\"identity\",\n",
              "\"mapping\":{\n",
              "},\n",
              "\"data_meta\":{\n",
              "},\n",
              "\"data\":{\n",
              "}\n",
              "}],\n",
              "\"metainfo_list\":[],\n",
              "\"spec_id\":\"3\"\n",
              "};\n",
              "               window.letsPlotCall(function() {\n",
              "       \n",
              "               var toolbar = null;\n",
              "               var plotContainer = containerDiv;               \n",
              "               \n",
              "                   var options = {\n",
              "                       sizing: {\n",
              "                           width_mode: \"min\",\n",
              "                           height_mode: \"scaled\",\n",
              "                           width: width\n",
              "                       }\n",
              "                   };\n",
              "                   var fig = LetsPlot.buildPlotFromProcessedSpecs(plotSpec, -1, -1, plotContainer, options);\n",
              "                   if (toolbar) {\n",
              "                     toolbar.bind(fig);\n",
              "                   }\n",
              "               });\n",
              "               \n",
              "               break;\n",
              "           }\n",
              "       }\n",
              "   });\n",
              "   \n",
              "   observer.observe(containerDiv);\n",
              "   \n",
              "   // ----------\n",
              "   })();\n",
              "   \n",
              "   </script>"
            ]
          }
        }
      ],
      "source": [
        "import pandas as pd\n",
        "from lets_plot import *\n",
        "\n",
        "data = {\n",
        "    'x': [1, 2, 3, 4, 5],\n",
        "    'y': [2, 4, 1, 3, 5]\n",
        "}\n",
        "df = pd.DataFrame(data)\n",
        "\n",
        "ggplot(df, aes(x='x', y='y')) + geom_bar(stat='identity')"
      ],
      "id": "cell-6"
    },
    {
      "cell_type": "code",
      "execution_count": 14,
      "metadata": {},
      "outputs": [
        {
          "output_type": "display_data",
          "metadata": {},
          "data": {
            "image/png": "[encoded data removed]"
          }
        }
      ],
      "source": [
        "import matplotlib.pyplot as plt\n",
        "\n",
        "x = [1, 2, 3, 4, 5]\n",
        "y = [2, 4, 1, 3, 5]\n",
        "plt.bar(x, y)\n",
        "plt.show()"
      ],
      "id": "cell-7"
    },
    {
      "cell_type": "code",
      "execution_count": 15,
      "metadata": {},
      "outputs": [
        {
          "output_type": "display_data",
          "metadata": {},
          "data": {
            "image/png": "[encoded data removed]"
          }
        }
      ],
      "source": [
        "import matplotlib.pyplot as plt\n",
        "\n",
        "x = [1, 2, 3, 4, 5]\n",
        "plt.hist(x, bins=5)\n",
        "plt.show()"
      ],
      "id": "cell-8"
    },
    {
      "cell_type": "code",
      "execution_count": 16,
      "metadata": {},
      "outputs": [
        {
          "output_type": "display_data",
          "metadata": {},
          "data": {
            "image/png": "[encoded data removed]"
          }
        }
      ],
      "source": [
        "import matplotlib.pyplot as plt\n",
        "\n",
        "x = [1, 2, 3, 4, 5]\n",
        "plt.boxplot(x)\n",
        "plt.show()"
      ],
      "id": "cell-9"
    }
  ],
  "nbformat": 4,
  "nbformat_minor": 5,
  "metadata": {
    "kernelspec": {
      "name": "python3",
      "display_name": "base",
      "language": "python"
    },
    "language_info": {
      "name": "python",
      "codemirror_mode": {
        "name": "ipython",
        "version": "3"
      },
      "file_extension": ".py",
      "mimetype": "text/x-python",
      "nbconvert_exporter": "python",
      "pygments_lexer": "ipython3",
      "version": "3.12.7"
    }
  }
}