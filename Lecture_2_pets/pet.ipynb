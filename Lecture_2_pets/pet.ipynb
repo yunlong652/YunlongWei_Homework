{
 "cells": [
  {
   "cell_type": "code",
   "execution_count": 1,
   "metadata": {},
   "outputs": [],
   "source": [
    "import pandas as pd\n",
    "import matplotlib.pyplot as plt"
   ]
  },
  {
   "cell_type": "code",
   "execution_count": 3,
   "metadata": {},
   "outputs": [],
   "source": [
    "df = pd.read_csv('/Users/apple/Desktop/archive/seattle_pet_licenses.csv')"
   ]
  },
  {
   "cell_type": "code",
   "execution_count": 4,
   "metadata": {},
   "outputs": [
    {
     "name": "stdout",
     "output_type": "stream",
     "text": [
      "      animal_s_name       license_issue_date  license_number  \\\n",
      "0              Ozzy  2005-03-29T00:00:00.000        130651.0   \n",
      "1              Jack  2009-12-23T00:00:00.000        898148.0   \n",
      "2            Ginger  2006-01-20T00:00:00.000         29654.0   \n",
      "3            Pepper  2006-02-07T00:00:00.000         75432.0   \n",
      "4              Addy  2006-08-04T00:00:00.000        729899.0   \n",
      "...             ...                      ...             ...   \n",
      "66037          Lily  2016-12-27T00:00:00.000             NaN   \n",
      "66038         Ellie  2016-11-29T00:00:00.000             NaN   \n",
      "66039         Sammy  2016-12-05T00:00:00.000             NaN   \n",
      "66040         Buddy  2016-12-06T00:00:00.000             NaN   \n",
      "66041           Aku  2016-12-07T00:00:00.000             NaN   \n",
      "\n",
      "                           primary_breed      secondary_breed species zip_code  \n",
      "0      Dachshund, Standard Smooth Haired                  NaN     Dog    98104  \n",
      "1                   Schnauzer, Miniature         Terrier, Rat     Dog    98107  \n",
      "2                      Retriever, Golden  Retriever, Labrador     Dog    98117  \n",
      "3                                   Manx                  Mix     Cat    98103  \n",
      "4                      Retriever, Golden                  NaN     Dog    98105  \n",
      "...                                  ...                  ...     ...      ...  \n",
      "66037                 Domestic Shorthair                  Mix     Cat    98117  \n",
      "66038                    German Shepherd                  Mix     Dog    98105  \n",
      "66039                            Terrier              Maltese     Dog    98105  \n",
      "66040                        Bullmastiff                  Mix     Dog    98105  \n",
      "66041              Chihuahua, Short Coat              Terrier     Dog    98106  \n",
      "\n",
      "[66042 rows x 7 columns]\n"
     ]
    }
   ],
   "source": [
    "print(df)"
   ]
  },
  {
   "cell_type": "code",
   "execution_count": 6,
   "metadata": {},
   "outputs": [
    {
     "name": "stdout",
     "output_type": "stream",
     "text": [
      "<class 'pandas.core.frame.DataFrame'>\n",
      "RangeIndex: 66042 entries, 0 to 66041\n",
      "Data columns (total 7 columns):\n",
      " #   Column              Non-Null Count  Dtype  \n",
      "---  ------              --------------  -----  \n",
      " 0   animal_s_name       64685 non-null  object \n",
      " 1   license_issue_date  66042 non-null  object \n",
      " 2   license_number      43885 non-null  float64\n",
      " 3   primary_breed       66042 non-null  object \n",
      " 4   secondary_breed     22538 non-null  object \n",
      " 5   species             66042 non-null  object \n",
      " 6   zip_code            65884 non-null  object \n",
      "dtypes: float64(1), object(6)\n",
      "memory usage: 3.5+ MB\n",
      "None\n"
     ]
    }
   ],
   "source": [
    "infor_df = df.info()\n",
    "\n",
    "print(infor_df)"
   ]
  },
  {
   "cell_type": "code",
   "execution_count": 5,
   "metadata": {},
   "outputs": [
    {
     "name": "stdout",
     "output_type": "stream",
     "text": [
      "animal_s_name\n",
      "Lucy       566\n",
      "Bella      451\n",
      "Charlie    447\n",
      "Max        374\n",
      "Luna       361\n",
      "          ... \n",
      "Finigan      1\n",
      "Liame        1\n",
      "Hitler       1\n",
      "Rustie       1\n",
      "Chino        1\n",
      "Name: count, Length: 15795, dtype: int64\n"
     ]
    }
   ],
   "source": [
    "top_three_ani = df['animal_s_name'].value_counts()\n",
    "\n",
    "print(top_three_ani)"
   ]
  }
 ],
 "metadata": {
  "kernelspec": {
   "display_name": "Python 3",
   "language": "python",
   "name": "python3"
  },
  "language_info": {
   "codemirror_mode": {
    "name": "ipython",
    "version": 3
   },
   "file_extension": ".py",
   "mimetype": "text/x-python",
   "name": "python",
   "nbconvert_exporter": "python",
   "pygments_lexer": "ipython3",
   "version": "3.13.0"
  }
 },
 "nbformat": 4,
 "nbformat_minor": 2
}
