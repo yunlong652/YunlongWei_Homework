{
  "cells": [
    {
      "cell_type": "markdown",
      "metadata": {},
      "source": [
        "# Ex2 - Filtering and Sorting Data\n",
        "\n",
        "This time we are going to pull data directly from the internet.\n",
        "\n",
        "### Step 1. Import the necessary libraries"
      ],
      "id": "bcf10db9-3dec-4333-bfa3-2e0407125aeb"
    },
    {
      "cell_type": "code",
      "execution_count": 1,
      "metadata": {},
      "outputs": [],
      "source": [
        "import pandas as pd"
      ],
      "id": "cell-3"
    },
    {
      "cell_type": "markdown",
      "metadata": {},
      "source": [
        "### Step 2. Import the dataset from this [address](https://raw.githubusercontent.com/guipsamora/pandas_exercises/master/02_Filtering_%26_Sorting/Euro12/Euro_2012_stats_TEAM.csv).\n",
        "\n",
        "### Step 3. Assign it to a variable called euro12."
      ],
      "id": "49e8a0f0-567a-4238-91c1-0ec282174067"
    },
    {
      "cell_type": "code",
      "execution_count": 2,
      "metadata": {},
      "outputs": [
        {
          "output_type": "display_data",
          "metadata": {},
          "data": {
            "text/html": [
              "\n",
              "<p>16 rows × 35 columns</p>\n",
              "</div>"
            ]
          }
        }
      ],
      "source": [
        "euro12 = pd.read_csv('https://raw.githubusercontent.com/guipsamora/pandas_exercises/master/02_Filtering_%26_Sorting/Euro12/Euro_2012_stats_TEAM.csv', sep=',')\n",
        "euro12"
      ],
      "id": "cell-6"
    },
    {
      "cell_type": "markdown",
      "metadata": {},
      "source": [
        "### Step 4. Select only the Goal column."
      ],
      "id": "5a1a2064-fb52-4ee1-8ee3-d944150381fb"
    },
    {
      "cell_type": "code",
      "execution_count": 3,
      "metadata": {},
      "outputs": [
        {
          "output_type": "display_data",
          "metadata": {},
          "data": {
            "text/plain": [
              "0      4\n",
              "1      4\n",
              "2      4\n",
              "3      5\n",
              "4      3\n",
              "5     10\n",
              "6      5\n",
              "7      6\n",
              "8      2\n",
              "9      2\n",
              "10     6\n",
              "11     1\n",
              "12     5\n",
              "13    12\n",
              "14     5\n",
              "15     2\n",
              "Name: Goals, dtype: int64"
            ]
          }
        }
      ],
      "source": [
        "euro12.Goals"
      ],
      "id": "cell-8"
    },
    {
      "cell_type": "markdown",
      "metadata": {},
      "source": [
        "### Step 5. How many team participated in the Euro2012?"
      ],
      "id": "a9c820c5-5672-482a-801b-05ad1a0e8550"
    },
    {
      "cell_type": "code",
      "execution_count": 4,
      "metadata": {},
      "outputs": [
        {
          "output_type": "display_data",
          "metadata": {},
          "data": {
            "text/plain": [
              "16"
            ]
          }
        }
      ],
      "source": [
        "euro12.shape[0]"
      ],
      "id": "cell-10"
    },
    {
      "cell_type": "markdown",
      "metadata": {},
      "source": [
        "### Step 6. What is the number of columns in the dataset?"
      ],
      "id": "e2944815-adcd-4c6a-a0b9-f1fbfaddfce3"
    },
    {
      "cell_type": "code",
      "execution_count": 5,
      "metadata": {},
      "outputs": [
        {
          "output_type": "stream",
          "name": "stdout",
          "text": [
            "<class 'pandas.core.frame.DataFrame'>\n",
            "RangeIndex: 16 entries, 0 to 15\n",
            "Data columns (total 35 columns):\n",
            " #   Column                      Non-Null Count  Dtype  \n",
            "---  ------                      --------------  -----  \n",
            " 0   Team                        16 non-null     object \n",
            " 1   Goals                       16 non-null     int64  \n",
            " 2   Shots on target             16 non-null     int64  \n",
            " 3   Shots off target            16 non-null     int64  \n",
            " 4   Shooting Accuracy           16 non-null     object \n",
            " 5   % Goals-to-shots            16 non-null     object \n",
            " 6   Total shots (inc. Blocked)  16 non-null     int64  \n",
            " 7   Hit Woodwork                16 non-null     int64  \n",
            " 8   Penalty goals               16 non-null     int64  \n",
            " 9   Penalties not scored        16 non-null     int64  \n",
            " 10  Headed goals                16 non-null     int64  \n",
            " 11  Passes                      16 non-null     int64  \n",
            " 12  Passes completed            16 non-null     int64  \n",
            " 13  Passing Accuracy            16 non-null     object \n",
            " 14  Touches                     16 non-null     int64  \n",
            " 15  Crosses                     16 non-null     int64  \n",
            " 16  Dribbles                    16 non-null     int64  \n",
            " 17  Corners Taken               16 non-null     int64  \n",
            " 18  Tackles                     16 non-null     int64  \n",
            " 19  Clearances                  16 non-null     int64  \n",
            " 20  Interceptions               16 non-null     int64  \n",
            " 21  Clearances off line         15 non-null     float64\n",
            " 22  Clean Sheets                16 non-null     int64  \n",
            " 23  Blocks                      16 non-null     int64  \n",
            " 24  Goals conceded              16 non-null     int64  \n",
            " 25  Saves made                  16 non-null     int64  \n",
            " 26  Saves-to-shots ratio        16 non-null     object \n",
            " 27  Fouls Won                   16 non-null     int64  \n",
            " 28  Fouls Conceded              16 non-null     int64  \n",
            " 29  Offsides                    16 non-null     int64  \n",
            " 30  Yellow Cards                16 non-null     int64  \n",
            " 31  Red Cards                   16 non-null     int64  \n",
            " 32  Subs on                     16 non-null     int64  \n",
            " 33  Subs off                    16 non-null     int64  \n",
            " 34  Players Used                16 non-null     int64  \n",
            "dtypes: float64(1), int64(29), object(5)\n",
            "memory usage: 4.5+ KB"
          ]
        }
      ],
      "source": [
        "euro12.info()"
      ],
      "id": "cell-12"
    },
    {
      "cell_type": "markdown",
      "metadata": {},
      "source": [
        "### Step 7. View only the columns Team, Yellow Cards and Red Cards and assign them to a dataframe called discipline"
      ],
      "id": "37452842-cbd0-4c5f-8807-30a59eaa8fa3"
    },
    {
      "cell_type": "code",
      "execution_count": 7,
      "metadata": {},
      "outputs": [
        {
          "output_type": "display_data",
          "metadata": {},
          "data": {
            "text/html": [
              "\n",
              "</div>"
            ]
          }
        }
      ],
      "source": [
        "discipline = euro12[['Team', 'Yellow Cards', 'Red Cards']]\n",
        "discipline"
      ],
      "id": "cell-14"
    },
    {
      "cell_type": "markdown",
      "metadata": {},
      "source": [
        "### Step 8. Sort the teams by Red Cards, then to Yellow Cards"
      ],
      "id": "308d04c0-87bd-4f57-87d4-6ca296582c2c"
    },
    {
      "cell_type": "code",
      "execution_count": 8,
      "metadata": {
        "scrolled": true
      },
      "outputs": [
        {
          "output_type": "display_data",
          "metadata": {},
          "data": {
            "text/html": [
              "\n",
              "</div>"
            ]
          }
        }
      ],
      "source": [
        "discipline.sort_values(['Red Cards', 'Yellow Cards'], ascending = False)"
      ],
      "id": "cell-16"
    },
    {
      "cell_type": "markdown",
      "metadata": {},
      "source": [
        "### Step 9. Calculate the mean Yellow Cards given per Team"
      ],
      "id": "93876cde-3fcc-4b97-9f73-29e55c39fc90"
    },
    {
      "cell_type": "code",
      "execution_count": 9,
      "metadata": {},
      "outputs": [
        {
          "output_type": "display_data",
          "metadata": {},
          "data": {
            "text/plain": [
              "7"
            ]
          }
        }
      ],
      "source": [
        "\n",
        "round(discipline['Yellow Cards'].mean())"
      ],
      "id": "cell-18"
    },
    {
      "cell_type": "markdown",
      "metadata": {},
      "source": [
        "### Step 10. Filter teams that scored more than 6 goals"
      ],
      "id": "40ad92de-681a-427a-ad82-7cdf61e7af7a"
    },
    {
      "cell_type": "code",
      "execution_count": 10,
      "metadata": {},
      "outputs": [
        {
          "output_type": "display_data",
          "metadata": {},
          "data": {
            "text/html": [
              "\n",
              "<p>2 rows × 35 columns</p>\n",
              "</div>"
            ]
          }
        }
      ],
      "source": [
        "euro12[euro12.Goals > 6]"
      ],
      "id": "cell-20"
    },
    {
      "cell_type": "markdown",
      "metadata": {},
      "source": [
        "### Step 11. Select the teams that start with G"
      ],
      "id": "daac1630-eeb2-4ff0-99dc-53143d8d92f4"
    },
    {
      "cell_type": "code",
      "execution_count": 11,
      "metadata": {},
      "outputs": [
        {
          "output_type": "display_data",
          "metadata": {},
          "data": {
            "text/html": [
              "\n",
              "<p>2 rows × 35 columns</p>\n",
              "</div>"
            ]
          }
        }
      ],
      "source": [
        "euro12[euro12.Team.str.startswith('G')]"
      ],
      "id": "cell-22"
    },
    {
      "cell_type": "markdown",
      "metadata": {},
      "source": [
        "### Step 12. Select the first 7 columns"
      ],
      "id": "0b43e507-9657-499a-a49e-82b99735c5fb"
    },
    {
      "cell_type": "code",
      "execution_count": 12,
      "metadata": {},
      "outputs": [
        {
          "output_type": "display_data",
          "metadata": {},
          "data": {
            "text/html": [
              "\n",
              "</div>"
            ]
          }
        }
      ],
      "source": [
        "euro12.iloc[: , 0:7]"
      ],
      "id": "cell-24"
    },
    {
      "cell_type": "markdown",
      "metadata": {},
      "source": [
        "### Step 13. Select all columns except the last 3."
      ],
      "id": "e72ed50d-0209-4df7-aafc-fe46dfa4a4ee"
    },
    {
      "cell_type": "code",
      "execution_count": 13,
      "metadata": {},
      "outputs": [
        {
          "output_type": "display_data",
          "metadata": {},
          "data": {
            "text/html": [
              "\n",
              "<p>16 rows × 32 columns</p>\n",
              "</div>"
            ]
          }
        }
      ],
      "source": [
        "euro12.iloc[: , :-3]"
      ],
      "id": "cell-26"
    },
    {
      "cell_type": "markdown",
      "metadata": {},
      "source": [
        "### Step 14. Present only the Shooting Accuracy from England, Italy and Russia"
      ],
      "id": "a2bfdbc4-9493-4faf-a647-c9b55ae0280d"
    },
    {
      "cell_type": "code",
      "execution_count": 14,
      "metadata": {},
      "outputs": [
        {
          "output_type": "display_data",
          "metadata": {},
          "data": {
            "text/html": [
              "\n",
              "</div>"
            ]
          }
        }
      ],
      "source": [
        "euro12.loc[euro12.Team.isin(['England', 'Italy', 'Russia']), ['Team','Shooting Accuracy']]"
      ],
      "id": "cell-28"
    }
  ],
  "nbformat": 4,
  "nbformat_minor": 5,
  "metadata": {
    "anaconda-cloud": {},
    "kernelspec": {
      "name": "python3",
      "display_name": "base",
      "language": "python"
    },
    "language_info": {
      "name": "python",
      "codemirror_mode": {
        "name": "ipython",
        "version": "3"
      },
      "file_extension": ".py",
      "mimetype": "text/x-python",
      "nbconvert_exporter": "python",
      "pygments_lexer": "ipython3",
      "version": "3.12.7"
    }
  }
}